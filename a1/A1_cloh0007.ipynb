{
 "cells": [
  {
   "cell_type": "markdown",
   "metadata": {},
   "source": [
    "# FIT5202 Assignment 1 : Retail Analysis  Solution\n",
    "\n",
    "## Table of Contents\n",
    "* \n",
    "    * [Part 1 : Working with RDD](#part-1)\n",
    "        * [1.1 Data Preparation and Loading](#1.1)\n",
    "        * [1.2 Data Partitioning in RDD](#1.2)\n",
    "        * [1.3 Query/Analysis](#1.3)\n",
    "    * [Part 2 : Working with DataFrames](#2-dataframes)\n",
    "        * [2.1 Data Preparation and Loading](#2-dataframes)\n",
    "        * [2.2 Query/Analysis](#2.2)\n",
    "    * [Part 3 :  RDDs vs DataFrame vs Spark SQL](#part-3)"
   ]
  },
  {
   "cell_type": "markdown",
   "metadata": {},
   "source": [
    "# Part 1 : Working with RDDs <a class=\"anchor\" name=\"part-1\"></a>\n",
    "## 1. Working with RDD\n",
    "In this section, you will need to create RDDs from the given datasets, perform partitioning in these RDDs and use various RDD operations to answer the queries for retail analysis. \n",
    "\n",
    "### 1.1 Data Preparation and Loading <a class=\"anchor\" name=\"1.1\"></a>\n",
    "Write the code to create a SparkContext object using SparkSession, which tells Spark how to access a cluster. To create a SparkSession you first need to build a SparkConf object that contains information about your application, using Melbourne time as the session timezone. Give an appropriate name for your application and run Spark locally with as many working processors as logical cores on your machine. "
   ]
  },
  {
   "cell_type": "code",
   "execution_count": 1,
   "metadata": {},
   "outputs": [],
   "source": [
    "from pyspark import SparkConf\n",
    "\n",
    "master = \"local[*]\"\n",
    "\n",
    "app_name = \"31171109 Assignment 1 FIT5202\"\n",
    "\n",
    "spark_conf = SparkConf().setMaster(master).setAppName(app_name)\n",
    "\n",
    "from pyspark import SparkContext\n",
    "from pyspark.sql import SparkSession\n",
    "\n",
    "\n",
    "spark = SparkSession.builder.config(conf=spark_conf).getOrCreate()\n",
    "sc = spark.sparkContext\n",
    "sc.setLogLevel('ERROR')"
   ]
  },
  {
   "cell_type": "markdown",
   "metadata": {},
   "source": [
    "1.1.2 For each features, sales and stores RDDs, remove the header rows and display the total count and first 10 records. Hint : You can use csv.reader to parse rows in RDDs."
   ]
  },
  {
   "cell_type": "code",
   "execution_count": 2,
   "metadata": {},
   "outputs": [
    {
     "name": "stdout",
     "output_type": "stream",
     "text": [
      "Feature RDD Total count:8190\n",
      "First 10 records: [['1', '05/02/2010', '42.31', '2.572', 'NA', 'NA', 'NA', 'NA', 'NA', '211.0963582', '8.106', 'FALSE'], ['1', '12/02/2010', '38.51', '2.548', 'NA', 'NA', 'NA', 'NA', 'NA', '211.2421698', '8.106', 'TRUE'], ['1', '19/02/2010', '39.93', '2.514', 'NA', 'NA', 'NA', 'NA', 'NA', '211.2891429', '8.106', 'FALSE'], ['1', '26/02/2010', '46.63', '2.561', 'NA', 'NA', 'NA', 'NA', 'NA', '211.3196429', '8.106', 'FALSE'], ['1', '05/03/2010', '46.5', '2.625', 'NA', 'NA', 'NA', 'NA', 'NA', '211.3501429', '8.106', 'FALSE'], ['1', '12/03/2010', '57.79', '2.667', 'NA', 'NA', 'NA', 'NA', 'NA', '211.3806429', '8.106', 'FALSE'], ['1', '19/03/2010', '54.58', '2.72', 'NA', 'NA', 'NA', 'NA', 'NA', '211.215635', '8.106', 'FALSE'], ['1', '26/03/2010', '51.45', '2.732', 'NA', 'NA', 'NA', 'NA', 'NA', '211.0180424', '8.106', 'FALSE'], ['1', '02/04/2010', '62.27', '2.719', 'NA', 'NA', 'NA', 'NA', 'NA', '210.8204499', '7.808', 'FALSE'], ['1', '09/04/2010', '65.86', '2.77', 'NA', 'NA', 'NA', 'NA', 'NA', '210.6228574', '7.808', 'FALSE']]\n",
      "\n",
      "Sales RDD Total count:421570\n",
      "First 10 records: [['1', '1', '05/02/2010', '24924.5', 'FALSE'], ['1', '1', '12/02/2010', '46039.49', 'TRUE'], ['1', '1', '19/02/2010', '41595.55', 'FALSE'], ['1', '1', '26/02/2010', '19403.54', 'FALSE'], ['1', '1', '05/03/2010', '21827.9', 'FALSE'], ['1', '1', '12/03/2010', '21043.39', 'FALSE'], ['1', '1', '19/03/2010', '22136.64', 'FALSE'], ['1', '1', '26/03/2010', '26229.21', 'FALSE'], ['1', '1', '02/04/2010', '57258.43', 'FALSE'], ['1', '1', '09/04/2010', '42960.91', 'FALSE']]\n",
      "\n",
      "Store RDD Total count:45\n",
      "First 10 records: [['1', 'A', '151315'], ['2', 'A', '202307'], ['3', 'B', '37392'], ['4', 'A', '205863'], ['5', 'B', '34875'], ['6', 'A', '202505'], ['7', 'B', '70713'], ['8', 'A', '155078'], ['9', 'B', '125833'], ['10', 'B', '126512']]\n",
      "\n"
     ]
    }
   ],
   "source": [
    "import csv\n",
    "feat_rdd = sc.textFile('Features.csv').map(lambda line: line.split(\",\"))\n",
    "feat_header=feat_rdd.first()\n",
    "feat_rdd = feat_rdd.filter(lambda x:x != feat_header)\n",
    "print(f\"Feature RDD Total count:{feat_rdd.count()}\")\n",
    "print(f\"First 10 records: {feat_rdd.take(10)}\"+\"\\n\")\n",
    "\n",
    "sales_rdd = sc.textFile('sales.csv').map(lambda line: line.split(\",\"))\n",
    "sales_header = sales_rdd.first()\n",
    "sales_rdd = sales_rdd.filter(lambda x:x != sales_header)\n",
    "print(f\"Sales RDD Total count:{sales_rdd.count()}\")\n",
    "print(f\"First 10 records: {sales_rdd.take(10)}\" +\"\\n\")\n",
    "\n",
    "stores_rdd = sc.textFile('stores.csv').map(lambda line: line.split(\",\"))\n",
    "stores_header = stores_rdd.first()\n",
    "\n",
    "stores_rdd = stores_rdd.filter(lambda x:x != stores_header)\n",
    "print(f\"Store RDD Total count:{stores_rdd.count()}\")\n",
    "print(f\"First 10 records: {stores_rdd.take(10)}\"+\"\\n\")"
   ]
  },
  {
   "cell_type": "markdown",
   "metadata": {},
   "source": [
    "### 1.2 Data Partitioning in RDD <a class=\"anchor\" name=\"1.2\"></a>\n",
    "1.2.1 How many partitions do the above RDDs have? Hint: You can write code to obtain these answers. Can you explain Why it will be partitioned in this number?"
   ]
  },
  {
   "cell_type": "code",
   "execution_count": 3,
   "metadata": {},
   "outputs": [
    {
     "name": "stdout",
     "output_type": "stream",
     "text": [
      "Features No. of Partition: 2\n",
      "Sales No. of Partition: 2\n",
      "Stores No. of Partition: 2\n"
     ]
    }
   ],
   "source": [
    "print(f\"Features No. of Partition: {feat_rdd.getNumPartitions()}\")\n",
    "print(f\"Sales No. of Partition: {sales_rdd.getNumPartitions()}\")\n",
    "print(f\"Stores No. of Partition: {stores_rdd.getNumPartitions()}\")"
   ]
  },
  {
   "cell_type": "markdown",
   "metadata": {},
   "source": [
    "**Ans:**\n",
    "\n",
    "In theory, I believe Spark determines the no. of partitions based on different factors.\n",
    "\n",
    "From the [documentation](https://spark.apache.org/docs/latest/rdd-programming-guide.html#:~:text=By%20default%2C%20Spark%20creates%20one,by%20passing%20a%20larger%20value), we can see that Spark default block size in HDFS is 128 MB and it create a partition for one block of file. Our current files should all within 128 MB. \n",
    "\n",
    "Features.csv : 600 KB\n",
    "\n",
    "sales.csv : 13.3 MB\n",
    "\n",
    "stores.csv : 577 bytes\n",
    "\n",
    "As we can see, all of the files are within 128MB and thus the reason why they are all partitioned into 2 partitions may be due to the cluster configuration instead. \n",
    "\n",
    "Spark by default uses total no. of cores in the cluster to calculate the no. of partitions and then adjust it based on other factors. Therefore, for all 3 RDDs from different sized csv to be partitioned into 2 may be due to so. "
   ]
  },
  {
   "cell_type": "markdown",
   "metadata": {},
   "source": [
    "1.2.2. Create a key value RDD for the store RDD, use the store type as the key and all of columns as the value. Print out the first 5 records of the key-value RDD. "
   ]
  },
  {
   "cell_type": "code",
   "execution_count": 4,
   "metadata": {},
   "outputs": [
    {
     "name": "stdout",
     "output_type": "stream",
     "text": [
      "[('A', ['1', 'A', '151315']), ('A', ['2', 'A', '202307']), ('B', ['3', 'B', '37392']), ('A', ['4', 'A', '205863']), ('B', ['5', 'B', '34875'])]\n"
     ]
    }
   ],
   "source": [
    "def parse_store_keyvalue(line):\n",
    "    key = line[1] # store type as the key\n",
    "    value = line  # all of the columns as value \n",
    "    return (key,value)\n",
    "\n",
    "stores_keyvalue= stores_rdd.map(parse_store_keyvalue)\n",
    "\n",
    "print(stores_keyvalue.take(5))"
   ]
  },
  {
   "cell_type": "markdown",
   "metadata": {},
   "source": [
    "1.2.3. Write the code to seperate the store key-value RDD based on the store type (each type should be in the same partition). Print out the total partition's number and the number of records in each partition. "
   ]
  },
  {
   "cell_type": "code",
   "execution_count": 5,
   "metadata": {},
   "outputs": [],
   "source": [
    "# We can see that there are 3 store types : A, B and C\n",
    "\n",
    "stores_rdd_partition = stores_keyvalue.repartition(3)\n",
    "sorted_store_partition=stores_rdd_partition.sortByKey()"
   ]
  },
  {
   "cell_type": "code",
   "execution_count": 6,
   "metadata": {},
   "outputs": [],
   "source": [
    "def printPartitions(store):\n",
    "    noOfPartitions = store.getNumPartitions()\n",
    "    print(f\"Total partitions: {numPartitions}\")\n",
    "    partitions = store.glom().collect()\n",
    "    for index,partition in enumerate(partitions):\n",
    "        print(f'--Partition {index}:')\n",
    "        count = 0\n",
    "        for record in partition:\n",
    "            count +=1\n",
    "        print(count)\n",
    "\n",
    "# printPartitions(sorted_store_partition)\n"
   ]
  },
  {
   "cell_type": "code",
   "execution_count": 7,
   "metadata": {},
   "outputs": [],
   "source": [
    "# Display to show the partitions\n",
    "# sorted_store_partition.glom().collect()"
   ]
  },
  {
   "cell_type": "markdown",
   "metadata": {},
   "source": [
    "### 1.3 Query/Analysis <a class=\"anchor\" name=\"1.3\"></a>\n",
    "For this part, write relevant RDD operations to answer the following queries.\n",
    "\n",
    "**1.3.1 Find and display the number of records in the sales RDD with weekly sales between 1000 and 50000**"
   ]
  },
  {
   "cell_type": "code",
   "execution_count": 8,
   "metadata": {
    "scrolled": false
   },
   "outputs": [
    {
     "name": "stdout",
     "output_type": "stream",
     "text": [
      "The number of records: 316067\n",
      "Displaying records:\n"
     ]
    }
   ],
   "source": [
    "sales_record = sales_rdd.filter(lambda x: float(x[3])>=1000 and float(x[3])<=50000)\n",
    "print(f'The number of records: {sales_record.count()}')\n",
    "print(f'Displaying records:')\n",
    "# sales_record.collect()"
   ]
  },
  {
   "cell_type": "markdown",
   "metadata": {},
   "source": [
    "**1.3.2 Calculate the average weekly sales for each year.**"
   ]
  },
  {
   "cell_type": "code",
   "execution_count": 25,
   "metadata": {},
   "outputs": [
    {
     "data": {
      "text/plain": [
       "[('2010', 16270.27573703275),\n",
       " ('2011', 15954.070675386221),\n",
       " ('2012', 15694.948597357119)]"
      ]
     },
     "execution_count": 25,
     "metadata": {},
     "output_type": "execute_result"
    }
   ],
   "source": [
    "sales_date= sales_rdd.map(lambda l: (l[2].split('/'),l[3])).map(lambda a: (a[0][2],float(a[1])))\n",
    "dummyTuple = (0,0) \n",
    "sales_date=sales_date.aggregateByKey(dummyTuple, lambda a,b: (a[0] + b,    a[1] + 1),\n",
    "                                       lambda a,b: (a[0] + b[0], a[1] + b[1]))\n",
    "sales_date = sales_date.mapValues(lambda v: v[0]/v[1])\n",
    "sales_date.collect()"
   ]
  },
  {
   "cell_type": "markdown",
   "metadata": {},
   "source": [
    "<div style=\"background:rgba(255,181,116,0.5);padding:10px\">\n",
    "    <strong>NOTE:</strong> Other ways are also acceptable if they can get the correct result. \n",
    "    \n",
    "\n",
    "</div>"
   ]
  },
  {
   "cell_type": "markdown",
   "metadata": {},
   "source": [
    "**1.3.3 Find the highest temperature record in 2011 in the 'type B' store. You should display the store ID, date, highest temperature and type in the result.**"
   ]
  },
  {
   "cell_type": "code",
   "execution_count": 26,
   "metadata": {},
   "outputs": [
    {
     "data": {
      "text/plain": [
       "('10', (('01/07/2011', '95.36'), 'B'))"
      ]
     },
     "execution_count": 26,
     "metadata": {},
     "output_type": "execute_result"
    }
   ],
   "source": [
    "#Get all B store ID \n",
    "all_B_stores= stores_rdd.filter(lambda x : x[1]=='B').map(lambda l: (l[0],l[1]))\n",
    "\n",
    "# Get all store temperature and date by their ID as key\n",
    "store_temp = feat_rdd.map(lambda x: (x[0],(x[1],x[2])))\n",
    "\n",
    "# Filter by year 2011\n",
    "store_temp_2011= store_temp.map(lambda l: (l[0],(l[1][0],l[1][1]),l[1][0].split(\"/\")))\\\n",
    ".filter(lambda x: x[2][2]==\"2011\").map(lambda l: (l[0],(l[1][0],l[1][1])))\n",
    "\n",
    "# Join based on store id \n",
    "joined_B_stores = store_temp_2011.join(all_B_stores)\n",
    "\n",
    "max_temp_2011 = joined_B_stores.max(key=lambda x: x[1][0][1])\n",
    "max_temp_2011"
   ]
  },
  {
   "cell_type": "markdown",
   "metadata": {},
   "source": [
    "## Part 2. Working with DataFrames <a class=\"anchor\" name=\"2-dataframes\"></a>\n",
    "In this section, you will need to load the given datasets into PySpark DataFrames and use DataFrame functions to answer the queries.\n",
    "### 2.1 Data Preparation and Loading\n",
    "\n",
    "**2.1.1. Load features, sales and stores data into three separate dataframes. When you create your dataframes, please refer to the metadata file and think about the appropriate data type for each columns (Note: you could directly read the date column as the string type)**"
   ]
  },
  {
   "cell_type": "code",
   "execution_count": 29,
   "metadata": {},
   "outputs": [],
   "source": [
    "feat_df = spark.read.csv(\"Features.csv\",header=True,inferSchema = True)\n",
    "sales_df= spark.read.csv(\"sales.csv\",header=True,inferSchema = True)\n",
    "stores_df= spark.read.csv(\"stores.csv\",header=True,inferSchema = True)"
   ]
  },
  {
   "cell_type": "markdown",
   "metadata": {},
   "source": [
    "**2.1.2 Display the schema of the features, sales and stores dataframes.**"
   ]
  },
  {
   "cell_type": "code",
   "execution_count": 31,
   "metadata": {},
   "outputs": [
    {
     "name": "stdout",
     "output_type": "stream",
     "text": [
      "Feature:\n",
      "root\n",
      " |-- Store: integer (nullable = true)\n",
      " |-- Date: string (nullable = true)\n",
      " |-- Temperature: double (nullable = true)\n",
      " |-- Fuel_Price: double (nullable = true)\n",
      " |-- MarkDown1: string (nullable = true)\n",
      " |-- MarkDown2: string (nullable = true)\n",
      " |-- MarkDown3: string (nullable = true)\n",
      " |-- MarkDown4: string (nullable = true)\n",
      " |-- MarkDown5: string (nullable = true)\n",
      " |-- CPI: string (nullable = true)\n",
      " |-- Unemployment: string (nullable = true)\n",
      " |-- IsHoliday: boolean (nullable = true)\n",
      "\n",
      "Sales:\n",
      "root\n",
      " |-- Store: integer (nullable = true)\n",
      " |-- Dept: integer (nullable = true)\n",
      " |-- Date: string (nullable = true)\n",
      " |-- Weekly_Sales: double (nullable = true)\n",
      " |-- IsHoliday: boolean (nullable = true)\n",
      "\n",
      "Stores:\n",
      "root\n",
      " |-- Store: integer (nullable = true)\n",
      " |-- Type: string (nullable = true)\n",
      " |-- Size: integer (nullable = true)\n",
      "\n"
     ]
    }
   ],
   "source": [
    "print(\"Feature:\")\n",
    "feat_df.printSchema()\n",
    "print(\"Sales:\")\n",
    "sales_df.printSchema()\n",
    "print(\"Stores:\")\n",
    "stores_df.printSchema()"
   ]
  },
  {
   "cell_type": "markdown",
   "metadata": {},
   "source": [
    "### 2.2 QueryAnalysis  <a class=\"anchor\" name=\"2.2\"></a>\n",
    "Implement the following queries using dataframes. You need to be able to perform operations like filtering, sorting, joining and group by using the functions provided by the DataFrame API. The following DF means dataframes.\n",
    "\n",
    "**2.2.1. Transform 'Date' column in both feature and sales dataframe to the date type, after that print out these two DFs schema to show the results.**"
   ]
  },
  {
   "cell_type": "code",
   "execution_count": 33,
   "metadata": {},
   "outputs": [
    {
     "name": "stdout",
     "output_type": "stream",
     "text": [
      "root\n",
      " |-- Store: integer (nullable = true)\n",
      " |-- Date: date (nullable = true)\n",
      " |-- Temperature: double (nullable = true)\n",
      " |-- Fuel_Price: double (nullable = true)\n",
      " |-- MarkDown1: string (nullable = true)\n",
      " |-- MarkDown2: string (nullable = true)\n",
      " |-- MarkDown3: string (nullable = true)\n",
      " |-- MarkDown4: string (nullable = true)\n",
      " |-- MarkDown5: string (nullable = true)\n",
      " |-- CPI: string (nullable = true)\n",
      " |-- Unemployment: string (nullable = true)\n",
      " |-- IsHoliday: boolean (nullable = true)\n",
      "\n",
      "+-----+----------+-----------+----------+---------+---------+---------+---------+---------+-----------+------------+---------+\n",
      "|Store|      Date|Temperature|Fuel_Price|MarkDown1|MarkDown2|MarkDown3|MarkDown4|MarkDown5|        CPI|Unemployment|IsHoliday|\n",
      "+-----+----------+-----------+----------+---------+---------+---------+---------+---------+-----------+------------+---------+\n",
      "|    1|2010-02-05|      42.31|     2.572|       NA|       NA|       NA|       NA|       NA|211.0963582|       8.106|    false|\n",
      "|    1|2010-02-12|      38.51|     2.548|       NA|       NA|       NA|       NA|       NA|211.2421698|       8.106|     true|\n",
      "|    1|2010-02-19|      39.93|     2.514|       NA|       NA|       NA|       NA|       NA|211.2891429|       8.106|    false|\n",
      "|    1|2010-02-26|      46.63|     2.561|       NA|       NA|       NA|       NA|       NA|211.3196429|       8.106|    false|\n",
      "|    1|2010-03-05|       46.5|     2.625|       NA|       NA|       NA|       NA|       NA|211.3501429|       8.106|    false|\n",
      "|    1|2010-03-12|      57.79|     2.667|       NA|       NA|       NA|       NA|       NA|211.3806429|       8.106|    false|\n",
      "|    1|2010-03-19|      54.58|      2.72|       NA|       NA|       NA|       NA|       NA| 211.215635|       8.106|    false|\n",
      "|    1|2010-03-26|      51.45|     2.732|       NA|       NA|       NA|       NA|       NA|211.0180424|       8.106|    false|\n",
      "|    1|2010-04-02|      62.27|     2.719|       NA|       NA|       NA|       NA|       NA|210.8204499|       7.808|    false|\n",
      "|    1|2010-04-09|      65.86|      2.77|       NA|       NA|       NA|       NA|       NA|210.6228574|       7.808|    false|\n",
      "|    1|2010-04-16|      66.32|     2.808|       NA|       NA|       NA|       NA|       NA|   210.4887|       7.808|    false|\n",
      "|    1|2010-04-23|      64.84|     2.795|       NA|       NA|       NA|       NA|       NA|210.4391228|       7.808|    false|\n",
      "|    1|2010-04-30|      67.41|      2.78|       NA|       NA|       NA|       NA|       NA|210.3895456|       7.808|    false|\n",
      "|    1|2010-05-07|      72.55|     2.835|       NA|       NA|       NA|       NA|       NA|210.3399684|       7.808|    false|\n",
      "|    1|2010-05-14|      74.78|     2.854|       NA|       NA|       NA|       NA|       NA|210.3374261|       7.808|    false|\n",
      "|    1|2010-05-21|      76.44|     2.826|       NA|       NA|       NA|       NA|       NA|210.6170934|       7.808|    false|\n",
      "|    1|2010-05-28|      80.44|     2.759|       NA|       NA|       NA|       NA|       NA|210.8967606|       7.808|    false|\n",
      "|    1|2010-06-04|      80.69|     2.705|       NA|       NA|       NA|       NA|       NA|211.1764278|       7.808|    false|\n",
      "|    1|2010-06-11|      80.43|     2.668|       NA|       NA|       NA|       NA|       NA|211.4560951|       7.808|    false|\n",
      "|    1|2010-06-18|      84.11|     2.637|       NA|       NA|       NA|       NA|       NA|211.4537719|       7.808|    false|\n",
      "+-----+----------+-----------+----------+---------+---------+---------+---------+---------+-----------+------------+---------+\n",
      "only showing top 20 rows\n",
      "\n"
     ]
    }
   ],
   "source": [
    "from pyspark.sql.functions import *\n",
    "\n",
    "# For Feature dataframe \n",
    "\n",
    "feat_df = feat_df.withColumn(\"Date\",to_date(col(\"Date\"),\"dd/MM/yyyy\"))\n",
    "\n",
    "feat_df.printSchema()\n",
    "\n",
    "feat_df.show()"
   ]
  },
  {
   "cell_type": "code",
   "execution_count": 34,
   "metadata": {},
   "outputs": [
    {
     "name": "stdout",
     "output_type": "stream",
     "text": [
      "root\n",
      " |-- Store: integer (nullable = true)\n",
      " |-- Dept: integer (nullable = true)\n",
      " |-- Date: date (nullable = true)\n",
      " |-- Weekly_Sales: double (nullable = true)\n",
      " |-- IsHoliday: boolean (nullable = true)\n",
      "\n",
      "+-----+----+----------+------------+---------+\n",
      "|Store|Dept|      Date|Weekly_Sales|IsHoliday|\n",
      "+-----+----+----------+------------+---------+\n",
      "|    1|   1|2010-02-05|     24924.5|    false|\n",
      "|    1|   1|2010-02-12|    46039.49|     true|\n",
      "|    1|   1|2010-02-19|    41595.55|    false|\n",
      "|    1|   1|2010-02-26|    19403.54|    false|\n",
      "|    1|   1|2010-03-05|     21827.9|    false|\n",
      "|    1|   1|2010-03-12|    21043.39|    false|\n",
      "|    1|   1|2010-03-19|    22136.64|    false|\n",
      "|    1|   1|2010-03-26|    26229.21|    false|\n",
      "|    1|   1|2010-04-02|    57258.43|    false|\n",
      "|    1|   1|2010-04-09|    42960.91|    false|\n",
      "|    1|   1|2010-04-16|    17596.96|    false|\n",
      "|    1|   1|2010-04-23|    16145.35|    false|\n",
      "|    1|   1|2010-04-30|    16555.11|    false|\n",
      "|    1|   1|2010-05-07|    17413.94|    false|\n",
      "|    1|   1|2010-05-14|    18926.74|    false|\n",
      "|    1|   1|2010-05-21|    14773.04|    false|\n",
      "|    1|   1|2010-05-28|    15580.43|    false|\n",
      "|    1|   1|2010-06-04|    17558.09|    false|\n",
      "|    1|   1|2010-06-11|    16637.62|    false|\n",
      "|    1|   1|2010-06-18|    16216.27|    false|\n",
      "+-----+----+----------+------------+---------+\n",
      "only showing top 20 rows\n",
      "\n"
     ]
    }
   ],
   "source": [
    "#For sales dataframe\n",
    "\n",
    "sales_df = sales_df.withColumn(\"Date\",to_date(col(\"Date\"),\"dd/MM/yyyy\"))\n",
    "\n",
    "sales_df.printSchema()\n",
    "sales_df.show()"
   ]
  },
  {
   "cell_type": "markdown",
   "metadata": {},
   "source": [
    "**2.2.2. Calculate the average weekly sales for holiday week and non-holiday week seperately, order your result based on the average weekly sales in descending order. Print out the IsHoliday and average sales columns**"
   ]
  },
  {
   "cell_type": "code",
   "execution_count": 72,
   "metadata": {},
   "outputs": [
    {
     "name": "stdout",
     "output_type": "stream",
     "text": [
      "+---------+------------------+\n",
      "|IsHoliday|     Average_Sales|\n",
      "+---------+------------------+\n",
      "|     true| 17035.82318735039|\n",
      "|    false|15901.445069008767|\n",
      "+---------+------------------+\n",
      "\n"
     ]
    }
   ],
   "source": [
    "import pyspark.sql.functions as F\n",
    "\n",
    "#Separate holiday weeks and non-holiday weeks then average the sales in descending order. \n",
    "avg_sales_holiday= sales_df.groupby(\"IsHoliday\").agg(F.avg(\"Weekly_Sales\").alias(\"Average_Sales\")).sort('Average_Sales',ascending=False)\n",
    "avg_sales_holiday.show()"
   ]
  },
  {
   "cell_type": "markdown",
   "metadata": {},
   "source": [
    "**2.2.3.Based on different years and months, calculate the average weekly sales.**"
   ]
  },
  {
   "cell_type": "code",
   "execution_count": 73,
   "metadata": {},
   "outputs": [
    {
     "name": "stdout",
     "output_type": "stream",
     "text": [
      "+----+-----+------------------+\n",
      "|Year|Month|     Average_Sales|\n",
      "+----+-----+------------------+\n",
      "|2010|    2| 16076.77870090377|\n",
      "|2010|    3|15432.626611808613|\n",
      "|2010|    4|15745.551340409585|\n",
      "|2010|    5|15996.481694653883|\n",
      "|2010|    6|16486.250952748498|\n",
      "|2010|    7|15972.812717533121|\n",
      "|2010|    8| 16171.68929500989|\n",
      "|2010|    9|15120.086691402259|\n",
      "|2010|   10|14806.151497920526|\n",
      "|2010|   11|17320.130647199454|\n",
      "|2010|   12|19570.351251779048|\n",
      "|2011|    1|13997.773991449336|\n",
      "|2011|    2|15870.141203475016|\n",
      "|2011|    3|15182.972004571237|\n",
      "|2011|    4|15361.895495049488|\n",
      "|2011|    5| 15367.86448054148|\n",
      "|2011|    6| 16188.12464300947|\n",
      "|2011|    7|15724.738312700913|\n",
      "|2011|    8| 16030.54247768807|\n",
      "|2011|    9|14961.570247273217|\n",
      "+----+-----+------------------+\n",
      "only showing top 20 rows\n",
      "\n"
     ]
    }
   ],
   "source": [
    "#extract Year and Month \n",
    "avg_sales_ym =sales_df.withColumn(\"Year\", year(\"Date\"))\n",
    "avg_sales_ym= avg_sales_ym.withColumn(\"Month\", month(\"Date\"))\n",
    "\n",
    "#Group by Year and Month for avg weekly sales\n",
    "avg_sales_ym=avg_sales_ym.groupby('Year','Month').agg(F.avg(\"Weekly_Sales\").alias(\"Average_Sales\")).sort('Year',\"Month\")\n",
    "avg_sales_ym.show()"
   ]
  },
  {
   "cell_type": "markdown",
   "metadata": {},
   "source": [
    "**2.2.4. Calculate and display the average MarkDown1 value in holiday week for each of the type-C stores.**"
   ]
  },
  {
   "cell_type": "code",
   "execution_count": 92,
   "metadata": {},
   "outputs": [
    {
     "name": "stdout",
     "output_type": "stream",
     "text": [
      "+-----+------------------+\n",
      "|Store| Average_MarkDown1|\n",
      "+-----+------------------+\n",
      "|   42|445.26142857142855|\n",
      "|   37|            583.73|\n",
      "|   43| 629.8657142857144|\n",
      "|   30| 806.7442857142858|\n",
      "|   44|           1042.64|\n",
      "|   38|           1199.03|\n",
      "+-----+------------------+\n",
      "\n"
     ]
    }
   ],
   "source": [
    "#Get stores with C type\n",
    "all_C_stores= stores_df.filter(stores_df.Type=='C')\n",
    "\n",
    "# Select necessary columns \n",
    "md_holiday = feat_df.select(feat_df.Store,feat_df.MarkDown1,feat_df.IsHoliday)\n",
    "\n",
    "#Prep the C Store DF, changing its \"Store\" column name so we wont have repeated name\n",
    "all_C_stores = all_C_stores.withColumnRenamed('Store', 'join_store')\n",
    "\n",
    "#Join all C Stores only and the Feature with Markdown and IsHoliday value\n",
    "joined_store_md = md_holiday.join(all_C_stores,md_holiday.Store==all_C_stores.join_store,how='inner')\n",
    "\n",
    "#Filter holiday weeks and available MD values\n",
    "joined_store_md=joined_store_md.filter((joined_store_md.MarkDown1 != \"NA\") & (joined_store_md.IsHoliday == True) )\n",
    "\n",
    "# Select necessary columns only\n",
    "cstore_md=joined_store_md.select(joined_store_md.Store,joined_store_md.MarkDown1)\n",
    "\n",
    "#Then group by Store and average the MD1 values, Sort by MD1 values\n",
    "avg_md_hol = cstore_md.groupby(\"Store\").agg(F.avg(\"MarkDown1\").alias(\"Average_MarkDown1\")).sort('Average_MarkDown1',ascending=True)\n",
    "\n",
    "#Display result\n",
    "avg_md_hol.show()\n"
   ]
  },
  {
   "cell_type": "markdown",
   "metadata": {},
   "source": [
    "**2.2.5.Show the total sales for each month and the yearly total in 2011 for each different store, only keep two decimal places after the decimal point.**"
   ]
  },
  {
   "cell_type": "code",
   "execution_count": 93,
   "metadata": {},
   "outputs": [],
   "source": [
    "#extracting Year and Month then create new column for respective \n",
    "ym_sales = sales_df.withColumn(\"Year\", year(\"Date\"))\n",
    "ym_sales= ym_sales.withColumn(\"Month\", month(\"Date\"))\n",
    "\n",
    "#Filter out 2011 only\n",
    "sales_2011 = ym_sales.filter(ym_sales.Year == 2011)\n",
    "\n",
    "# Group based on Store and Month, then sum the Weekly sales up to provide Monthly Sales\n",
    "total_ym_sales=sales_2011.groupby('Store','Month').agg(F.sum(\"Weekly_Sales\").alias(\"Monthly_Sales\")).sort('Store',\"Month\")\n",
    "\n"
   ]
  },
  {
   "cell_type": "code",
   "execution_count": 94,
   "metadata": {},
   "outputs": [],
   "source": [
    "from pyspark.sql.functions import lit\n",
    "\n",
    "# Group based on Store again so that we can sum all the Monthly Sales up to a Yearly sales\n",
    "yr_2011=total_ym_sales.groupby('Store').agg(F.sum(\"Monthly_Sales\").alias(\"Monthly_Sales\")).sort('Store')\n",
    "\n",
    "# Create a Month column with default value 0\n",
    "yr_2011=yr_2011.withColumn('Month', lit(0))\n",
    "\n",
    "# Rearrange the columns to prep for joining \n",
    "yr_2011= yr_2011.select('Store',\"Month\",\"Monthly_Sales\")\n",
    "\n",
    "# Union two dataframe, one with Yearly Sales, one with Monthly Sales\n",
    "unionDF = total_ym_sales.union(yr_2011).sort(\"Store\",\"Month\")\n"
   ]
  },
  {
   "cell_type": "code",
   "execution_count": 95,
   "metadata": {},
   "outputs": [],
   "source": [
    "from pyspark.sql.functions import regexp_replace\n",
    "from pyspark.sql.types import StringType\n",
    "\n",
    "# Then we change Month to be a StringType so that we can replace the text later\n",
    "unionDF = unionDF.withColumn(\"Month\", unionDF['Month'].cast(StringType()))\n",
    "\n",
    "unionDF = unionDF.replace(\"0\", \"Total\", \"Month\")\n"
   ]
  },
  {
   "cell_type": "code",
   "execution_count": 96,
   "metadata": {},
   "outputs": [
    {
     "name": "stdout",
     "output_type": "stream",
     "text": [
      "+-----+-----+-------------+\n",
      "|Store|Month|        Sales|\n",
      "+-----+-----+-------------+\n",
      "|    1|Total|80,921,918.83|\n",
      "|    1|    1| 5,480,050.97|\n",
      "|    1|    2| 6,399,887.57|\n",
      "|    1|    3| 6,307,375.48|\n",
      "|    1|    4| 7,689,123.60|\n",
      "|    1|    5| 6,128,431.80|\n",
      "|    1|    6| 6,194,971.74|\n",
      "|    1|    7| 7,227,654.31|\n",
      "|    1|    8| 6,144,985.73|\n",
      "|    1|    9| 7,379,542.34|\n",
      "|    1|   10| 6,072,327.75|\n",
      "|    1|   11| 6,864,972.83|\n",
      "|    1|   12| 9,032,594.71|\n",
      "|    2|Total|98,607,881.42|\n",
      "|    2|    1| 6,949,000.95|\n",
      "|    2|    2| 8,011,783.74|\n",
      "|    2|    3| 7,529,434.80|\n",
      "|    2|    4| 9,136,076.69|\n",
      "|    2|    5| 7,162,271.09|\n",
      "|    2|    6| 7,607,607.16|\n",
      "+-----+-----+-------------+\n",
      "only showing top 20 rows\n",
      "\n"
     ]
    }
   ],
   "source": [
    "\n",
    "from pyspark.sql.functions import format_number\n",
    "\n",
    "# Rename column to fit the expected output in the assignment specs\n",
    "unionDF = unionDF.withColumnRenamed(\"Monthly_Sales\", \"Sales\")\n",
    "\n",
    "# Format values to 2 decimal places\n",
    "unionDF = unionDF.withColumn(\"Sales\", format_number(unionDF[\"Sales\"], 2))\n",
    "\n",
    "unionDF.show()"
   ]
  },
  {
   "cell_type": "markdown",
   "metadata": {},
   "source": [
    "**2.2.6. Draw a scatter plot to show the relationship between weekly sales and unemployment rate. After that, discuss your findings based on the scatter plot**"
   ]
  },
  {
   "cell_type": "code",
   "execution_count": 134,
   "metadata": {},
   "outputs": [
    {
     "name": "stdout",
     "output_type": "stream",
     "text": [
      "+-----+----------+------------+------------------+\n",
      "|Store|      Date|Unemployment|      Weekly_Sales|\n",
      "+-----+----------+------------+------------------+\n",
      "|    1|2010-03-05|       8.106|21298.721643835615|\n",
      "|    1|2010-04-02|       7.808| 22152.33722222222|\n",
      "|    1|2011-12-16|       7.866|       26127.45375|\n",
      "|    2|2010-03-26|       8.324|23975.312465753424|\n",
      "|    2|2012-03-30|       7.057|26161.701971830982|\n",
      "|    2|2012-07-27|       6.565| 24081.14904109589|\n",
      "|    3|2012-10-26|       6.034| 6334.885937500001|\n",
      "|    4|2010-04-30|       7.896|25595.398309859156|\n",
      "|    4|2011-10-21|       5.143|30663.085138888895|\n",
      "|    4|2012-07-27|       4.077|29265.909285714286|\n",
      "|    6|2011-10-07|       6.551|20297.797260273972|\n",
      "|    8|2011-11-18|       6.123|13000.466521739132|\n",
      "|   15|2012-09-07|       8.193| 8389.426000000001|\n",
      "|    3|2010-04-30|       7.343| 5473.460454545452|\n",
      "|    5|2010-07-02|       6.496| 5016.283114754098|\n",
      "|    6|2010-11-19|       7.007| 21392.13309859154|\n",
      "|    7|2012-01-27|       8.256|          7729.114|\n",
      "|   12|2011-07-29|      13.503|13096.280441176468|\n",
      "|   13|2012-10-05|       5.621|27971.489589041103|\n",
      "|   10|2010-10-15|       9.003|23340.414383561645|\n",
      "+-----+----------+------------+------------------+\n",
      "only showing top 20 rows\n",
      "\n"
     ]
    }
   ],
   "source": [
    "# Get the Unemployment information \n",
    "unemployment= feat_df.select( feat_df.Store,feat_df.Date,feat_df.Unemployment)\n",
    "unemployment = unemployment.groupby('Store','Date').agg(F.avg('Unemployment').alias('Unemployment'))\n",
    "\n",
    "# Get the Weekly Sales \n",
    "weekly_sales= sales_df.groupby('Store','Date').agg(F.avg('Weekly_Sales').alias('Weekly_Sales'))\n",
    "\n",
    "#Join them\n",
    "joined= unemployment.join(weekly_sales, ['Store','Date'])\n",
    "joined.show()"
   ]
  },
  {
   "cell_type": "code",
   "execution_count": 135,
   "metadata": {},
   "outputs": [
    {
     "data": {
      "text/plain": [
       "<AxesSubplot: title={'center': 'Weekly Sales vs Unemployment Rate'}, xlabel='Unemployment Rate', ylabel='Average Weekly Sales'>"
      ]
     },
     "execution_count": 135,
     "metadata": {},
     "output_type": "execute_result"
    },
    {
     "data": {
      "image/png": "[encoded data removed]",
      "text/plain": [
       "<Figure size 640x480 with 1 Axes>"
      ]
     },
     "metadata": {},
     "output_type": "display_data"
    }
   ],
   "source": [
    "\n",
    "import matplotlib.pyplot as plot\n",
    "\n",
    "\n",
    "panda_joined = joined.toPandas()\n",
    "\n",
    "panda_joined.plot(x =\"Unemployment\",y=\"Weekly_Sales\",kind=\"scatter\", title = \"Weekly Sales vs Unemployment Rate\",xlabel = \"Unemployment Rate\", ylabel=\"Average Weekly Sales\")\n",
    "\n"
   ]
  },
  {
   "cell_type": "markdown",
   "metadata": {},
   "source": [
    "<div style=\"background:rgba(255,181,116,0.5);padding:10px\">\n",
    "    <strong>NOTE:</strong> When the unemployment rate is larger than 10, it will have a big influence on weekly sales. \n",
    "\n",
    "</div>"
   ]
  },
  {
   "cell_type": "markdown",
   "metadata": {},
   "source": [
    "**Ans:**\n",
    "\n",
    "We can see that once Unemployment rate is larger than 10, the Weekly sales are all less than 30000 on average and it appears to be lesser sales with lesser dots shown. This means that 10 is the threshold where once the unemployment rate reaches that threshold, weekly sales will be affected. By definition, we understand unemployment rate may be referring to percentage of unemployed individuals during that time. In this case, it may be the percentage of unemployed individuals around the store at that time. This may suggest that the higher the percentage of unemployed individuals, the lesser potential customer with disposable income which may then lead to a drop in the weekly sales. \n"
   ]
  },
  {
   "cell_type": "markdown",
   "metadata": {},
   "source": [
    "### Part 3 RDDs vs DataFrame vs Spark SQL (15%) <a class=\"anchor\" name=\"part-3\"></a>\n",
    "Implement the following queries using RDDs, DataFrames and SparkSQL separately. Log the time taken for each query in each approach using the “%%time” built-in magic command in Jupyter Notebook and discuss the computational performance difference of these 3 approaches.\n"
   ]
  },
  {
   "cell_type": "markdown",
   "metadata": {},
   "source": [
    "#### Query: Calculate and display the average weekly fuel price for each store.\n",
    "Discuss Why DF is faster than RDD? "
   ]
  },
  {
   "cell_type": "markdown",
   "metadata": {},
   "source": [
    "#### 3.1. For RDD"
   ]
  },
  {
   "cell_type": "code",
   "execution_count": 9,
   "metadata": {},
   "outputs": [
    {
     "name": "stdout",
     "output_type": "stream",
     "text": [
      "CPU times: user 7.35 ms, sys: 4.97 ms, total: 12.3 ms\n",
      "Wall time: 17.9 ms\n"
     ]
    }
   ],
   "source": [
    "%%time\n",
    "rdd_fuel= feat_rdd.map(lambda l: (int(l[0]),float(l[3])))\n",
    "dummyTuple = (0,0) \n",
    "rdd_fuel=rdd_fuel.aggregateByKey(dummyTuple, lambda a,b: (a[0] + b,    a[1] + 1),\n",
    "                                       lambda a,b: (a[0] + b[0], a[1] + b[1]))\n",
    "rdd_fuel = rdd_fuel.mapValues(lambda v: v[0]/v[1])\n",
    "# rdd_fuel.sortByKey().collect()\n"
   ]
  },
  {
   "cell_type": "markdown",
   "metadata": {},
   "source": [
    "#### 3.2. For DataFrame"
   ]
  },
  {
   "cell_type": "code",
   "execution_count": 137,
   "metadata": {},
   "outputs": [
    {
     "name": "stdout",
     "output_type": "stream",
     "text": [
      "+-----+------------------+\n",
      "|Store|   avg(Fuel_Price)|\n",
      "+-----+------------------+\n",
      "|    1|3.2592417582417585|\n",
      "|    2|3.2592417582417585|\n",
      "|    3|3.2592417582417585|\n",
      "|    4|3.2548846153846167|\n",
      "|    5|3.2592417582417585|\n",
      "|    6|3.2592417582417585|\n",
      "|    7|3.2944010989010994|\n",
      "|    8|3.2592417582417585|\n",
      "|    9|3.2592417582417585|\n",
      "|   10|3.6156483516483515|\n",
      "|   11|3.2592417582417585|\n",
      "|   12|3.6436538461538466|\n",
      "|   13| 3.328763736263738|\n",
      "|   14|3.4764120879120877|\n",
      "|   15| 3.643357142857142|\n",
      "|   16|3.2944010989010994|\n",
      "|   17| 3.328763736263738|\n",
      "|   18|3.4978736263736243|\n",
      "|   19| 3.643357142857142|\n",
      "|   20|3.4764120879120877|\n",
      "+-----+------------------+\n",
      "only showing top 20 rows\n",
      "\n",
      "CPU times: user 5.81 ms, sys: 3.17 ms, total: 8.98 ms\n",
      "Wall time: 79.4 ms\n"
     ]
    }
   ],
   "source": [
    "%%time\n",
    "\n",
    "df_3=feat_df.groupby(\"Store\").agg(F.avg('Fuel_Price').alias('avg(Fuel_Price)')).sort('Store')\n",
    "df_3.show()"
   ]
  },
  {
   "cell_type": "markdown",
   "metadata": {},
   "source": [
    "#### 3.3. For Spark SQL"
   ]
  },
  {
   "cell_type": "code",
   "execution_count": 136,
   "metadata": {},
   "outputs": [
    {
     "name": "stdout",
     "output_type": "stream",
     "text": [
      "+-----+------------------+\n",
      "|STORE|   avg(Fuel_Price)|\n",
      "+-----+------------------+\n",
      "|    1|3.2592417582417585|\n",
      "|    2|3.2592417582417585|\n",
      "|    3|3.2592417582417585|\n",
      "|    4|3.2548846153846167|\n",
      "|    5|3.2592417582417585|\n",
      "|    6|3.2592417582417585|\n",
      "|    7|3.2944010989010994|\n",
      "|    8|3.2592417582417585|\n",
      "|    9|3.2592417582417585|\n",
      "|   10|3.6156483516483515|\n",
      "|   11|3.2592417582417585|\n",
      "|   12|3.6436538461538466|\n",
      "|   13| 3.328763736263738|\n",
      "|   14|3.4764120879120877|\n",
      "|   15| 3.643357142857142|\n",
      "|   16|3.2944010989010994|\n",
      "|   17| 3.328763736263738|\n",
      "|   18|3.4978736263736243|\n",
      "|   19| 3.643357142857142|\n",
      "|   20|3.4764120879120877|\n",
      "+-----+------------------+\n",
      "only showing top 20 rows\n",
      "\n",
      "CPU times: user 6.14 ms, sys: 1.19 ms, total: 7.33 ms\n",
      "Wall time: 107 ms\n"
     ]
    }
   ],
   "source": [
    "%%time\n",
    "\n",
    "feat_df.createOrReplaceTempView(\"Features\")\n",
    "spark.sql(\"SELECT STORE, AVG(Fuel_Price) FROM FEATURES GROUP BY STORE ORDER BY STORE\").show()"
   ]
  },
  {
   "cell_type": "markdown",
   "metadata": {},
   "source": [
    "#### Summary\n",
    "\n",
    "The time might differ when running on different machines. Overall, the DataFrame and SQL queries run faster compared with RDD.\n",
    "\n",
    "RDD : 171ms \n",
    "\n",
    "DF : 79.4ms \n",
    "\n",
    "SQL : 107ms\n",
    "\n",
    "As to why DF are faster than RDD may be due to serialization of individual Java and Scala objects takes more time in running RDD compared to the use of off-heap memory for serialization which occurs in DF. DF minimizes overhead, resulting it being faster than RDD. "
   ]
  },
  {
   "cell_type": "markdown",
   "metadata": {},
   "source": [
    "### Declaration of use of Generative AI \n",
    "\n",
    "I acknowledge the use of generative AI. 1.2.1, 2.2.6 and Part 3 explanations involves the use of ChatGPT. \n",
    "ChatGPT are used in summarizing what Spark documentations are about and also, re-explaining the resource online such as how does Spark make use of HDFS block size to determine number of partitions. The use of the AI tool is mainly for understanding of how Spark works by default and its nature with RDD and Dataframes. Answers are written on my own and not paraphrase from ChatGPT as it does provides some false information such as HDFS default block size being 64 MB instead of the online resources and documentations confirmed information : 128MB.\n",
    "\n"
   ]
  },
  {
   "cell_type": "markdown",
   "metadata": {},
   "source": [
    "### Some ideas on the comparison\n",
    "\n",
    "Armbrust, M., Huai, Y., Liang, C., Xin, R., & Zaharia, M. (2015). Deep Dive into Spark SQL’s Catalyst Optimizer. Retrieved September 30, 2017, from https://databricks.com/blog/2015/04/13/deep-dive-into-spark-sqls-catalyst-optimizer.html\n",
    "\n",
    "Damji, J. (2016). A Tale of Three Apache Spark APIs: RDDs, DataFrames, and Datasets. Retrieved September 28, 2017, from https://databricks.com/blog/2016/07/14/a-tale-of-three-apache-spark-apis-rdds-dataframes-and-datasets.html\n",
    "\n",
    "Data Flair (2017a). Apache Spark RDD vs DataFrame vs DataSet. Retrieved September 28, 2017, from http://data-flair.training/blogs/apache-spark-rdd-vs-dataframe-vs-dataset\n",
    "\n",
    "Prakash, C. (2016). Apache Spark: RDD vs Dataframe vs Dataset. Retrieved September 28, 2017, from http://why-not-learn-something.blogspot.com.au/2016/07/apache-spark-rdd-vs-dataframe-vs-dataset.html\n",
    "\n",
    "Xin, R., & Rosen, J. (2015). Project Tungsten: Bringing Apache Spark Closer to Bare Metal. Retrieved September 30, 2017, from https://databricks.com/blog/2015/04/28/project-tungsten-bringing-spark-closer-to-bare-metal.html"
   ]
  }
 ],
 "metadata": {
  "kernelspec": {
   "display_name": "Python 3 (ipykernel)",
   "language": "python",
   "name": "python3"
  },
  "language_info": {
   "codemirror_mode": {
    "name": "ipython",
    "version": 3
   },
   "file_extension": ".py",
   "mimetype": "text/x-python",
   "name": "python",
   "nbconvert_exporter": "python",
   "pygments_lexer": "ipython3",
   "version": "3.8.15"
  }
 },
 "nbformat": 4,
 "nbformat_minor": 4
}
