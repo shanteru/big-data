{
 "cells": [
  {
   "cell_type": "markdown",
   "metadata": {},
   "source": [
    "# FIT5202 Data processing for big data\n",
    "\n",
    "##  Activity: Machine Learning with Spark (Classification Using Decision Tree, Random Forest,  and Logistic Regression)\n",
    "\n",
    "Last week we learnt about basics of machine learning with Apache Spark. **``MLlib``** is Apache Spark's scalable machine learning library. Its goal is to make practical machine learning scalable and easy. At a high level, it provides tools such as:\n",
    "\n",
    "- ML Algorithms: common learning algorithms such as classification, regression, clustering, and collaborative filtering\n",
    "- Featurization: feature extraction, transformation, dimensionality reduction, and selection\n",
    "- Pipelines: tools for constructing, evaluating, and tuning ML Pipelines\n",
    "- Persistence: saving and load algorithms, models, and Pipelines\n",
    "- Utilities: linear algebra, statistics, data handling, etc.\n",
    "\n",
    "We looked into transformers, estimators and machine learning pipeline in the last weeks tutorial activity.\n",
    "\n",
    "This week we have learnt about different classification algorithms in the lecture. We will look into how to use the different popular family of classification and regression methods; Decision Trees and Random forests."
   ]
  },
  {
   "cell_type": "markdown",
   "metadata": {},
   "source": [
    "## Table of Contents\n",
    "\n",
    "* [Bank case study: Will the client subscribe?](#one)\n",
    "* [Data Loading and Preparation](#data-preparation)\n",
    "* [Feature Engineering](#feature-engineering)\n",
    "    * [StringIndexer](#feature-engineering)\n",
    "    * [OneHotEncoder](#feature-engineering)\n",
    "    * [VectorAssembler](#feature-engineering)\n",
    "* [Pipeline API](#pipeline)\n",
    "* [Train/Test Split](#train-test)\n",
    "* [ML Classification Models](#models)\n",
    "    * [Decision Tree](#dt)\n",
    "    * [Random Forest](#rf)        \n",
    "    * [Logistic Regression](#lr)    \n",
    "* [Model Evaluation](#model-evaluation)\n",
    "    * [Confusion Matrix](#confusion-matrix)\n",
    "    * [Area Under the Curve](#roc)    \n",
    "    * [Visualizing ROC Curve](#roc-viz)\n",
    "* [Lab Tasks](#lab-task-1)\n",
    "    * [Lab Task 1](#lab-task-1)\n",
    "    * [Lab Task 2](#lab-task-2)\n",
    "    * [Lab Task 3](#lab-task-3)\n",
    "    * [Lab Task 4](#lab-task-4)\n",
    "    * [Lab Task 5](#lab-task-5)\n",
    "* [Challenge Tasks](#challenge-task)\n",
    "    * [Challenge Task 1](#challenge-task)\n",
    "    "
   ]
  },
  {
   "cell_type": "markdown",
   "metadata": {},
   "source": [
    "## Bank case study: Will the client subscribe? <a class=\"anchor\" id=\"one\"></a>\n",
    "<hr/>\n",
    "\n",
    "The data was used to direct marketing campaigns of a banking institution. The marketing campaigns were based on phone calls. The classification goal is to predict whether the client will subscribe (1/0) to a term deposit.\n",
    "\n",
    "### **Attributes**\n",
    "\n",
    "1. age (numeric)\n",
    "2. job : type of job (categorical: 'admin.','blue-collar','entrepreneur','housemaid','management','retired','self-employed','services','student','technician','unemployed','unknown')\n",
    "3. marital : marital status (categorical: 'divorced','married','single','unknown'; note: 'divorced' means divorced or widowed)\n",
    "4. education (categorical: 'primary', 'secondary', 'tertiary', 'unknown')\n",
    "5. default: has credit in default? (categorical: 'no','yes','unknown')\n",
    "6. balance : bank balance\n",
    "7. housing: has housing loan? (categorical: 'no','yes','unknown')\n",
    "8. loan: has personal loan? (categorical: 'no','yes','unknown')\n",
    "\n",
    "### Related with the last contact of the current campaign:\n",
    "9. contact: contact communication type (categorical: 'cellular','telephone','unknown')\n",
    "10. day: last contact day of the week (numerical: 1,2,...28,29,30)\n",
    "1. month: last contact month of year (categorical: 'jan', 'feb', 'mar', ..., 'nov', 'dec')\n",
    "12. duration: last contact duration, in seconds (numeric). Important note: this attribute highly affects the output target (e.g., if duration=0 then y='no'). Yet, the duration is not known before a call is performed. Also, after the end of the call y is obviously known. Thus, this input should only be included for benchmark purposes and should be discarded if the intention is to have a realistic predictive model.\n",
    "\n",
    "### Other attributes:\n",
    "12. campaign: number of contacts performed during this campaign and for this client (numeric, includes last contact)\n",
    "13. pdays: number of days that passed by after the client was last contacted from a previous campaign (numeric; 999 means client was not previously contacted)\n",
    "14. previous: number of contacts performed before this campaign and for this client (numeric)\n",
    "15. poutcome: outcome of the previous marketing campaign (categorical: 'failure','nonexistent','success','unknown')\n",
    "\n",
    "### Output variable (desired target):\n",
    "16. deposit - has the client subscribed a term deposit? (binary: 'yes','no')"
   ]
  },
  {
   "cell_type": "markdown",
   "metadata": {},
   "source": [
    "<a class=\"anchor\" id=\"lab-task-1\"></a>\n",
    "<div style=\"background:rgba(0,109,174,0.2);padding:10px;border-radius:4px\"><strong style=\"color:#FF5555\">1. Lab Task: </strong> \n",
    "\n",
    "Complete the following steps for the initial part to get the data ready for the Classification Algorithms.\n",
    "\n",
    " 1. **Loading data:** Load the <code>bank.csv</code> file using spark session\n",
    " 2. **Prepare the data :** Prepare data for machine learning and preprocess the data according to the algorithm for training. \n",
    " 3. **Feature Engineering:** Use <code>StringIndexer</code>, <code>OneHotEncoder</code> and <code>Vector Assembler</code> to transform the dataset into <em>features</em> and <em>label</em> columns. \n",
    " 4. **Pipeline API :** Assemble the above steps of transformation into a <code>Pipeline</code>. Use the pipeline to <strong>transform</strong> the data.\n",
    " 5. **Train/Test Split :** For the transformed data, create a <strong>train/test</strong> split of <strong>80%/20%</strong>.\n",
    "</div>"
   ]
  },
  {
   "cell_type": "markdown",
   "metadata": {},
   "source": [
    "### Step 1: Data Loading and Preparation <a class=\"anchor\" name=\"data-preparation\"></a> "
   ]
  },
  {
   "cell_type": "markdown",
   "metadata": {},
   "source": [
    "In this step, you can do some data exploration like: \n",
    "1. See some sample data, check the schema\n",
    "2. Check the statistics of the numerical columns in the dataset\n",
    "3. Target Variable Distribution, what are the number of instances the target variable has?\n",
    "4. Check if the dataframe contains null values?\n",
    "5. Separate the numerical and non-numerical columns to apply feature engineering"
   ]
  },
  {
   "cell_type": "code",
   "execution_count": 3,
   "metadata": {},
   "outputs": [],
   "source": [
    "#Write your code here\n",
    "from pyspark import SparkConf # Spark\n",
    "from pyspark.sql import SparkSession\n",
    "\n",
    "spark_conf = SparkConf()\\\n",
    "            .setMaster(\"local[*]\")\\\n",
    "            .setAppName(\"ML-Classification\")\n",
    "\n",
    "spark = SparkSession.builder.config(conf=spark_conf).getOrCreate()\n",
    "spark.sparkContext.setLogLevel('ERROR')\n",
    "df = spark.read.csv('bank.csv', header = True, inferSchema = True)\n",
    "cols = df.columns"
   ]
  },
  {
   "cell_type": "code",
   "execution_count": 4,
   "metadata": {},
   "outputs": [],
   "source": [
    "# First, save the category in the category columns list.\n",
    "categoryInputCols = ['job', 'marital', 'education', 'default', 'housing', 'loan', 'contact', 'poutcome']\n",
    "numericInputCols = ['age', 'balance', 'duration', 'campaign', 'pdays', 'previous']\n",
    "categoryOutputCol = 'deposit'\n",
    "categoryCols = categoryInputCols+[categoryOutputCol]"
   ]
  },
  {
   "cell_type": "markdown",
   "metadata": {},
   "source": [
    "### Step 2: Feature Engineering <a class=\"anchor\" name=\"feature-engineering\"></a> \n",
    "<strong>Hint :</strong> Use all the features, separate the numerical and non-numerical features to simplify the Feature Engineering process. For the <strong style=\"color:red\"> target variable, make sure 1 is for Yes and 0 is for No</strong> while converting it to numeric representation."
   ]
  },
  {
   "cell_type": "code",
   "execution_count": 5,
   "metadata": {},
   "outputs": [
    {
     "name": "stdout",
     "output_type": "stream",
     "text": [
      "['job', 'marital', 'education', 'default', 'housing', 'loan', 'contact', 'poutcome', 'deposit']\n",
      "['job_index', 'marital_index', 'education_index', 'default_index', 'housing_index', 'loan_index', 'contact_index', 'poutcome_index', 'label']\n",
      "+---------+-------------+---------------+-------------+-------------+----------+-------------+--------------+-----+\n",
      "|job_index|marital_index|education_index|default_index|housing_index|loan_index|contact_index|poutcome_index|label|\n",
      "+---------+-------------+---------------+-------------+-------------+----------+-------------+--------------+-----+\n",
      "|      3.0|          0.0|            0.0|          0.0|          1.0|       0.0|          1.0|           0.0|  1.0|\n",
      "|      3.0|          0.0|            0.0|          0.0|          0.0|       0.0|          1.0|           0.0|  1.0|\n",
      "|      2.0|          0.0|            0.0|          0.0|          1.0|       0.0|          1.0|           0.0|  1.0|\n",
      "|      4.0|          0.0|            0.0|          0.0|          1.0|       0.0|          1.0|           0.0|  1.0|\n",
      "|      3.0|          0.0|            1.0|          0.0|          0.0|       0.0|          1.0|           0.0|  1.0|\n",
      "|      0.0|          1.0|            1.0|          0.0|          1.0|       1.0|          1.0|           0.0|  1.0|\n",
      "|      0.0|          0.0|            1.0|          0.0|          1.0|       1.0|          1.0|           0.0|  1.0|\n",
      "|      5.0|          2.0|            0.0|          0.0|          1.0|       0.0|          1.0|           0.0|  1.0|\n",
      "|      2.0|          0.0|            0.0|          0.0|          1.0|       0.0|          1.0|           0.0|  1.0|\n",
      "|      4.0|          1.0|            0.0|          0.0|          1.0|       0.0|          1.0|           0.0|  1.0|\n",
      "|      3.0|          1.0|            0.0|          0.0|          1.0|       0.0|          1.0|           0.0|  1.0|\n",
      "|      1.0|          0.0|            0.0|          0.0|          1.0|       0.0|          1.0|           0.0|  1.0|\n",
      "|      0.0|          0.0|            1.0|          0.0|          1.0|       1.0|          1.0|           0.0|  1.0|\n",
      "|      1.0|          1.0|            1.0|          0.0|          1.0|       0.0|          1.0|           0.0|  1.0|\n",
      "|      2.0|          1.0|            1.0|          0.0|          1.0|       0.0|          1.0|           0.0|  1.0|\n",
      "|      0.0|          2.0|            1.0|          0.0|          1.0|       0.0|          1.0|           0.0|  1.0|\n",
      "|      1.0|          1.0|            2.0|          0.0|          1.0|       0.0|          1.0|           0.0|  1.0|\n",
      "|      4.0|          0.0|            0.0|          0.0|          1.0|       0.0|          1.0|           0.0|  1.0|\n",
      "|      3.0|          0.0|            0.0|          0.0|          1.0|       0.0|          1.0|           0.0|  1.0|\n",
      "|      3.0|          2.0|            0.0|          0.0|          1.0|       1.0|          1.0|           0.0|  1.0|\n",
      "+---------+-------------+---------------+-------------+-------------+----------+-------------+--------------+-----+\n",
      "only showing top 20 rows\n",
      "\n"
     ]
    }
   ],
   "source": [
    "#Write your code here\n",
    "### Convert categorical columns\n",
    "from pyspark.ml.feature import StringIndexer\n",
    "\n",
    "# Define the output columns\n",
    "outputCols=[f'{x}_index' for x in categoryInputCols]\n",
    "outputCols.append('label')\n",
    "\n",
    "print(categoryCols)\n",
    "print(outputCols)\n",
    "\n",
    "# Create the index values for categorical values\n",
    "# Initialize StringIndexer (use inputCols and outputCols)\n",
    "inputIndexer = StringIndexer(inputCols=categoryCols, outputCols=outputCols)\n",
    "\n",
    "# Call the fit and transform() method to get the encoded results \n",
    "df_indexed = inputIndexer.fit(df).transform(df)\n",
    "\n",
    "# Display the output, only the output columns\n",
    "df_indexed.select(outputCols).show()"
   ]
  },
  {
   "cell_type": "code",
   "execution_count": 6,
   "metadata": {},
   "outputs": [
    {
     "name": "stdout",
     "output_type": "stream",
     "text": [
      "+--------------+-------------+-------------+-------------+-------------+-------------+-------------+-------------+\n",
      "|       job_vec|  marital_vec|education_vec|  default_vec|  housing_vec|     loan_vec|  contact_vec| poutcome_vec|\n",
      "+--------------+-------------+-------------+-------------+-------------+-------------+-------------+-------------+\n",
      "|(11,[3],[1.0])|(2,[0],[1.0])|(3,[0],[1.0])|(1,[0],[1.0])|    (1,[],[])|(1,[0],[1.0])|(2,[1],[1.0])|(3,[0],[1.0])|\n",
      "|(11,[3],[1.0])|(2,[0],[1.0])|(3,[0],[1.0])|(1,[0],[1.0])|(1,[0],[1.0])|(1,[0],[1.0])|(2,[1],[1.0])|(3,[0],[1.0])|\n",
      "|(11,[2],[1.0])|(2,[0],[1.0])|(3,[0],[1.0])|(1,[0],[1.0])|    (1,[],[])|(1,[0],[1.0])|(2,[1],[1.0])|(3,[0],[1.0])|\n",
      "|(11,[4],[1.0])|(2,[0],[1.0])|(3,[0],[1.0])|(1,[0],[1.0])|    (1,[],[])|(1,[0],[1.0])|(2,[1],[1.0])|(3,[0],[1.0])|\n",
      "|(11,[3],[1.0])|(2,[0],[1.0])|(3,[1],[1.0])|(1,[0],[1.0])|(1,[0],[1.0])|(1,[0],[1.0])|(2,[1],[1.0])|(3,[0],[1.0])|\n",
      "|(11,[0],[1.0])|(2,[1],[1.0])|(3,[1],[1.0])|(1,[0],[1.0])|    (1,[],[])|    (1,[],[])|(2,[1],[1.0])|(3,[0],[1.0])|\n",
      "|(11,[0],[1.0])|(2,[0],[1.0])|(3,[1],[1.0])|(1,[0],[1.0])|    (1,[],[])|    (1,[],[])|(2,[1],[1.0])|(3,[0],[1.0])|\n",
      "|(11,[5],[1.0])|    (2,[],[])|(3,[0],[1.0])|(1,[0],[1.0])|    (1,[],[])|(1,[0],[1.0])|(2,[1],[1.0])|(3,[0],[1.0])|\n",
      "|(11,[2],[1.0])|(2,[0],[1.0])|(3,[0],[1.0])|(1,[0],[1.0])|    (1,[],[])|(1,[0],[1.0])|(2,[1],[1.0])|(3,[0],[1.0])|\n",
      "|(11,[4],[1.0])|(2,[1],[1.0])|(3,[0],[1.0])|(1,[0],[1.0])|    (1,[],[])|(1,[0],[1.0])|(2,[1],[1.0])|(3,[0],[1.0])|\n",
      "|(11,[3],[1.0])|(2,[1],[1.0])|(3,[0],[1.0])|(1,[0],[1.0])|    (1,[],[])|(1,[0],[1.0])|(2,[1],[1.0])|(3,[0],[1.0])|\n",
      "|(11,[1],[1.0])|(2,[0],[1.0])|(3,[0],[1.0])|(1,[0],[1.0])|    (1,[],[])|(1,[0],[1.0])|(2,[1],[1.0])|(3,[0],[1.0])|\n",
      "|(11,[0],[1.0])|(2,[0],[1.0])|(3,[1],[1.0])|(1,[0],[1.0])|    (1,[],[])|    (1,[],[])|(2,[1],[1.0])|(3,[0],[1.0])|\n",
      "|(11,[1],[1.0])|(2,[1],[1.0])|(3,[1],[1.0])|(1,[0],[1.0])|    (1,[],[])|(1,[0],[1.0])|(2,[1],[1.0])|(3,[0],[1.0])|\n",
      "|(11,[2],[1.0])|(2,[1],[1.0])|(3,[1],[1.0])|(1,[0],[1.0])|    (1,[],[])|(1,[0],[1.0])|(2,[1],[1.0])|(3,[0],[1.0])|\n",
      "|(11,[0],[1.0])|    (2,[],[])|(3,[1],[1.0])|(1,[0],[1.0])|    (1,[],[])|(1,[0],[1.0])|(2,[1],[1.0])|(3,[0],[1.0])|\n",
      "|(11,[1],[1.0])|(2,[1],[1.0])|(3,[2],[1.0])|(1,[0],[1.0])|    (1,[],[])|(1,[0],[1.0])|(2,[1],[1.0])|(3,[0],[1.0])|\n",
      "|(11,[4],[1.0])|(2,[0],[1.0])|(3,[0],[1.0])|(1,[0],[1.0])|    (1,[],[])|(1,[0],[1.0])|(2,[1],[1.0])|(3,[0],[1.0])|\n",
      "|(11,[3],[1.0])|(2,[0],[1.0])|(3,[0],[1.0])|(1,[0],[1.0])|    (1,[],[])|(1,[0],[1.0])|(2,[1],[1.0])|(3,[0],[1.0])|\n",
      "|(11,[3],[1.0])|    (2,[],[])|(3,[0],[1.0])|(1,[0],[1.0])|    (1,[],[])|    (1,[],[])|(2,[1],[1.0])|(3,[0],[1.0])|\n",
      "+--------------+-------------+-------------+-------------+-------------+-------------+-------------+-------------+\n",
      "only showing top 20 rows\n",
      "\n"
     ]
    }
   ],
   "source": [
    "from pyspark.ml.feature import OneHotEncoder\n",
    "\n",
    "# input columns for OHE are all output columns from StringIndexer except label\n",
    "inputCols_OHE = [x for x in outputCols if x!='label']\n",
    "outputCols_OHE = [f'{x}_vec' for x in categoryInputCols]\n",
    "\n",
    "# WRITE CODE: Define OneHotEncoder with the appropriate columns\n",
    "encoder = OneHotEncoder(inputCols=inputCols_OHE,\n",
    "                        outputCols=outputCols_OHE)\n",
    "\n",
    "\n",
    "# WRITE CODE: Call fit and transform to get the encoded results\n",
    "model = encoder.fit(df_indexed)\n",
    "df_encoded = model.transform(df_indexed) \n",
    "\n",
    "\n",
    "# WRITE CODE: Display the output columns\n",
    "df_encoded.select(outputCols_OHE).show()"
   ]
  },
  {
   "cell_type": "code",
   "execution_count": 8,
   "metadata": {},
   "outputs": [
    {
     "name": "stdout",
     "output_type": "stream",
     "text": [
      "+--------------------------------------------------------------------------------------------------------+\n",
      "|features                                                                                                |\n",
      "+--------------------------------------------------------------------------------------------------------+\n",
      "|(30,[3,11,13,16,18,20,21,24,25,26,27,28],[1.0,1.0,1.0,1.0,1.0,1.0,1.0,59.0,2343.0,1042.0,1.0,-1.0])     |\n",
      "|(30,[3,11,13,16,17,18,20,21,24,25,26,27,28],[1.0,1.0,1.0,1.0,1.0,1.0,1.0,1.0,56.0,45.0,1467.0,1.0,-1.0])|\n",
      "|(30,[2,11,13,16,18,20,21,24,25,26,27,28],[1.0,1.0,1.0,1.0,1.0,1.0,1.0,41.0,1270.0,1389.0,1.0,-1.0])     |\n",
      "|(30,[4,11,13,16,18,20,21,24,25,26,27,28],[1.0,1.0,1.0,1.0,1.0,1.0,1.0,55.0,2476.0,579.0,1.0,-1.0])      |\n",
      "|(30,[3,11,14,16,17,18,20,21,24,25,26,27,28],[1.0,1.0,1.0,1.0,1.0,1.0,1.0,1.0,54.0,184.0,673.0,2.0,-1.0])|\n",
      "|(30,[0,12,14,16,20,21,24,26,27,28],[1.0,1.0,1.0,1.0,1.0,1.0,42.0,562.0,2.0,-1.0])                       |\n",
      "|(30,[0,11,14,16,20,21,24,25,26,27,28],[1.0,1.0,1.0,1.0,1.0,1.0,56.0,830.0,1201.0,1.0,-1.0])             |\n",
      "|(30,[5,13,16,18,20,21,24,25,26,27,28],[1.0,1.0,1.0,1.0,1.0,1.0,60.0,545.0,1030.0,1.0,-1.0])             |\n",
      "|(30,[2,11,13,16,18,20,21,24,25,26,27,28],[1.0,1.0,1.0,1.0,1.0,1.0,1.0,37.0,1.0,608.0,1.0,-1.0])         |\n",
      "|(30,[4,12,13,16,18,20,21,24,25,26,27,28],[1.0,1.0,1.0,1.0,1.0,1.0,1.0,28.0,5090.0,1297.0,3.0,-1.0])     |\n",
      "|(30,[3,12,13,16,18,20,21,24,25,26,27,28],[1.0,1.0,1.0,1.0,1.0,1.0,1.0,38.0,100.0,786.0,1.0,-1.0])       |\n",
      "|(30,[1,11,13,16,18,20,21,24,25,26,27,28],[1.0,1.0,1.0,1.0,1.0,1.0,1.0,30.0,309.0,1574.0,2.0,-1.0])      |\n",
      "|(30,[0,11,14,16,20,21,24,25,26,27,28],[1.0,1.0,1.0,1.0,1.0,1.0,29.0,199.0,1689.0,4.0,-1.0])             |\n",
      "|(30,[1,12,14,16,18,20,21,24,25,26,27,28],[1.0,1.0,1.0,1.0,1.0,1.0,1.0,46.0,460.0,1102.0,2.0,-1.0])      |\n",
      "|(30,[2,12,14,16,18,20,21,24,25,26,27,28],[1.0,1.0,1.0,1.0,1.0,1.0,1.0,31.0,703.0,943.0,2.0,-1.0])       |\n",
      "|(30,[0,14,16,18,20,21,24,25,26,27,28],[1.0,1.0,1.0,1.0,1.0,1.0,35.0,3837.0,1084.0,1.0,-1.0])            |\n",
      "|(30,[1,12,15,16,18,20,21,24,25,26,27,28],[1.0,1.0,1.0,1.0,1.0,1.0,1.0,32.0,611.0,541.0,3.0,-1.0])       |\n",
      "|(30,[4,11,13,16,18,20,21,24,25,26,27,28],[1.0,1.0,1.0,1.0,1.0,1.0,1.0,49.0,-8.0,1119.0,1.0,-1.0])       |\n",
      "|(30,[3,11,13,16,18,20,21,24,25,26,27,28],[1.0,1.0,1.0,1.0,1.0,1.0,1.0,41.0,55.0,1120.0,2.0,-1.0])       |\n",
      "|(30,[3,13,16,20,21,24,25,26,27,28],[1.0,1.0,1.0,1.0,1.0,49.0,168.0,513.0,1.0,-1.0])                     |\n",
      "+--------------------------------------------------------------------------------------------------------+\n",
      "only showing top 20 rows\n",
      "\n"
     ]
    }
   ],
   "source": [
    "from pyspark.ml.feature import VectorAssembler\n",
    "\n",
    "# inputCols are all the encoded columns from OHE plus numerical columns\n",
    "assemblerInputs = outputCols_OHE + numericInputCols\n",
    "\n",
    "# WRITE CODE: Define the assembler with appropriate input and output columns (Use name \"features for output columns)\n",
    "#Define the assembler with appropriate input and output columns\n",
    "assembler = VectorAssembler(inputCols=assemblerInputs,outputCol=\"features\")\n",
    "\n",
    "\n",
    "# WRITE CODE: use the asseembler transform() to get encoded results\n",
    "df_final = assembler.transform(df_encoded)\n",
    "\n",
    "# WRITE CODEDisplay the output\n",
    "df_final.select('features').show(truncate=False)"
   ]
  },
  {
   "cell_type": "markdown",
   "metadata": {},
   "source": [
    "### Step 3: Pipeline API <a class=\"anchor\" name=\"pipeline\"></a> "
   ]
  },
  {
   "cell_type": "code",
   "execution_count": 18,
   "metadata": {},
   "outputs": [
    {
     "name": "stdout",
     "output_type": "stream",
     "text": [
      "root\n",
      " |-- age: integer (nullable = true)\n",
      " |-- job: string (nullable = true)\n",
      " |-- marital: string (nullable = true)\n",
      " |-- education: string (nullable = true)\n",
      " |-- default: string (nullable = true)\n",
      " |-- balance: integer (nullable = true)\n",
      " |-- housing: string (nullable = true)\n",
      " |-- loan: string (nullable = true)\n",
      " |-- contact: string (nullable = true)\n",
      " |-- day: integer (nullable = true)\n",
      " |-- month: string (nullable = true)\n",
      " |-- duration: integer (nullable = true)\n",
      " |-- campaign: integer (nullable = true)\n",
      " |-- pdays: integer (nullable = true)\n",
      " |-- previous: integer (nullable = true)\n",
      " |-- poutcome: string (nullable = true)\n",
      " |-- deposit: string (nullable = true)\n",
      " |-- job_index: double (nullable = false)\n",
      " |-- marital_index: double (nullable = false)\n",
      " |-- education_index: double (nullable = false)\n",
      " |-- default_index: double (nullable = false)\n",
      " |-- housing_index: double (nullable = false)\n",
      " |-- loan_index: double (nullable = false)\n",
      " |-- contact_index: double (nullable = false)\n",
      " |-- poutcome_index: double (nullable = false)\n",
      " |-- label: double (nullable = false)\n",
      " |-- job_vec: vector (nullable = true)\n",
      " |-- marital_vec: vector (nullable = true)\n",
      " |-- education_vec: vector (nullable = true)\n",
      " |-- default_vec: vector (nullable = true)\n",
      " |-- housing_vec: vector (nullable = true)\n",
      " |-- loan_vec: vector (nullable = true)\n",
      " |-- contact_vec: vector (nullable = true)\n",
      " |-- poutcome_vec: vector (nullable = true)\n",
      " |-- features: vector (nullable = true)\n",
      "\n"
     ]
    }
   ],
   "source": [
    "from pyspark.ml import Pipeline\n",
    "\n",
    "stage_1 = inputIndexer\n",
    "stage_2 = encoder\n",
    "stage_3 = assembler\n",
    "\n",
    "#WRITE CODE : Use Pipelines to ensure that training and test data go through identical feature processing steps.\n",
    "# Apply the pipeline directly on the dataframe 'df' (that read from csv file)\n",
    "\n",
    "pipeline = Pipeline(stages=[stage_1, stage_2, stage_3])\n",
    "\n",
    "pipelineModel = pipeline.fit(df)\n",
    "df_pipeline = pipelineModel.transform(df)\n",
    "df_pipeline.printSchema()"
   ]
  },
  {
   "cell_type": "markdown",
   "metadata": {},
   "source": [
    "### Step 4: Train/Test Split <a class=\"anchor\" name=\"train-test\"></a> \n",
    "<strong>Hint : </strong> Use <code>seed</code> while splitting data to identify different sets of train/test splits."
   ]
  },
  {
   "cell_type": "code",
   "execution_count": 25,
   "metadata": {},
   "outputs": [
    {
     "name": "stdout",
     "output_type": "stream",
     "text": [
      "+---+-----------+-------+---------+-------+-------+-------+----+---------+---+-----+--------+--------+-----+--------+--------+-------+---------+-------------+---------------+-------------+-------------+----------+-------------+--------------+-----+--------------+-------------+-------------+-------------+-------------+-------------+-------------+-------------+--------------------+\n",
      "|age|        job|marital|education|default|balance|housing|loan|  contact|day|month|duration|campaign|pdays|previous|poutcome|deposit|job_index|marital_index|education_index|default_index|housing_index|loan_index|contact_index|poutcome_index|label|       job_vec|  marital_vec|education_vec|  default_vec|  housing_vec|     loan_vec|  contact_vec| poutcome_vec|            features|\n",
      "+---+-----------+-------+---------+-------+-------+-------+----+---------+---+-----+--------+--------+-----+--------+--------+-------+---------+-------------+---------------+-------------+-------------+----------+-------------+--------------+-----+--------------+-------------+-------------+-------------+-------------+-------------+-------------+-------------+--------------------+\n",
      "| 18|    student| single|  primary|     no|    608|     no|  no| cellular| 12|  aug|     267|       1|   -1|       0| unknown|    yes|      7.0|          1.0|            2.0|          0.0|          0.0|       0.0|          0.0|           0.0|  1.0|(11,[7],[1.0])|(2,[1],[1.0])|(3,[2],[1.0])|(1,[0],[1.0])|(1,[0],[1.0])|(1,[0],[1.0])|(2,[0],[1.0])|(3,[0],[1.0])|(30,[7,12,15,16,1...|\n",
      "| 18|    student| single|secondary|     no|      5|     no|  no| cellular| 24|  aug|     143|       2|   -1|       0| unknown|     no|      7.0|          1.0|            0.0|          0.0|          0.0|       0.0|          0.0|           0.0|  0.0|(11,[7],[1.0])|(2,[1],[1.0])|(3,[0],[1.0])|(1,[0],[1.0])|(1,[0],[1.0])|(1,[0],[1.0])|(2,[0],[1.0])|(3,[0],[1.0])|(30,[7,12,13,16,1...|\n",
      "| 18|    student| single|  unknown|     no|      3|     no|  no| cellular| 25|  aug|     130|       2|   -1|       0| unknown|    yes|      7.0|          1.0|            3.0|          0.0|          0.0|       0.0|          0.0|           0.0|  1.0|(11,[7],[1.0])|(2,[1],[1.0])|    (3,[],[])|(1,[0],[1.0])|(1,[0],[1.0])|(1,[0],[1.0])|(2,[0],[1.0])|(3,[0],[1.0])|(30,[7,12,16,17,1...|\n",
      "| 18|    student| single|  unknown|     no|    108|     no|  no| cellular|  8|  sep|     169|       1|   -1|       0| unknown|    yes|      7.0|          1.0|            3.0|          0.0|          0.0|       0.0|          0.0|           0.0|  1.0|(11,[7],[1.0])|(2,[1],[1.0])|    (3,[],[])|(1,[0],[1.0])|(1,[0],[1.0])|(1,[0],[1.0])|(2,[0],[1.0])|(3,[0],[1.0])|(30,[7,12,16,17,1...|\n",
      "| 18|    student| single|  unknown|     no|    108|     no|  no| cellular| 10|  aug|     167|       1|   -1|       0| unknown|    yes|      7.0|          1.0|            3.0|          0.0|          0.0|       0.0|          0.0|           0.0|  1.0|(11,[7],[1.0])|(2,[1],[1.0])|    (3,[],[])|(1,[0],[1.0])|(1,[0],[1.0])|(1,[0],[1.0])|(2,[0],[1.0])|(3,[0],[1.0])|(30,[7,12,16,17,1...|\n",
      "| 18|    student| single|  unknown|     no|    348|     no|  no| cellular|  5|  may|     443|       4|   -1|       0| unknown|    yes|      7.0|          1.0|            3.0|          0.0|          0.0|       0.0|          0.0|           0.0|  1.0|(11,[7],[1.0])|(2,[1],[1.0])|    (3,[],[])|(1,[0],[1.0])|(1,[0],[1.0])|(1,[0],[1.0])|(2,[0],[1.0])|(3,[0],[1.0])|(30,[7,12,16,17,1...|\n",
      "| 19|    student| single|  primary|     no|    134|     no|  no| cellular| 27|  mar|     271|       2|   -1|       0| unknown|    yes|      7.0|          1.0|            2.0|          0.0|          0.0|       0.0|          0.0|           0.0|  1.0|(11,[7],[1.0])|(2,[1],[1.0])|(3,[2],[1.0])|(1,[0],[1.0])|(1,[0],[1.0])|(1,[0],[1.0])|(2,[0],[1.0])|(3,[0],[1.0])|(30,[7,12,15,16,1...|\n",
      "| 19|    student| single|  primary|     no|    608|     no|  no| cellular| 12|  may|     236|       1|  180|       2| success|    yes|      7.0|          1.0|            2.0|          0.0|          0.0|       0.0|          0.0|           2.0|  1.0|(11,[7],[1.0])|(2,[1],[1.0])|(3,[2],[1.0])|(1,[0],[1.0])|(1,[0],[1.0])|(1,[0],[1.0])|(2,[0],[1.0])|(3,[2],[1.0])|(30,[7,12,15,16,1...|\n",
      "| 19|    student| single|secondary|     no|     55|     no|  no|telephone|  6|  oct|      89|       2|  193|       1|   other|     no|      7.0|          1.0|            0.0|          0.0|          0.0|       0.0|          2.0|           3.0|  0.0|(11,[7],[1.0])|(2,[1],[1.0])|(3,[0],[1.0])|(1,[0],[1.0])|(1,[0],[1.0])|(1,[0],[1.0])|    (2,[],[])|    (3,[],[])|(30,[7,12,13,16,1...|\n",
      "| 19|    student| single|secondary|     no|    302|     no|  no| cellular| 16|  jul|     205|       1|   -1|       0| unknown|    yes|      7.0|          1.0|            0.0|          0.0|          0.0|       0.0|          0.0|           0.0|  1.0|(11,[7],[1.0])|(2,[1],[1.0])|(3,[0],[1.0])|(1,[0],[1.0])|(1,[0],[1.0])|(1,[0],[1.0])|(2,[0],[1.0])|(3,[0],[1.0])|(30,[7,12,13,16,1...|\n",
      "| 19|    student| single|secondary|     no|    329|     no|  no| cellular| 30|  apr|     169|       1|  190|       2| success|    yes|      7.0|          1.0|            0.0|          0.0|          0.0|       0.0|          0.0|           2.0|  1.0|(11,[7],[1.0])|(2,[1],[1.0])|(3,[0],[1.0])|(1,[0],[1.0])|(1,[0],[1.0])|(1,[0],[1.0])|(2,[0],[1.0])|(3,[2],[1.0])|(30,[7,12,13,16,1...|\n",
      "| 19|    student| single|secondary|     no|    394|     no|  no| cellular|  5|  apr|     327|       3|   -1|       0| unknown|    yes|      7.0|          1.0|            0.0|          0.0|          0.0|       0.0|          0.0|           0.0|  1.0|(11,[7],[1.0])|(2,[1],[1.0])|(3,[0],[1.0])|(1,[0],[1.0])|(1,[0],[1.0])|(1,[0],[1.0])|(2,[0],[1.0])|(3,[0],[1.0])|(30,[7,12,13,16,1...|\n",
      "| 19|    student| single|  unknown|     no|     60|     no|  no| cellular| 14|  aug|     253|       1|   -1|       0| unknown|     no|      7.0|          1.0|            3.0|          0.0|          0.0|       0.0|          0.0|           0.0|  0.0|(11,[7],[1.0])|(2,[1],[1.0])|    (3,[],[])|(1,[0],[1.0])|(1,[0],[1.0])|(1,[0],[1.0])|(2,[0],[1.0])|(3,[0],[1.0])|(30,[7,12,16,17,1...|\n",
      "| 19|    student| single|  unknown|     no|    108|     no|  no| cellular|  9|  mar|     273|       2|  182|       1| success|    yes|      7.0|          1.0|            3.0|          0.0|          0.0|       0.0|          0.0|           2.0|  1.0|(11,[7],[1.0])|(2,[1],[1.0])|    (3,[],[])|(1,[0],[1.0])|(1,[0],[1.0])|(1,[0],[1.0])|(2,[0],[1.0])|(3,[2],[1.0])|(30,[7,12,16,17,1...|\n",
      "| 19|    student| single|  unknown|     no|    108|     no|  no| cellular| 10|  aug|     168|       1|  182|       2| success|    yes|      7.0|          1.0|            3.0|          0.0|          0.0|       0.0|          0.0|           2.0|  1.0|(11,[7],[1.0])|(2,[1],[1.0])|    (3,[],[])|(1,[0],[1.0])|(1,[0],[1.0])|(1,[0],[1.0])|(2,[0],[1.0])|(3,[2],[1.0])|(30,[7,12,16,17,1...|\n",
      "| 20|     admin.| single|secondary|     no|    336|     no| yes| cellular|  5|  jun|     133|       1|   -1|       0| unknown|     no|      3.0|          1.0|            0.0|          0.0|          0.0|       1.0|          0.0|           0.0|  0.0|(11,[3],[1.0])|(2,[1],[1.0])|(3,[0],[1.0])|(1,[0],[1.0])|(1,[0],[1.0])|    (1,[],[])|(2,[0],[1.0])|(3,[0],[1.0])|(30,[3,12,13,16,1...|\n",
      "| 20|blue-collar| single|secondary|     no|     76|    yes|  no| cellular| 18|  may|     639|       2|   -1|       0| unknown|    yes|      1.0|          1.0|            0.0|          0.0|          1.0|       0.0|          0.0|           0.0|  1.0|(11,[1],[1.0])|(2,[1],[1.0])|(3,[0],[1.0])|(1,[0],[1.0])|    (1,[],[])|(1,[0],[1.0])|(2,[0],[1.0])|(3,[0],[1.0])|(30,[1,12,13,16,1...|\n",
      "| 20|blue-collar| single|secondary|     no|    423|    yes|  no| cellular| 16|  apr|     498|       1|   -1|       0| unknown|    yes|      1.0|          1.0|            0.0|          0.0|          1.0|       0.0|          0.0|           0.0|  1.0|(11,[1],[1.0])|(2,[1],[1.0])|(3,[0],[1.0])|(1,[0],[1.0])|    (1,[],[])|(1,[0],[1.0])|(2,[0],[1.0])|(3,[0],[1.0])|(30,[1,12,13,16,1...|\n",
      "| 20|    student|married|  unknown|     no|    292|     no|  no| cellular|  5|  aug|     385|       2|   93|       1| failure|    yes|      7.0|          0.0|            3.0|          0.0|          0.0|       0.0|          0.0|           1.0|  1.0|(11,[7],[1.0])|(2,[0],[1.0])|    (3,[],[])|(1,[0],[1.0])|(1,[0],[1.0])|(1,[0],[1.0])|(2,[0],[1.0])|(3,[1],[1.0])|(30,[7,11,16,17,1...|\n",
      "| 20|    student| single|  primary|     no|      0|     no|  no| cellular|  1|  feb|     143|       5|   91|       8| failure|     no|      7.0|          1.0|            2.0|          0.0|          0.0|       0.0|          0.0|           1.0|  0.0|(11,[7],[1.0])|(2,[1],[1.0])|(3,[2],[1.0])|(1,[0],[1.0])|(1,[0],[1.0])|(1,[0],[1.0])|(2,[0],[1.0])|(3,[1],[1.0])|(30,[7,12,15,16,1...|\n",
      "+---+-----------+-------+---------+-------+-------+-------+----+---------+---+-----+--------+--------+-----+--------+--------+-------+---------+-------------+---------------+-------------+-------------+----------+-------------+--------------+-----+--------------+-------------+-------------+-------------+-------------+-------------+-------------+-------------+--------------------+\n",
      "only showing top 20 rows\n",
      "\n"
     ]
    }
   ],
   "source": [
    "#Write your code here\n",
    "tvs = df_pipeline.randomSplit([0.6, 0.4], seed=26)\n",
    "training = tvs[0]\n",
    "testing = tvs[1]\n",
    "training.show()"
   ]
  },
  {
   "cell_type": "code",
   "execution_count": 26,
   "metadata": {},
   "outputs": [
    {
     "name": "stdout",
     "output_type": "stream",
     "text": [
      "+---+------------+-------+---------+-------+-------+-------+----+---------+---+-----+--------+--------+-----+--------+--------+-------+---------+-------------+---------------+-------------+-------------+----------+-------------+--------------+-----+--------------+-------------+-------------+-------------+-------------+-------------+-------------+-------------+--------------------+\n",
      "|age|         job|marital|education|default|balance|housing|loan|  contact|day|month|duration|campaign|pdays|previous|poutcome|deposit|job_index|marital_index|education_index|default_index|housing_index|loan_index|contact_index|poutcome_index|label|       job_vec|  marital_vec|education_vec|  default_vec|  housing_vec|     loan_vec|  contact_vec| poutcome_vec|            features|\n",
      "+---+------------+-------+---------+-------+-------+-------+----+---------+---+-----+--------+--------+-----+--------+--------+-------+---------+-------------+---------------+-------------+-------------+----------+-------------+--------------+-----+--------------+-------------+-------------+-------------+-------------+-------------+-------------+-------------+--------------------+\n",
      "| 18|     student| single|  primary|     no|    608|     no|  no| cellular| 13|  nov|     210|       1|   93|       1| success|    yes|      7.0|          1.0|            2.0|          0.0|          0.0|       0.0|          0.0|           2.0|  1.0|(11,[7],[1.0])|(2,[1],[1.0])|(3,[2],[1.0])|(1,[0],[1.0])|(1,[0],[1.0])|(1,[0],[1.0])|(2,[0],[1.0])|(3,[2],[1.0])|(30,[7,12,15,16,1...|\n",
      "| 18|     student| single|  unknown|     no|    108|     no|  no| cellular|  9|  feb|      92|       1|  183|       1| success|    yes|      7.0|          1.0|            3.0|          0.0|          0.0|       0.0|          0.0|           2.0|  1.0|(11,[7],[1.0])|(2,[1],[1.0])|    (3,[],[])|(1,[0],[1.0])|(1,[0],[1.0])|(1,[0],[1.0])|(2,[0],[1.0])|(3,[2],[1.0])|(30,[7,12,16,17,1...|\n",
      "| 19|     student| single|  primary|     no|    103|     no|  no| cellular| 10|  jul|     104|       2|   -1|       0| unknown|    yes|      7.0|          1.0|            2.0|          0.0|          0.0|       0.0|          0.0|           0.0|  1.0|(11,[7],[1.0])|(2,[1],[1.0])|(3,[2],[1.0])|(1,[0],[1.0])|(1,[0],[1.0])|(1,[0],[1.0])|(2,[0],[1.0])|(3,[0],[1.0])|(30,[7,12,15,16,1...|\n",
      "| 19|     student| single|secondary|     no|    329|     no|  no| cellular| 22|  oct|     252|       2|   -1|       0| unknown|    yes|      7.0|          1.0|            0.0|          0.0|          0.0|       0.0|          0.0|           0.0|  1.0|(11,[7],[1.0])|(2,[1],[1.0])|(3,[0],[1.0])|(1,[0],[1.0])|(1,[0],[1.0])|(1,[0],[1.0])|(2,[0],[1.0])|(3,[0],[1.0])|(30,[7,12,13,16,1...|\n",
      "| 19|     student| single|secondary|     no|    372|     no|  no|telephone|  8|  jul|     444|       3|   -1|       0| unknown|    yes|      7.0|          1.0|            0.0|          0.0|          0.0|       0.0|          2.0|           0.0|  1.0|(11,[7],[1.0])|(2,[1],[1.0])|(3,[0],[1.0])|(1,[0],[1.0])|(1,[0],[1.0])|(1,[0],[1.0])|    (2,[],[])|(3,[0],[1.0])|(30,[7,12,13,16,1...|\n",
      "| 19|     student| single|  unknown|     no|    779|     no|  no| cellular|  1|  apr|     184|       4|   -1|       0| unknown|    yes|      7.0|          1.0|            3.0|          0.0|          0.0|       0.0|          0.0|           0.0|  1.0|(11,[7],[1.0])|(2,[1],[1.0])|    (3,[],[])|(1,[0],[1.0])|(1,[0],[1.0])|(1,[0],[1.0])|(2,[0],[1.0])|(3,[0],[1.0])|(30,[7,12,16,17,1...|\n",
      "| 20|     student| single|secondary|     no|    215|     no|  no| cellular| 21|  aug|     228|       4|  183|       1|   other|    yes|      7.0|          1.0|            0.0|          0.0|          0.0|       0.0|          0.0|           3.0|  1.0|(11,[7],[1.0])|(2,[1],[1.0])|(3,[0],[1.0])|(1,[0],[1.0])|(1,[0],[1.0])|(1,[0],[1.0])|(2,[0],[1.0])|    (3,[],[])|(30,[7,12,13,16,1...|\n",
      "| 20|     student| single|secondary|     no|    215|     no|  no| cellular| 24|  feb|     175|       1|   92|       6| success|    yes|      7.0|          1.0|            0.0|          0.0|          0.0|       0.0|          0.0|           2.0|  1.0|(11,[7],[1.0])|(2,[1],[1.0])|(3,[0],[1.0])|(1,[0],[1.0])|(1,[0],[1.0])|(1,[0],[1.0])|(2,[0],[1.0])|(3,[2],[1.0])|(30,[7,12,13,16,1...|\n",
      "| 20|     student| single|secondary|     no|    215|     no|  no| cellular| 24|  nov|     325|       1|   95|       5| success|    yes|      7.0|          1.0|            0.0|          0.0|          0.0|       0.0|          0.0|           2.0|  1.0|(11,[7],[1.0])|(2,[1],[1.0])|(3,[0],[1.0])|(1,[0],[1.0])|(1,[0],[1.0])|(1,[0],[1.0])|(2,[0],[1.0])|(3,[2],[1.0])|(30,[7,12,13,16,1...|\n",
      "| 20|     student| single|  unknown|     no|    829|     no|  no| cellular| 27|  jan|     196|       3|  202|       2| success|    yes|      7.0|          1.0|            3.0|          0.0|          0.0|       0.0|          0.0|           2.0|  1.0|(11,[7],[1.0])|(2,[1],[1.0])|    (3,[],[])|(1,[0],[1.0])|(1,[0],[1.0])|(1,[0],[1.0])|(2,[0],[1.0])|(3,[2],[1.0])|(30,[7,12,16,17,1...|\n",
      "| 21|      admin.| single|secondary|     no|    524|     no|  no| cellular| 26|  may|     185|       1|   -1|       0| unknown|    yes|      3.0|          1.0|            0.0|          0.0|          0.0|       0.0|          0.0|           0.0|  1.0|(11,[3],[1.0])|(2,[1],[1.0])|(3,[0],[1.0])|(1,[0],[1.0])|(1,[0],[1.0])|(1,[0],[1.0])|(2,[0],[1.0])|(3,[0],[1.0])|(30,[3,12,13,16,1...|\n",
      "| 21| blue-collar|married|  primary|     no|   -172|    yes| yes| cellular| 15|  may|     409|       1|  361|       3| failure|    yes|      1.0|          0.0|            2.0|          0.0|          1.0|       1.0|          0.0|           1.0|  1.0|(11,[1],[1.0])|(2,[0],[1.0])|(3,[2],[1.0])|(1,[0],[1.0])|    (1,[],[])|    (1,[],[])|(2,[0],[1.0])|(3,[1],[1.0])|(30,[1,11,15,16,1...|\n",
      "| 21| blue-collar| single|secondary|     no|   2265|     no|  no| cellular| 27|  may|     156|       4|   99|       2| success|     no|      1.0|          1.0|            0.0|          0.0|          0.0|       0.0|          0.0|           2.0|  0.0|(11,[1],[1.0])|(2,[1],[1.0])|(3,[0],[1.0])|(1,[0],[1.0])|(1,[0],[1.0])|(1,[0],[1.0])|(2,[0],[1.0])|(3,[2],[1.0])|(30,[1,12,13,16,1...|\n",
      "| 21|entrepreneur| single| tertiary|     no|   2077|     no|  no| cellular|  5|  aug|     323|       1|   -1|       0| unknown|    yes|      9.0|          1.0|            1.0|          0.0|          0.0|       0.0|          0.0|           0.0|  1.0|(11,[9],[1.0])|(2,[1],[1.0])|(3,[1],[1.0])|(1,[0],[1.0])|(1,[0],[1.0])|(1,[0],[1.0])|(2,[0],[1.0])|(3,[0],[1.0])|(30,[9,12,14,16,1...|\n",
      "| 21|    services| single|secondary|     no|    361|     no|  no|telephone|  5|  jun|     329|       1|   95|       1|   other|     no|      4.0|          1.0|            0.0|          0.0|          0.0|       0.0|          2.0|           3.0|  0.0|(11,[4],[1.0])|(2,[1],[1.0])|(3,[0],[1.0])|(1,[0],[1.0])|(1,[0],[1.0])|(1,[0],[1.0])|    (2,[],[])|    (3,[],[])|(30,[4,12,13,16,1...|\n",
      "| 21|     student| single|  primary|     no|    423|     no|  no|telephone| 18|  jan|     287|       5|  285|       5| success|    yes|      7.0|          1.0|            2.0|          0.0|          0.0|       0.0|          2.0|           2.0|  1.0|(11,[7],[1.0])|(2,[1],[1.0])|(3,[2],[1.0])|(1,[0],[1.0])|(1,[0],[1.0])|(1,[0],[1.0])|    (2,[],[])|(3,[2],[1.0])|(30,[7,12,15,16,1...|\n",
      "| 21|     student| single|secondary|     no|     71|     no|  no| cellular| 13|  jan|     169|       2|   -1|       0| unknown|    yes|      7.0|          1.0|            0.0|          0.0|          0.0|       0.0|          0.0|           0.0|  1.0|(11,[7],[1.0])|(2,[1],[1.0])|(3,[0],[1.0])|(1,[0],[1.0])|(1,[0],[1.0])|(1,[0],[1.0])|(2,[0],[1.0])|(3,[0],[1.0])|(30,[7,12,13,16,1...|\n",
      "| 21|     student| single|secondary|     no|    123|     no|  no|telephone| 11|  nov|     513|       1|   91|       1| success|    yes|      7.0|          1.0|            0.0|          0.0|          0.0|       0.0|          2.0|           2.0|  1.0|(11,[7],[1.0])|(2,[1],[1.0])|(3,[0],[1.0])|(1,[0],[1.0])|(1,[0],[1.0])|(1,[0],[1.0])|    (2,[],[])|(3,[2],[1.0])|(30,[7,12,13,16,1...|\n",
      "| 21|     student| single|secondary|     no|    123|     no|  no|telephone| 12|  aug|     449|       1|   -1|       0| unknown|    yes|      7.0|          1.0|            0.0|          0.0|          0.0|       0.0|          2.0|           0.0|  1.0|(11,[7],[1.0])|(2,[1],[1.0])|(3,[0],[1.0])|(1,[0],[1.0])|(1,[0],[1.0])|(1,[0],[1.0])|    (2,[],[])|(3,[0],[1.0])|(30,[7,12,13,16,1...|\n",
      "| 21|     student| single|secondary|     no|    794|     no|  no| cellular|  5|  jun|     191|       1|   -1|       0| unknown|    yes|      7.0|          1.0|            0.0|          0.0|          0.0|       0.0|          0.0|           0.0|  1.0|(11,[7],[1.0])|(2,[1],[1.0])|(3,[0],[1.0])|(1,[0],[1.0])|(1,[0],[1.0])|(1,[0],[1.0])|(2,[0],[1.0])|(3,[0],[1.0])|(30,[7,12,13,16,1...|\n",
      "+---+------------+-------+---------+-------+-------+-------+----+---------+---+-----+--------+--------+-----+--------+--------+-------+---------+-------------+---------------+-------------+-------------+----------+-------------+--------------+-----+--------------+-------------+-------------+-------------+-------------+-------------+-------------+-------------+--------------------+\n",
      "only showing top 20 rows\n",
      "\n"
     ]
    }
   ],
   "source": [
    "testing.show()"
   ]
  },
  {
   "attachments": {
    "image.png": {
     "image/png": "[encoded data removed]"
    }
   },
   "cell_type": "markdown",
   "metadata": {},
   "source": [
    "## ML Classification Models <a class=\"anchor\" name=\"models\"></a>\n",
    "<hr />\n",
    "\n",
    "### Decision Tree <a class=\"anchor\" name=\"dt\"></a>\n",
    "Decision tree algorithms are said to be widely used because they process categorical data and are readily available in classification tasks by multiple classes. The goal of using a Decision Tree is to create a training model that can use to predict the class or value of the target variable by learning simple decision rules inferred from prior data(training data). The picture below shows some components in a decistion tree.\n",
    "![image.png](attachment:image.png)\n",
    "Decision trees use multiple algorithms to decide to split a node into two or more sub-nodes. The creation of sub-nodes increases the homogeneity of resultant sub-nodes. In other words, we can say that the purity of the node increases with respect to the target variable. The decision tree splits the nodes on all available variables and then selects the split which results in most homogeneous sub-nodes.\n",
    "\n",
    "On the downside, decision trees are prone to overfitting. They can easily become over-complex which prevents them from generalizing well to the structure in the dataset. In that case, the model is likely to end up overfitting which is a serious issue in machine learning. To overcome this decision tree hyperparameters could be tuned. For a description of some parameters, refer to this\n",
    "<a href=\"https://towardsdatascience.com/hyperparameters-of-decision-trees-explained-with-visualizations-1a6ef2f67edf\" target=\"_BLANK\">link</a>"
   ]
  },
  {
   "cell_type": "code",
   "execution_count": 23,
   "metadata": {},
   "outputs": [],
   "source": [
    "from pyspark.ml.classification import DecisionTreeClassifier\n",
    "\n",
    "# Extracts the number of nodes in the decision tree and the tree depth in the model and stores it in dt.\n",
    "dt = DecisionTreeClassifier(featuresCol = 'features', labelCol = 'label', maxDepth = 3)\n",
    "\n",
    "dtModel = dt.fit(training) #WRITE CODE : Use the fit method to train the model with the training data you created in Step 4"
   ]
  },
  {
   "cell_type": "code",
   "execution_count": 33,
   "metadata": {},
   "outputs": [
    {
     "name": "stdout",
     "output_type": "stream",
     "text": [
      "+----------+--------------------+-----+\n",
      "|prediction|            features|label|\n",
      "+----------+--------------------+-----+\n",
      "|       1.0|(30,[7,12,15,16,1...|  1.0|\n",
      "|       1.0|(30,[7,12,16,17,1...|  1.0|\n",
      "|       0.0|(30,[7,12,15,16,1...|  1.0|\n",
      "|       1.0|(30,[7,12,13,16,1...|  1.0|\n",
      "|       1.0|(30,[7,12,13,16,1...|  1.0|\n",
      "|       1.0|(30,[7,12,16,17,1...|  1.0|\n",
      "|       1.0|(30,[7,12,13,16,1...|  1.0|\n",
      "|       1.0|(30,[7,12,13,16,1...|  1.0|\n",
      "|       1.0|(30,[7,12,13,16,1...|  1.0|\n",
      "|       1.0|(30,[7,12,16,17,1...|  1.0|\n",
      "|       1.0|(30,[3,12,13,16,1...|  1.0|\n",
      "|       1.0|(30,[1,11,15,16,1...|  1.0|\n",
      "|       1.0|(30,[1,12,13,16,1...|  0.0|\n",
      "|       1.0|(30,[9,12,14,16,1...|  1.0|\n",
      "|       1.0|(30,[4,12,13,16,1...|  0.0|\n",
      "|       1.0|(30,[7,12,15,16,1...|  1.0|\n",
      "|       0.0|(30,[7,12,13,16,1...|  1.0|\n",
      "|       1.0|(30,[7,12,13,16,1...|  1.0|\n",
      "|       1.0|(30,[7,12,13,16,1...|  1.0|\n",
      "|       1.0|(30,[7,12,13,16,1...|  1.0|\n",
      "+----------+--------------------+-----+\n",
      "only showing top 20 rows\n",
      "\n"
     ]
    }
   ],
   "source": [
    "dtPredictions = dtModel.transform(testing)#WRITE CODE to get predictions from the test data\n",
    "#WRITE CODE to Display the predictions\n",
    "dtPredictions.select('prediction','features','label').show()\n"
   ]
  },
  {
   "cell_type": "markdown",
   "metadata": {},
   "source": [
    "<div style=\"background:rgba(0,109,174,0.2);padding:10px;border-radius:4px\"><strong style=\"color:#006DAE\">NOTE: </strong>\n",
    "    You can see that DecisionTree has a parameter called <code>maxDepth</code>. Discuss the significance of this parameter.\n",
    "</div>"
   ]
  },
  {
   "cell_type": "markdown",
   "metadata": {},
   "source": [
    "### Random Forest <a class=\"anchor\" name=\"rf\"></a>"
   ]
  },
  {
   "cell_type": "code",
   "execution_count": 45,
   "metadata": {},
   "outputs": [],
   "source": [
    "# WRITE CODE: Implement Random Forest Classifier\n",
    "from pyspark.ml.classification import RandomForestClassifier\n",
    "#WRITE CODE : Create a Random Forest Classiication model and train it\n",
    "rf = RandomForestClassifier(featuresCol = 'features', labelCol = 'label', maxDepth = 3, numTrees=2)\n",
    "rfModel = rf.fit(training)"
   ]
  },
  {
   "cell_type": "code",
   "execution_count": 46,
   "metadata": {},
   "outputs": [
    {
     "name": "stdout",
     "output_type": "stream",
     "text": [
      "+----------+--------------------+-----+\n",
      "|prediction|            features|label|\n",
      "+----------+--------------------+-----+\n",
      "|       1.0|(30,[7,12,15,16,1...|  1.0|\n",
      "|       1.0|(30,[7,12,16,17,1...|  1.0|\n",
      "|       0.0|(30,[7,12,15,16,1...|  1.0|\n",
      "|       0.0|(30,[7,12,13,16,1...|  1.0|\n",
      "|       1.0|(30,[7,12,13,16,1...|  1.0|\n",
      "|       0.0|(30,[7,12,16,17,1...|  1.0|\n",
      "|       1.0|(30,[7,12,13,16,1...|  1.0|\n",
      "|       1.0|(30,[7,12,13,16,1...|  1.0|\n",
      "|       1.0|(30,[7,12,13,16,1...|  1.0|\n",
      "|       1.0|(30,[7,12,16,17,1...|  1.0|\n",
      "|       0.0|(30,[3,12,13,16,1...|  1.0|\n",
      "|       1.0|(30,[1,11,15,16,1...|  1.0|\n",
      "|       1.0|(30,[1,12,13,16,1...|  0.0|\n",
      "|       0.0|(30,[9,12,14,16,1...|  1.0|\n",
      "|       1.0|(30,[4,12,13,16,1...|  0.0|\n",
      "|       1.0|(30,[7,12,15,16,1...|  1.0|\n",
      "|       0.0|(30,[7,12,13,16,1...|  1.0|\n",
      "|       1.0|(30,[7,12,13,16,1...|  1.0|\n",
      "|       1.0|(30,[7,12,13,16,1...|  1.0|\n",
      "|       0.0|(30,[7,12,13,16,1...|  1.0|\n",
      "+----------+--------------------+-----+\n",
      "only showing top 20 rows\n",
      "\n"
     ]
    }
   ],
   "source": [
    "#WRITE CODE : get the predictions for the test data\n",
    "rfPredictions = rfModel.transform(testing)#WRITE CODE to get predictions from the test data\n",
    "#WRITE CODE to Display the predictions\n",
    "rfPredictions.select('prediction','features','label').show()"
   ]
  },
  {
   "cell_type": "markdown",
   "metadata": {},
   "source": [
    "### Logistic Regression <a class=\"anchor\" name=\"lr\"></a>\n",
    "*Logistic Regression* is a classification algorithm. It is used to predict a binary outcome (1 / 0, Yes / No, True / False) given a set of independent variables. To represent binary/categorical outcome, we use dummy variables. You can also think of logistic regression as a special case of linear regression when the outcome variable is categorical, where we are using log of odds as dependent variable. In simple words, it predicts the probability of occurrence of an event by fitting data to a logit function."
   ]
  },
  {
   "cell_type": "code",
   "execution_count": 59,
   "metadata": {},
   "outputs": [],
   "source": [
    "# TODO: Implement Logistic Regression Classifier\n",
    "from pyspark.ml.classification import LogisticRegression\n",
    "\n",
    "lr = LogisticRegression(maxIter=10, regParam=0.001)\n",
    "#WRITE CODE Create an initial model using the train set.\n",
    "lrModel = lr.fit(training)"
   ]
  },
  {
   "cell_type": "code",
   "execution_count": 64,
   "metadata": {},
   "outputs": [
    {
     "name": "stdout",
     "output_type": "stream",
     "text": [
      "+----------+--------------------+-----+\n",
      "|prediction|            features|label|\n",
      "+----------+--------------------+-----+\n",
      "|       1.0|(30,[7,12,15,16,1...|  1.0|\n",
      "|       1.0|(30,[7,12,16,17,1...|  1.0|\n",
      "|       0.0|(30,[7,12,15,16,1...|  1.0|\n",
      "|       1.0|(30,[7,12,13,16,1...|  1.0|\n",
      "|       1.0|(30,[7,12,13,16,1...|  1.0|\n",
      "|       1.0|(30,[7,12,16,17,1...|  1.0|\n",
      "|       1.0|(30,[7,12,13,16,1...|  1.0|\n",
      "|       1.0|(30,[7,12,13,16,1...|  1.0|\n",
      "|       1.0|(30,[7,12,13,16,1...|  1.0|\n",
      "|       1.0|(30,[7,12,16,17,1...|  1.0|\n",
      "|       1.0|(30,[3,12,13,16,1...|  1.0|\n",
      "|       0.0|(30,[1,11,15,16,1...|  1.0|\n",
      "|       1.0|(30,[1,12,13,16,1...|  0.0|\n",
      "|       1.0|(30,[9,12,14,16,1...|  1.0|\n",
      "|       1.0|(30,[4,12,13,16,1...|  0.0|\n",
      "|       1.0|(30,[7,12,15,16,1...|  1.0|\n",
      "|       1.0|(30,[7,12,13,16,1...|  1.0|\n",
      "|       1.0|(30,[7,12,13,16,1...|  1.0|\n",
      "|       1.0|(30,[7,12,13,16,1...|  1.0|\n",
      "|       1.0|(30,[7,12,13,16,1...|  1.0|\n",
      "+----------+--------------------+-----+\n",
      "only showing top 20 rows\n",
      "\n"
     ]
    }
   ],
   "source": [
    "#WRITE CODE: Write the Predictions for test data and display the predictions\n",
    "lrPredictions = lrModel.transform(testing)\n",
    "lrPredictions.select('prediction','features','label').show()"
   ]
  },
  {
   "cell_type": "markdown",
   "metadata": {},
   "source": [
    "<div style=\"background:rgba(0,109,174,0.2);padding:10px;border-radius:4px\"><strong style=\"color:#006DAE\">NOTE: </strong>\n",
    "    Discuss various parameters used in <code>Logistic Regression</code>.\n",
    "</div>"
   ]
  },
  {
   "cell_type": "markdown",
   "metadata": {},
   "source": [
    "## Model Evaluation <a class=\"anchor\" name=\"model-evaluation\"></a>\n",
    "<hr />\n",
    "Our goal is not just to build a model, it is about selecting a model which gives high accuracy on our sample data. There are different kinds of evaluation metrics, the choice of these depend on the type and implementation plan. More details on evaluation metrics for classification in Spark can be found <a href=\"https://spark.apache.org/docs/latest/mllib-evaluation-metrics.html\" target=\"_BLANK\">here</a>.\n",
    "We are going to cover the following evaluation in this session:\n",
    "\n",
    "<ul>\n",
    "    <li>\n",
    "        Confusion Matrix\n",
    "        <ul>\n",
    "            <li>Accuracy</li>\n",
    "            <li>Precision</li>\n",
    "            <li>Recall</li>\n",
    "            <li>F1-Score</li>\n",
    "        </ul>\n",
    "    </li>\n",
    "    <li>AUC-ROC</li>        \n",
    "    </ul>\n",
    "\n",
    "#### Accuracy\n",
    "<span style=\"color:red;font-weight:bold\">Accuracy is useful when the target class is well balanced but is not a good choice with unbalanced classes.</span> For example, if a model is designed to predict fraud from a dataset where 95% of the data points are not fraud and 5% of the data points are fraud, then a naive classifier that predicts not fraud, regardless of input, will be 95% accurate. For this reason, metrics like precision and recall are typically used because they take into account the type of error. In most applications there is some desired balance between precision and recall, which can be captured by combining the two into a single metric, called the F-measure."
   ]
  },
  {
   "attachments": {
    "image.png": {
     "image/png": "[encoded data removed]"
    }
   },
   "cell_type": "markdown",
   "metadata": {},
   "source": [
    "#### Confusion Matrix <a class=\"anchor\" name=\"confusion-matrix\"></a>\n",
    "\n",
    "Confusion Matrix is a performance measurement for machine learning classification problem where output can be two or more classes. It is a table with 4 different combinations of predicted and actual values as shown in the picture below where T/F refers to true and positive respectively, and P/N to positive and negative respectively.\n",
    "<div>\n",
    "    <div style=\"float:left;width:50%\">\n",
    "<img src=\"attachment:image.png\">\n",
    "    </div>\n",
    "    <div style=\"float:right;width:50%;padding-top:50px\">\n",
    "    <img src=\"https://miro.medium.com/max/1400/1*UVP_xb4F6J-M-xH3haz5Jw.png\">\n",
    "    </div>\n",
    "    <div style=\"clear:both\"></div>\n",
    "    </div>\n",
    "\n",
    "From the confusion matrix, we can obtain the following indicators.\n",
    "\n",
    "- **Recall:** Out of all the positive classes, how much we predicted correctly. It should be high as possible.\n",
    "- **Precision:** Out of all the positive classes we have predicted correctly, how many are actually positive.\n",
    "- **Accuracy:** Out of all the classes, how much we predicted correctly. It should be high as possible.\n",
    "- **F1-Score : Combining Precision and Accuracy:** It is the weighted average of Precision and Recall. It takes both <strong>False Positives</strong> and <strong>False Negative </strong> into account."
   ]
  },
  {
   "cell_type": "markdown",
   "metadata": {},
   "source": [
    "<a class=\"anchor\" id=\"lab-task-2\"></a>\n",
    "<div style=\"background:rgba(0,109,174,0.2);padding:10px;border-radius:4px\"><strong style=\"color:#FF5555\">2. Lab Task: </strong>\n",
    "    Calculate the remaining <strong>False Negative and False Positive</strong> for <code>Decision Tree</code> based on the example below. Then Compute the other metrics, i.e. <strong>Accuracy</strong>, <strong>Precision</strong>, <strong>Recall</strong> and <strong>F1-Score</strong> for the DT Model.    \n",
    "    \n",
    "<strong style=\"color:orange\">NOTE:</strong>In our case we are using Yes=1 and No=0. Remember that 1 doesn't mean positive always, it will depend on how the Target variable is encoded as well.\n",
    "</div>\n"
   ]
  },
  {
   "cell_type": "code",
   "execution_count": 61,
   "metadata": {},
   "outputs": [
    {
     "name": "stdout",
     "output_type": "stream",
     "text": [
      "+-----+----------+-----+\n",
      "|label|prediction|count|\n",
      "+-----+----------+-----+\n",
      "|  1.0|       1.0| 1888|\n",
      "|  0.0|       1.0|  858|\n",
      "|  1.0|       0.0|  207|\n",
      "|  0.0|       0.0| 1469|\n",
      "+-----+----------+-----+\n",
      "\n",
      "Accuracy:0.7591587516960652\n",
      "Precision:0.6875455207574654\n",
      "Recall:0.9011933174224344\n",
      "F1:0.7800041313778145\n"
     ]
    }
   ],
   "source": [
    "# Calculate the elements of the confusion matrix\n",
    "TN = dtPredictions.filter('prediction = 0 AND label = 0').count()\n",
    "TP = dtPredictions.filter('prediction = 1 AND label = 1').count()\n",
    "FN = dtPredictions.filter('prediction = 0 AND label = 1').count()#WRITE CODE to find the False Negative\n",
    "FP = dtPredictions.filter('prediction = 1 AND label = 0').count()#WRITE CODE to find the False Positive\n",
    "\n",
    "# show confusion matrix\n",
    "dtPredictions.groupBy('label', 'prediction').count().show()\n",
    "# calculate metrics by the confusion matrix\n",
    "accuracy = (TP+TN)/(TP+TN+FN+FP)#WRITE CODE : formula to find accuracy\n",
    "precision = (TP)/(TP+FP)#WRITE CODE : formula to find precision\n",
    "recall = (TP)/(TP+FN)#WRITE CODE : formula to find recall\n",
    "f1 = (2)/((1/recall)+(1/precision))#WRITE CODE : formula to find F1-score\n",
    "\n",
    "#WRITE CODE : Display the various metrics calculated above\n",
    "print(f\"Accuracy:{accuracy}\")\n",
    "print(f\"Precision:{precision}\")\n",
    "print(f\"Recall:{recall}\")\n",
    "print(f\"F1:{f1}\")"
   ]
  },
  {
   "cell_type": "markdown",
   "metadata": {},
   "source": [
    "<a class=\"anchor\" id=\"lab-task-3\"></a>\n",
    "<div style=\"background:rgba(0,109,174,0.2);padding:10px;border-radius:4px\"><strong style=\"color:#FF5555\">3. Lab Task: </strong>\n",
    "    Create a function <code>compute_metrics()</code> which takes <strong>predictions</strong> as input parameter and computes all these metrics. Use the function to compute the 4 metrics for all 3 Classification Algorithms.\n",
    "</div>\n"
   ]
  },
  {
   "cell_type": "code",
   "execution_count": 62,
   "metadata": {},
   "outputs": [],
   "source": [
    "def compute_metrics(predictions):\n",
    "    # Calculate the elements of the confusion matrix\n",
    "    TN = predictions.filter('prediction = 0 AND label = 0').count()\n",
    "    TP = predictions.filter('prediction = 1 AND label = 1').count()\n",
    "    FN = predictions.filter('prediction = 0 AND label = 1').count()#WRITE CODE to find the False Negative\n",
    "    FP = predictions.filter('prediction = 1 AND label = 0').count()#WRITE CODE to find the False Positive\n",
    "\n",
    "    # show confusion matrix\n",
    "    predictions.groupBy('label', 'prediction').count().show()\n",
    "    # calculate metrics by the confusion matrix\n",
    "    accuracy = (TP+TN)/(TP+TN+FN+FP)#WRITE CODE : formula to find accuracy\n",
    "    precision = (TP)/(TP+FP)#WRITE CODE : formula to find precision\n",
    "    recall = (TP)/(TP+FN)#WRITE CODE : formula to find recall\n",
    "    f1 = (2)/((1/recall)+(1/precision))#WRITE CODE : formula to find F1-score\n",
    "    print(f\"Accuracy:{accuracy}\")\n",
    "    print(f\"Precision:{precision}\")\n",
    "    print(f\"Recall:{recall}\")\n",
    "    print(f\"F1:{f1}\")\n",
    "\n",
    "    #WRITE CODE: to calculate accuracy,precision,recall and f1 based on above example\n",
    "    return accuracy,precision,recall,f1    "
   ]
  },
  {
   "cell_type": "code",
   "execution_count": 65,
   "metadata": {},
   "outputs": [
    {
     "name": "stdout",
     "output_type": "stream",
     "text": [
      "Random Forest\n",
      "+-----+----------+-----+\n",
      "|label|prediction|count|\n",
      "+-----+----------+-----+\n",
      "|  1.0|       1.0| 1487|\n",
      "|  0.0|       1.0|  417|\n",
      "|  1.0|       0.0|  608|\n",
      "|  0.0|       0.0| 1910|\n",
      "+-----+----------+-----+\n",
      "\n",
      "Accuracy:0.7682044323835369\n",
      "Precision:0.7809873949579832\n",
      "Recall:0.7097852028639619\n",
      "F1:0.74368592148037\n",
      "Logistic Regression\n",
      "+-----+----------+-----+\n",
      "|label|prediction|count|\n",
      "+-----+----------+-----+\n",
      "|  1.0|       1.0| 1606|\n",
      "|  0.0|       1.0|  341|\n",
      "|  1.0|       0.0|  489|\n",
      "|  0.0|       0.0| 1986|\n",
      "+-----+----------+-----+\n",
      "\n",
      "Accuracy:0.8123021257349615\n",
      "Precision:0.8248587570621468\n",
      "Recall:0.7665871121718377\n",
      "F1:0.7946561108362198\n"
     ]
    },
    {
     "data": {
      "text/plain": [
       "(0.8123021257349615,\n",
       " 0.8248587570621468,\n",
       " 0.7665871121718377,\n",
       " 0.7946561108362198)"
      ]
     },
     "execution_count": 65,
     "metadata": {},
     "output_type": "execute_result"
    }
   ],
   "source": [
    "print(\"Random Forest\")\n",
    "compute_metrics(rfPredictions)\n",
    "print(\"Logistic Regression\")\n",
    "compute_metrics(lrPredictions)\n",
    "#WRITE CODE : Print the accuracy,precision,recall and f1 scores for each Classification algorithm, using the function created"
   ]
  },
  {
   "cell_type": "markdown",
   "metadata": {},
   "source": [
    "<a class=\"anchor\" id=\"lab-task-4\"></a>\n",
    "<div style=\"background:rgba(0,109,174,0.2);padding:10px;border-radius:4px\"><strong style=\"color:#FF5555\">4. Lab Task: </strong>\n",
    "  Present the accuracies, precision and recall of the different classification algorithms in a bar chart using <code>matplotlib</code>.  You can use the function given here:\n",
    "    <pre>\n",
    "    import matplotlib.pyplot as plt\n",
    "    %matplotlib inline\n",
    "    def plot_metrics(x,y):\n",
    "        plt.style.use('ggplot')   \n",
    "        x_pos = [i for i, _ in enumerate(x)]\n",
    "        plt.bar(x_pos, y, color='blue')\n",
    "        plt.xlabel(\"Classification Algorithms\")\n",
    "        plt.ylabel(\"AUC\")\n",
    "        plt.title(\"Accuracy of ML Classification Algorithms\")\n",
    "        plt.xticks(x_pos, x)\n",
    "        plt.show()\n",
    "    </pre>\n",
    "What do you observe about the differences in the accuracy/precision/recall/f1-scores for these different classification algorithms? How do you decide the most suitable metric? Discuss this with your tutor.   \n",
    "</div>\n"
   ]
  },
  {
   "cell_type": "code",
   "execution_count": 66,
   "metadata": {},
   "outputs": [
    {
     "name": "stdout",
     "output_type": "stream",
     "text": [
      "+-----+----------+-----+\n",
      "|label|prediction|count|\n",
      "+-----+----------+-----+\n",
      "|  1.0|       1.0| 1606|\n",
      "|  0.0|       1.0|  341|\n",
      "|  1.0|       0.0|  489|\n",
      "|  0.0|       0.0| 1986|\n",
      "+-----+----------+-----+\n",
      "\n",
      "Accuracy:0.8123021257349615\n",
      "Precision:0.8248587570621468\n",
      "Recall:0.7665871121718377\n",
      "F1:0.7946561108362198\n",
      "+-----+----------+-----+\n",
      "|label|prediction|count|\n",
      "+-----+----------+-----+\n",
      "|  1.0|       1.0| 1888|\n",
      "|  0.0|       1.0|  858|\n",
      "|  1.0|       0.0|  207|\n",
      "|  0.0|       0.0| 1469|\n",
      "+-----+----------+-----+\n",
      "\n",
      "Accuracy:0.7591587516960652\n",
      "Precision:0.6875455207574654\n",
      "Recall:0.9011933174224344\n",
      "F1:0.7800041313778145\n",
      "+-----+----------+-----+\n",
      "|label|prediction|count|\n",
      "+-----+----------+-----+\n",
      "|  1.0|       1.0| 1487|\n",
      "|  0.0|       1.0|  417|\n",
      "|  1.0|       0.0|  608|\n",
      "|  0.0|       0.0| 1910|\n",
      "+-----+----------+-----+\n",
      "\n",
      "Accuracy:0.7682044323835369\n",
      "Precision:0.7809873949579832\n",
      "Recall:0.7097852028639619\n",
      "F1:0.74368592148037\n"
     ]
    }
   ],
   "source": [
    "import numpy as np\n",
    "import matplotlib.pyplot as plt\n",
    "%matplotlib inline\n",
    "\n",
    "\n",
    "lr_acc,lr_pr,lr_rec,lr_f1=compute_metrics(lrPredictions)\n",
    "dt_acc,dt_pr,dt_rec,dt_f1=compute_metrics(dtPredictions)\n",
    "rf_acc,rf_pr,rf_rec,rf_f1=compute_metrics(rfPredictions)"
   ]
  },
  {
   "cell_type": "code",
   "execution_count": 67,
   "metadata": {},
   "outputs": [
    {
     "data": {
      "image/png": "[encoded data removed]",
      "text/plain": [
       "<Figure size 640x480 with 1 Axes>"
      ]
     },
     "metadata": {},
     "output_type": "display_data"
    }
   ],
   "source": [
    "y_acc=[lr_acc,dt_acc,rf_acc]\n",
    "y_pr=[lr_pr,dt_pr,rf_pr]\n",
    "y_rec=[lr_rec,dt_rec,rf_rec]\n",
    "\n",
    "# set width of bar\n",
    "barWidth = 0.25\n",
    "    \n",
    "# Set position of bar on X axis\n",
    "r1 = np.arange(len(y_acc))\n",
    "r2 = [x + barWidth for x in r1]\n",
    "r3 = [x + barWidth for x in r2]\n",
    "\n",
    "# Make the plot\n",
    "plt.bar(r1, y_acc, color='#7f6d5f', width=barWidth, edgecolor='white', label='Accuracy')\n",
    "plt.bar(r2, y_pr, color='#557f2d', width=barWidth, edgecolor='white', label='Precision')\n",
    "plt.bar(r3, y_rec, color='#2d7f5e', width=barWidth, edgecolor='white', label='Recall')\n",
    " \n",
    "# Add xticks on the middle of the group bars\n",
    "plt.xlabel('group', fontweight='bold')\n",
    "plt.xticks([r + barWidth for r in range(len(y_acc))], ['LR', 'DT', 'RF'])\n",
    " \n",
    "# Create legend & Show graphic\n",
    "plt.legend()\n",
    "plt.show()"
   ]
  },
  {
   "cell_type": "code",
   "execution_count": null,
   "metadata": {},
   "outputs": [],
   "source": [
    "import matplotlib.pyplot as plt\n",
    "%matplotlib inline\n",
    "def plot_metrics(x,y):\n",
    "    plt.style.use('ggplot')   \n",
    "    x_pos = [i for i, _ in enumerate(x)]\n",
    "    plt.bar(x_pos, y, color='blue')\n",
    "    plt.xlabel(\"Classification Algorithms\")\n",
    "    plt.ylabel(\"AUC\")\n",
    "    plt.title(\"Accuracy of ML Classification Algorithms\")\n",
    "    plt.xticks(x_pos, x)\n",
    "    plt.show()\n",
    "    \n"
   ]
  },
  {
   "attachments": {
    "image.png": {
     "image/png": "[encoded data removed]"
    }
   },
   "cell_type": "markdown",
   "metadata": {},
   "source": [
    "#### Area Under the Curve (AUC-ROC) <a class=\"anchor\" name=\"roc\"></a>\n",
    "When we need to check or visualize the performance of the multi - class classification problem, we use AUC (Area Under The Curve) ROC (Receiver Operating Characteristics) curve. It is one of the most important evaluation metrics for checking any classification model’s performance.\n",
    "\n",
    "<br/><br/>\n",
    "\n",
    "<div style=\"width:40%;float:left;text-align:left;\">\n",
    "<img src=\"attachment:image.png\" width=\"200px;\">\n",
    "    </div><div style=\"width:60%;float:right;text-align:justify\">\n",
    "AUC - ROC curve is a performance measurement for classification problem at various thresholds settings. ROC is a probability curve and AUC represents degree or measure of separability. It tells how much model is capable of distinguishing between classes. Higher the AUC, better the model is at predicting 0s as 0s and 1s as 1s.\n",
    "    \n",
    "In the example below, we are using Spark's <code>BinaryClassificationEvaluator</code> to compute the AUC-ROC curve.\n",
    "   </div>\n",
    "   <div style=\"clear:both\"></div> "
   ]
  },
  {
   "cell_type": "markdown",
   "metadata": {},
   "source": [
    "##### Binary Classification Metrics <a class=\"anchor\" name=\"bce\"></a> \n",
    "Now let's evaluate the model using BinaryClassificationMetrics class in Spark ML. BinaryClassificationMetrics by default uses areaUnderROC as the performance metric.\n",
    "<a href=\"https://spark.apache.org/docs/latest/mllib-evaluation-metrics.html#binary-classification\" target='_BLANK'>Read More</a>"
   ]
  },
  {
   "cell_type": "markdown",
   "metadata": {},
   "source": [
    "<a class=\"anchor\" id=\"lab-task-5\"></a>\n",
    "<div style=\"background:rgba(0,109,174,0.2);padding:10px;border-radius:4px\"><strong style=\"color:#FF5555\">5. Lab Task: </strong>\n",
    "    Compute the <code>Area Under ROC</code> for the two other Algorithms based on the example below.\n",
    "</div>\n"
   ]
  },
  {
   "cell_type": "code",
   "execution_count": 68,
   "metadata": {},
   "outputs": [
    {
     "name": "stdout",
     "output_type": "stream",
     "text": [
      "0.7963253823282357\n",
      "areaUnderROC\n"
     ]
    }
   ],
   "source": [
    "# Use BinaryClassificationEvaluator to evaluate a model\n",
    "from pyspark.ml.evaluation import BinaryClassificationEvaluator\n",
    "\n",
    "# Evaluate model Decision Tree\n",
    "evaluator = BinaryClassificationEvaluator(rawPredictionCol=\"rawPrediction\")\n",
    "auc_dt = evaluator.evaluate(dtPredictions)\n",
    "print(auc_dt)\n",
    "print(evaluator.getMetricName())"
   ]
  },
  {
   "cell_type": "code",
   "execution_count": 69,
   "metadata": {},
   "outputs": [
    {
     "name": "stdout",
     "output_type": "stream",
     "text": [
      "0.8149713901250548\n",
      "areaUnderROC\n"
     ]
    }
   ],
   "source": [
    "#WRITE CODE : area under curve for Random Forest\n",
    "evaluator = BinaryClassificationEvaluator(rawPredictionCol=\"rawPrediction\")\n",
    "auc_dt = evaluator.evaluate(rfPredictions)\n",
    "print(auc_dt)\n",
    "print(evaluator.getMetricName())"
   ]
  },
  {
   "cell_type": "code",
   "execution_count": 70,
   "metadata": {},
   "outputs": [
    {
     "name": "stdout",
     "output_type": "stream",
     "text": [
      "0.8894739865006932\n",
      "areaUnderROC\n"
     ]
    }
   ],
   "source": [
    "#WRITE CODE : area under curve for Logistic Regression\n",
    "\n",
    "evaluator = BinaryClassificationEvaluator(rawPredictionCol=\"rawPrediction\")\n",
    "auc_dt = evaluator.evaluate(lrPredictions)\n",
    "print(auc_dt)\n",
    "print(evaluator.getMetricName())"
   ]
  },
  {
   "cell_type": "markdown",
   "metadata": {},
   "source": [
    "### Visualizing AUC-ROC <a class=\"anchor\" name=\"roc-viz\"></a> \n",
    "We can easily visualize the ROC curve for <strong>Logistic Regression</strong> using the <code>BinaryClassificationEvaluator</code>. The example below shows how to plot it using matplotlib.\n"
   ]
  },
  {
   "cell_type": "code",
   "execution_count": 71,
   "metadata": {},
   "outputs": [
    {
     "name": "stdout",
     "output_type": "stream",
     "text": [
      "Area Under ROC: 0.8894739865006932\n"
     ]
    },
    {
     "data": {
      "image/png": "[encoded data removed]",
      "text/plain": [
       "<Figure size 640x480 with 1 Axes>"
      ]
     },
     "metadata": {},
     "output_type": "display_data"
    }
   ],
   "source": [
    "import matplotlib.pyplot as plt\n",
    "\n",
    "print(\"Area Under ROC: \" + str(evaluator.evaluate(lrPredictions, {evaluator.metricName: \"areaUnderROC\"})))\n",
    "\n",
    "# Plot ROC curve\n",
    "trainingSummary = lrModel.summary\n",
    "roc = trainingSummary.roc.toPandas()\n",
    "plt.plot(roc['FPR'],roc['TPR'])\n",
    "plt.ylabel('TPR')\n",
    "plt.xlabel('FPR')\n",
    "plt.title('ROC Curve')\n",
    "plt.show()"
   ]
  },
  {
   "cell_type": "markdown",
   "metadata": {},
   "source": [
    "<div style=\"background:rgba(164,0,255,0.2);padding:10px;border-radius:4px\">\n",
    "However, for other algorithms, we need to calculate it manually. The ROC Curve is simply a line plot of <code>FPR</code> and <code>TPR</code> across all thresholds (i.e. 0-1). We can calculate <code>TPR</code> and <code>FPR</code> from the confusion matrix. However, by default, a threshold value of 0.5 is used while computing the confusion matrix. So we need a way to compute the confusion matrix for different thresholds.</div>"
   ]
  },
  {
   "cell_type": "markdown",
   "metadata": {},
   "source": [
    "##### Getting the thresholds\n",
    "We can simply use numpy <code>linspace</code> to get a list of thresholds."
   ]
  },
  {
   "cell_type": "code",
   "execution_count": 72,
   "metadata": {},
   "outputs": [
    {
     "name": "stdout",
     "output_type": "stream",
     "text": [
      "[0.         0.01010101 0.02020202 0.03030303 0.04040404 0.05050505\n",
      " 0.06060606 0.07070707 0.08080808 0.09090909 0.1010101  0.11111111\n",
      " 0.12121212 0.13131313 0.14141414 0.15151515 0.16161616 0.17171717\n",
      " 0.18181818 0.19191919 0.2020202  0.21212121 0.22222222 0.23232323\n",
      " 0.24242424 0.25252525 0.26262626 0.27272727 0.28282828 0.29292929\n",
      " 0.3030303  0.31313131 0.32323232 0.33333333 0.34343434 0.35353535\n",
      " 0.36363636 0.37373737 0.38383838 0.39393939 0.4040404  0.41414141\n",
      " 0.42424242 0.43434343 0.44444444 0.45454545 0.46464646 0.47474747\n",
      " 0.48484848 0.49494949 0.50505051 0.51515152 0.52525253 0.53535354\n",
      " 0.54545455 0.55555556 0.56565657 0.57575758 0.58585859 0.5959596\n",
      " 0.60606061 0.61616162 0.62626263 0.63636364 0.64646465 0.65656566\n",
      " 0.66666667 0.67676768 0.68686869 0.6969697  0.70707071 0.71717172\n",
      " 0.72727273 0.73737374 0.74747475 0.75757576 0.76767677 0.77777778\n",
      " 0.78787879 0.7979798  0.80808081 0.81818182 0.82828283 0.83838384\n",
      " 0.84848485 0.85858586 0.86868687 0.87878788 0.88888889 0.8989899\n",
      " 0.90909091 0.91919192 0.92929293 0.93939394 0.94949495 0.95959596\n",
      " 0.96969697 0.97979798 0.98989899 1.        ]\n"
     ]
    }
   ],
   "source": [
    "import numpy as np\n",
    "print(np.linspace(0, 1, 100))"
   ]
  },
  {
   "cell_type": "markdown",
   "metadata": {},
   "source": [
    "If we look at the <code>probability</code> column of the predictions, we will see it is an <code>Array</code> with two probability values, the first one for negative class and the second one for positive class. Now we can consider the <strong>probability for positive class</strong> to decide which value is <strong>positive</strong> and which value is <strong>negative</strong>\n",
    "\n",
    "For example, if our threshold is 0.7, we can say <strong>if the positive probability is greater than 0.7, it is a positive prediction else it is a negative prediction</strong>. \n",
    "\n",
    "Here is an example for the Decision Tree Predictions."
   ]
  },
  {
   "cell_type": "code",
   "execution_count": 73,
   "metadata": {},
   "outputs": [],
   "source": [
    "#User Defined Function to split the probabilities into two columns\n",
    "import pyspark.sql.functions as F\n",
    "import pyspark.sql.types as T\n",
    "to_array = F.udf(lambda v: v.toArray().tolist(), T.ArrayType(T.FloatType()))"
   ]
  },
  {
   "cell_type": "code",
   "execution_count": 74,
   "metadata": {},
   "outputs": [],
   "source": [
    "#Splitting the probability to 2 parts using the UDF\n",
    "df = dtPredictions.withColumn('probability', to_array('probability'))"
   ]
  },
  {
   "cell_type": "code",
   "execution_count": 75,
   "metadata": {},
   "outputs": [],
   "source": [
    "#A new df which contains the probabilites in separate columns\n",
    "prob_df = df.select(df.probability[0].alias('negative_prob'),df.probability[1].alias('positive_prob'),'label')"
   ]
  },
  {
   "cell_type": "markdown",
   "metadata": {},
   "source": [
    "Now, we have extracted the probabilities for positive and negative class. Now we need to create our own <code>prediction</code> column based on a threshold we are provided."
   ]
  },
  {
   "cell_type": "code",
   "execution_count": 76,
   "metadata": {},
   "outputs": [
    {
     "data": {
      "text/plain": [
       "DataFrame[negative_prob: float, positive_prob: float, label: double, prediction: int]"
      ]
     },
     "execution_count": 76,
     "metadata": {},
     "output_type": "execute_result"
    }
   ],
   "source": [
    "#Here based on the threshold, the prediction column is computed\n",
    "threshold=0.7\n",
    "prob_df.withColumn('prediction',F.when(prob_df.positive_prob > threshold,1).otherwise(0))"
   ]
  },
  {
   "cell_type": "markdown",
   "metadata": {},
   "source": [
    "Now we can create the confusion metrics based on the new predicted class. Let's create a function to do that. The function returns the TN,TP,FN and FP values.\n",
    "\n",
    "CHALLENGE TASK: the following confusion_matrix function is slow, why is it so slow? Can you refactor it?\n",
    "\n",
    "Possible solution - use groupby('prediction', 'label').count() to calculate the counts instead of doing it four times"
   ]
  },
  {
   "cell_type": "code",
   "execution_count": 77,
   "metadata": {},
   "outputs": [],
   "source": [
    "def confusion_matrix(predictions):\n",
    "     # Calculate the elements of the confusion matrix\n",
    "    TN = predictions.filter('prediction = 0 AND label = 0').count()\n",
    "    TP = predictions.filter('prediction = 1 AND label = 1').count()\n",
    "    FN = predictions.filter('prediction = 0 AND label = 1').count()\n",
    "    FP = predictions.filter('prediction = 1 AND label = 0').count()\n",
    "    return TP,TN,FP,FN"
   ]
  },
  {
   "cell_type": "code",
   "execution_count": 78,
   "metadata": {},
   "outputs": [
    {
     "name": "stdout",
     "output_type": "stream",
     "text": [
      "TPR: 0.9011933174224344 FPR: 0.3687150837988827\n"
     ]
    }
   ],
   "source": [
    "#TESTING \n",
    "#for threshold 0.7, lets calculate the TN,TP,FN,FP from confusion matrix\n",
    "threshold=0.7\n",
    "test_df=prob_df.withColumn('prediction',F.when(prob_df.positive_prob > threshold,1).otherwise(0))\n",
    "tp,tn,fp,fn = confusion_matrix(prob_df)  \n",
    "tpr = tp/(tp+fn)\n",
    "fpr = fp/(fp+tn)\n",
    "print('TPR:',tpr,'FPR:',fpr)"
   ]
  },
  {
   "cell_type": "markdown",
   "metadata": {},
   "source": [
    "<a class=\"anchor\" id=\"challenge-task\"></a>\n",
    "<div style=\"background:rgba(164,0,255,0.2);padding:10px;border-radius:4px\"><strong style=\"color:purple\">CHALLENGE TASK: </strong>\n",
    "    Based on all the above information, create a function, which loops through all the thresholds and computes the <code>TPR</code> and <code>TFR</code> for each threshold. Store all the <code>TPR</code> and <code>TFR</code> values in separate arrays and later visualize the <strong>ROC Curve</strong> for <strong>Decision Tree</strong> and <strong>Random Forest</strong>.\n",
    "</div>\n"
   ]
  },
  {
   "cell_type": "code",
   "execution_count": null,
   "metadata": {},
   "outputs": [],
   "source": [
    "#WRITE CODE "
   ]
  },
  {
   "cell_type": "markdown",
   "metadata": {},
   "source": [
    "### Congratulations on finishing this activity. See you next week."
   ]
  },
  {
   "cell_type": "markdown",
   "metadata": {},
   "source": [
    "## References\n",
    "\n",
    "1. https://www.kdnuggets.com/2020/04/performance-evaluation-metrics-classification.html\n",
    "2. https://spark.apache.org/docs/latest/mllib-evaluation-metrics.html"
   ]
  }
 ],
 "metadata": {
  "kernelspec": {
   "display_name": "Python 3 (ipykernel)",
   "language": "python",
   "name": "python3"
  },
  "language_info": {
   "codemirror_mode": {
    "name": "ipython",
    "version": 3
   },
   "file_extension": ".py",
   "mimetype": "text/x-python",
   "name": "python",
   "nbconvert_exporter": "python",
   "pygments_lexer": "ipython3",
   "version": "3.8.15"
  }
 },
 "nbformat": 4,
 "nbformat_minor": 4
}
