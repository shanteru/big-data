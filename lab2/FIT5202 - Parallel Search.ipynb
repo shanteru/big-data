{
 "cells": [
  {
   "cell_type": "markdown",
   "metadata": {
    "id": "lcWYqAxbFIee"
   },
   "source": [
    "# FIT5202 Data processing for Big data\n",
    "\n",
    "##  Activity: Parallel Search\n",
    "\n",
    "For this tutorial, we will focus on parallel search in Big Data. Thus, the following sections will be done:\n",
    "1. Review Data partitioning strategies\n",
    "2. Implement distinct searching functionalities using RDDs: \n",
    "3. Implement distinct searching functionalities using Spark SQL module: you will use the Spark API to use dataframes and Spark SQL to perform the search functionality as in section 1.\n",
    "\n",
    "\n",
    "Also, you will need to  visualise the parallelism on searching in these APIs and RDD implementation. Furthermore, you will need to look at the Query execution plan done by the Spark Optimizer Engine and understand how internally Spark executes or plans a searching function.\n",
    "\n",
    "Let's get started.\n",
    "\n",
    "## Table of Contents\n",
    "\n",
    "* [SparkContext and SparkSession](#one)\n",
    "* [Data Partitioning](#two)\n",
    "* [Spark RDDs](#three)\n",
    "    * [Data Partitioning in RDD](#three)\n",
    "        * [Default Partitioning](#default)\n",
    "        * [Hash Partitioning](#hash)\n",
    "        * [Range Partitioning](#range)\n",
    "    * [Parallel Search in RDDs](#parallel-search-rdd)    \n",
    "* [Spark DataFrames](#dataframes)\n",
    "    * [Data Partitioning in DataFrames](#df-partitioning)\n",
    "    * [Parallel Search in DataFrames](#parallel_search_df)    \n",
    "    * [Parallel Search with SparkSQL](#parallel_search_sparksql)       \n",
    "* [Lab Tasks](#lab-task-1)\n",
    "    * [Lab Task 1](#lab-task-1)\n",
    "    * [Lab Task 2](#lab-task-2)\n",
    "    * [Lab Task 3](#lab-task-3)\n",
    "    * [Lab Task 4](#lab-task-4)\n"
   ]
  },
  {
   "cell_type": "markdown",
   "metadata": {
    "id": "bUTW3z5TS-Yt"
   },
   "source": [
    "## SparkContext and SparkSession <a class=\"anchor\" name=\"one\"></a>"
   ]
  },
  {
   "cell_type": "code",
   "execution_count": 2,
   "metadata": {
    "id": "Dk4z3uwkS-Yu"
   },
   "outputs": [],
   "source": [
    "# Import SparkConf class into program\n",
    "from pyspark import SparkConf\n",
    "\n",
    "# local[*]: run Spark in local mode with as many working processors as logical cores on your machine\n",
    "# If we want Spark to run locally with 'k' worker threads, we can specify as \"local[k]\".\n",
    "master = \"local[*]\"\n",
    "# The `appName` field is a name to be shown on the Spark cluster UI page\n",
    "app_name = \"Parallel Search\"\n",
    "# Setup configuration parameters for Spark\n",
    "spark_conf = SparkConf().setMaster(master).setAppName(app_name)\n",
    "\n",
    "# Import SparkContext and SparkSession classes\n",
    "from pyspark import SparkContext # Spark\n",
    "from pyspark.sql import SparkSession # Spark SQL\n",
    "\n",
    "# Method 1: Using SparkSession\n",
    "spark = SparkSession.builder.config(conf=spark_conf).getOrCreate()\n",
    "sc = spark.sparkContext\n",
    "sc.setLogLevel('ERROR')\n",
    "\n",
    "# # Method 2: Getting or instantiating a SparkContext\n",
    "# sc = SparkContext.getOrCreate(spark_conf)\n",
    "# sc.setLogLevel('ERROR')"
   ]
  },
  {
   "cell_type": "markdown",
   "metadata": {
    "id": "2yPtiGySS-Yv"
   },
   "source": [
    "## Data Partitioning <a class=\"anchor\" id=\"two\"></a>\n",
    "In this first part of the tutorial, we will do a quick review of a few data partitioning strategies which we will need to know for the rest of the topics in this tutorial.\n",
    "\n",
    "Data partitioning is the fundamental step for parallel search algorithms as parallelism in query and search processing is achieved through data partionining. \n",
    "In this activity, we will consider the following **three** partitioning strategies:\n",
    "#### 1. Round-robin data partitioning ###\n",
    "Round-robin data partitioning is the simplest data partitioning method in which each record in turn is allocated to a processing element (simply processor). Since it distributes the data evenly among all processors, it is also known as \"equal-partitioning\".\n",
    "\n",
    "#### 2. Range data partitioning ###\n",
    "Range data partitioning records based on a given range of the partitioning attribute. For example,the student table is partitioned based on \"Last Name\" based on the alphabetical order (i.e. A ~ Z). \n",
    "\n",
    "#### 3. Hash data partitioning ###\n",
    "Hash data partitioning makes a partition based on a particular attribute using a hash function. The result of a hash function determines the processor where the record will be placed. Thus, all records within a partition have the same hash value."
   ]
  },
  {
   "cell_type": "markdown",
   "metadata": {
    "id": "oK-02wozS-Yv"
   },
   "source": [
    "## RDD partitioning <a class=\"anchor\" id=\"three\"></a>\n",
    "\n",
    "By default, Spark partitions the data using <strong>Random equal partitioning</strong> unless there are specific transformations that uses a different type of partitioning</strong>\n",
    "In the code below, we have defined two functions to implement custom partitioning using <strong>Range Partitioning</strong> and <strong>Hash Partitioning</strong>.\n"
   ]
  },
  {
   "cell_type": "code",
   "execution_count": 3,
   "metadata": {
    "id": "jcL71Ly3S-Yw"
   },
   "outputs": [],
   "source": [
    "from pyspark.rdd import RDD\n",
    "\n",
    "#A Function to print the data items in each RDD\n",
    "#WARNING: this function is only for demo purpose, it should not be used on large dataset\n",
    "def print_partitions(data):\n",
    "    if isinstance(data, RDD):\n",
    "        numPartitions = data.getNumPartitions()\n",
    "        partitions = data.glom().collect() #glom --> convert elements in a partition to a list \n",
    "    else:\n",
    "        numPartitions = data.rdd.getNumPartitions()\n",
    "        partitions = data.rdd.glom().collect()\n",
    "    \n",
    "    print(f\"####### NUMBER OF PARTITIONS: {numPartitions}\")\n",
    "    for index, partition in enumerate(partitions):\n",
    "        # show partition if it is not empty\n",
    "        if len(partition) > 0:\n",
    "            print(f\"Partition {index}: {len(partition)} records\")\n",
    "            print(partition)"
   ]
  },
  {
   "cell_type": "code",
   "execution_count": 30,
   "metadata": {
    "id": "yK6xUCJrS-Yw"
   },
   "outputs": [],
   "source": [
    "#Sample data used for demonstrating the partitioning\n",
    "list_tutors = [(1,'Aaditya'),(2,'Chinnavit'),(3,'Neha'),(4,'Huashun'),(5,'Mohammad'),\n",
    "                (10,'Peter'),(11,'Paras'),(12, 'Tooba'),(3, 'David'),(18,'Cheng'),(9,'Haqqani'),(19,'Omar')]\n",
    "\n",
    "#Define the number of partitions\n",
    "no_of_partitions = 4"
   ]
  },
  {
   "cell_type": "code",
   "execution_count": 31,
   "metadata": {
    "id": "0K0D0_b0S-Yw"
   },
   "outputs": [
    {
     "data": {
      "text/plain": [
       "(9, 'Haqqani')"
      ]
     },
     "execution_count": 31,
     "metadata": {},
     "output_type": "execute_result"
    }
   ],
   "source": [
    "(1,'Aaditya'),(2,'Chinnavit')\n",
    "(3,'Neha'),(4,'Huashun')\n",
    "(5,'Mohammad'),(10,'Peter')\n",
    "(11,'Paras'),(12, 'Tooba')\n",
    "(3, 'David'),(18,'Cheng')\n",
    "(9,'Haqqani')"
   ]
  },
  {
   "cell_type": "markdown",
   "metadata": {
    "id": "M8Xh_cTgS-Yx"
   },
   "source": [
    "### Default Partitioning in Spark RDD <a class=\"anchor\" id=\"default\"></a>"
   ]
  },
  {
   "cell_type": "code",
   "execution_count": 32,
   "metadata": {
    "id": "yh2m-aJxS-Yx"
   },
   "outputs": [],
   "source": [
    "# random equal partition\n",
    "rdd = sc.parallelize(list_tutors, no_of_partitions)"
   ]
  },
  {
   "cell_type": "code",
   "execution_count": 33,
   "metadata": {
    "id": "F1pExTkVS-Yx",
    "outputId": "0671a0ae-d060-4dc3-96aa-ad3ee2cca288"
   },
   "outputs": [
    {
     "name": "stdout",
     "output_type": "stream",
     "text": [
      "Number of partitions:4\n",
      "Partitioner:None\n",
      "####### NUMBER OF PARTITIONS: 4\n",
      "Partition 0: 3 records\n",
      "[(1, 'Aaditya'), (2, 'Chinnavit'), (3, 'Neha')]\n",
      "Partition 1: 3 records\n",
      "[(4, 'Huashun'), (5, 'Mohammad'), (10, 'Peter')]\n",
      "Partition 2: 3 records\n",
      "[(11, 'Paras'), (12, 'Tooba'), (3, 'David')]\n",
      "Partition 3: 3 records\n",
      "[(18, 'Cheng'), (9, 'Haqqani'), (19, 'Omar')]\n"
     ]
    }
   ],
   "source": [
    "print(\"Number of partitions:{}\".format(rdd.getNumPartitions()))\n",
    "print(\"Partitioner:{}\".format(rdd.partitioner))\n",
    "print_partitions(rdd)  "
   ]
  },
  {
   "cell_type": "markdown",
   "metadata": {
    "id": "NSC-sl9MS-Yy"
   },
   "source": [
    "<div style=\"background:rgba(0,109,174,0.2);padding:10px;border-radius:4px\"><strong style=\"color:#006DAE\">TODO: </strong>How do you think the data is divided across the partitions by default when no partitoner is specified?</div>"
   ]
  },
  {
   "cell_type": "markdown",
   "metadata": {},
   "source": [
    "randomly"
   ]
  },
  {
   "cell_type": "markdown",
   "metadata": {
    "id": "NaiWieeiS-Yz"
   },
   "source": [
    "### Hash Partitioning in RDD <a class=\"anchor\" id=\"hash\"></a>\n",
    "Hash partitioning uses the formula <code>partition = hash_function() % numPartitions</code> to determine which partition data item falls into."
   ]
  },
  {
   "cell_type": "code",
   "execution_count": 34,
   "metadata": {
    "id": "-wTKZPwvS-Yz"
   },
   "outputs": [],
   "source": [
    "#Hash Function to implement Hash Partitioning \n",
    "#Just computes the sum of digits\n",
    "#Example : hash_function(12) produces 3 i.e. 2 + 1\n",
    "def hash_function(key):\n",
    "    total = 0\n",
    "    for digit in str(key):\n",
    "        total += int(digit)\n",
    "    return total"
   ]
  },
  {
   "cell_type": "code",
   "execution_count": 35,
   "metadata": {
    "id": "PhZGr_8hS-Yz",
    "outputId": "36b1271e-a44b-44f7-b7cf-1c580085e304"
   },
   "outputs": [
    {
     "name": "stdout",
     "output_type": "stream",
     "text": [
      "####### NUMBER OF PARTITIONS: 4\n",
      "Partition 0: 1 records\n",
      "[(4, 'Huashun')]\n",
      "Partition 1: 5 records\n",
      "[(1, 'Aaditya'), (5, 'Mohammad'), (10, 'Peter'), (18, 'Cheng'), (9, 'Haqqani')]\n",
      "Partition 2: 3 records\n",
      "[(2, 'Chinnavit'), (11, 'Paras'), (19, 'Omar')]\n",
      "Partition 3: 3 records\n",
      "[(3, 'Neha'), (12, 'Tooba'), (3, 'David')]\n"
     ]
    }
   ],
   "source": [
    "# hash partitioning\n",
    "hash_partitioned_rdd = rdd.partitionBy(no_of_partitions, hash_function)\n",
    "print_partitions(hash_partitioned_rdd)            "
   ]
  },
  {
   "cell_type": "markdown",
   "metadata": {
    "id": "IsIP5pSLS-Y0"
   },
   "source": [
    "<div style=\"background:rgba(0,109,174,0.2);padding:10px;border-radius:4px\"><strong style=\"color:#006DAE\">Note: </strong>Look at how the data is partitioned. For example, Partition 0 has 1 record, [(4, 'Huashun')]. Here is the step-wise breakdown:\n",
    "    <ul>\n",
    "        <li>hash_function(4) = 4</li>\n",
    "        <li>Partition for the key of 4 is determined by <code>hash_function(4)%numPartitions</code> i.e. 4%4=0</li>\n",
    "        <li>Similarly, for (18,'Cheng'), partition is given by <code>hash+function(18)%numPartitions</code> i.e. 9%4=1</li>\n",
    "    </ul>\n",
    "\n",
    "</div>"
   ]
  },
  {
   "cell_type": "markdown",
   "metadata": {
    "id": "rj4x0oSgS-Y0"
   },
   "source": [
    "### Range Partitioning in RDD <a class=\"anchor\" id=\"range\"></a>\n",
    "This strategy uses a range to distribute the items to respective partitions when the keys fall within the range. "
   ]
  },
  {
   "cell_type": "code",
   "execution_count": 36,
   "metadata": {
    "id": "Yu1a4AQhS-Y0"
   },
   "outputs": [],
   "source": [
    "no_of_partitions=4\n",
    "\n",
    "#Find the size of the elements in RDD\n",
    "chunk_size = len(list_tutors)/no_of_partitions\n",
    "#Define a range of values by key to distribute across partitions\n",
    "#Here for simplicity, we are defining the range i.e. keys from 1-4 to fall in first partition, 5-9 in second partition and so on\n",
    "range_arr=[[1,4],[5,9],[10,14],[15,19]]\n",
    "\n",
    "def range_function(key):\n",
    "    for index,item in enumerate(range_arr):\n",
    "        if key >=item[0] and key <=item[1]:\n",
    "            return index\n"
   ]
  },
  {
   "cell_type": "code",
   "execution_count": 37,
   "metadata": {
    "id": "As2D_GhDS-Y0",
    "outputId": "bef71b45-2cf4-4f59-8eda-714cc8731c45"
   },
   "outputs": [
    {
     "name": "stdout",
     "output_type": "stream",
     "text": [
      "####### NUMBER OF PARTITIONS: 4\n",
      "Partition 0: 5 records\n",
      "[(1, 'Aaditya'), (2, 'Chinnavit'), (3, 'Neha'), (4, 'Huashun'), (3, 'David')]\n",
      "Partition 1: 2 records\n",
      "[(5, 'Mohammad'), (9, 'Haqqani')]\n",
      "Partition 2: 3 records\n",
      "[(10, 'Peter'), (11, 'Paras'), (12, 'Tooba')]\n",
      "Partition 3: 2 records\n",
      "[(18, 'Cheng'), (19, 'Omar')]\n"
     ]
    }
   ],
   "source": [
    "# range partition\n",
    "range_partitioned_rdd = rdd.partitionBy(no_of_partitions, range_function)\n",
    "print_partitions(range_partitioned_rdd)"
   ]
  },
  {
   "cell_type": "markdown",
   "metadata": {
    "id": "pHxVQi5GS-Y1"
   },
   "source": [
    "## Parallel Search using RDDs  <a class=\"anchor\" id=\"parallel-search-rdd\"></a>\n",
    "\n",
    "Now we will implement basic search functionalities and visualise the parallelism embedded in Spark to perform these kind of queries.\n",
    "\n",
    "In this tutorial, you will use a csv dataset **bank.csv**. However, for this tutorial we won't analyse the case study but only perform some search queries with this data"
   ]
  },
  {
   "cell_type": "code",
   "execution_count": 38,
   "metadata": {
    "id": "1gXcyINUS-Y1"
   },
   "outputs": [
    {
     "name": "stdout",
     "output_type": "stream",
     "text": [
      "Total partitions: 2\n",
      "Number of lines: 11163\n"
     ]
    },
    {
     "data": {
      "text/plain": [
       "['age,job,marital,education,default,balance,housing,loan,contact,day,month,duration,campaign,pdays,previous,poutcome,deposit',\n",
       " '59,admin.,married,secondary,no,2343,yes,no,unknown,5,may,1042,1,-1,0,unknown,yes',\n",
       " '56,admin.,married,secondary,no,45,no,no,unknown,5,may,1467,1,-1,0,unknown,yes',\n",
       " '41,technician,married,secondary,no,1270,yes,no,unknown,5,may,1389,1,-1,0,unknown,yes']"
      ]
     },
     "execution_count": 38,
     "metadata": {},
     "output_type": "execute_result"
    }
   ],
   "source": [
    "# Using Spark, we can read and load a csv file\n",
    "# Read csv file and load into an RDD object\n",
    "bank_rdd = sc.textFile('bank.csv')\n",
    "\n",
    "# If you want to specify the number of partitions, you can add the number as a second argument\n",
    "# bank_rdd = sc.textFile('bank.csv', 10)\n",
    "\n",
    "## Exploring the data file, we can see that it contains different types of information\n",
    "## Some useful information is printed below\n",
    "print(f\"Total partitions: {bank_rdd.getNumPartitions()}\")\n",
    "print(f\"Number of lines: {bank_rdd.count()}\")\n",
    "\n",
    "## Each element of the RDD is a line from the file\n",
    "bank_rdd.take(4)"
   ]
  },
  {
   "cell_type": "markdown",
   "metadata": {
    "id": "8HlgSrvkS-Y1"
   },
   "source": [
    "### Search in RDDs based on multiple conditions\n",
    "\n",
    "We will focus on only four attributes from the data: age, education, marital and balance for filtering conditions. However, we will display additional information as well."
   ]
  },
  {
   "cell_type": "code",
   "execution_count": 39,
   "metadata": {
    "id": "zTAGTskLS-Y1"
   },
   "outputs": [
    {
     "name": "stdout",
     "output_type": "stream",
     "text": [
      "18\n"
     ]
    }
   ],
   "source": [
    "# 1. Split each line separated by comma into a list \n",
    "bank_rdd1 = bank_rdd.map(lambda line: line.split(','))\n",
    "# 2. Remove the header\n",
    "header = bank_rdd1.first()\n",
    "bank_rdd1 = bank_rdd1.filter(lambda row: row != header)   #filter out header\n",
    "\n",
    "# Indices for each attribute we will use\n",
    "# Filter: age, education, marital, balance = 0, 3, 2, 5\n",
    "# Display additional: day, month, deposit = 9, 10, 16\n",
    "\n",
    "# 3. Search the records with balance between 1000 and 2000\n",
    "bank_rdd1 = bank_rdd1.filter(lambda x: int(x[5])>1000 and int(x[5])<2000)\n",
    "# 4. Also search the records with primrary or secondary education and age less than 30\n",
    "bank_rdd1 = bank_rdd1.filter(lambda x: x[3] in ['primary','secondary'] and int(x[0])<30)\n",
    "# 5. Also filter with those who are married\n",
    "bank_rdd1 = bank_rdd1.filter(lambda x: x[2]=='married' )\n",
    "# 6. Display the previous attributes plus the information of day, month and deposit\n",
    "bank_rdd1 = bank_rdd1.map(lambda field: (field[0],field[2],field[3],field[5],\n",
    "                                         field[9],field[10],field[16]))\n",
    "# Print how many final records\n",
    "print(bank_rdd1.count())"
   ]
  },
  {
   "cell_type": "code",
   "execution_count": 40,
   "metadata": {
    "id": "Vg3_M1btS-Y2"
   },
   "outputs": [
    {
     "name": "stdout",
     "output_type": "stream",
     "text": [
      "Total partitions: 2\n",
      "------ Partition 0:\n",
      "('29', 'married', 'secondary', '1135', '17', 'feb', 'yes')\n",
      "('27', 'married', 'secondary', '1293', '8', 'apr', 'yes')\n",
      "('29', 'married', 'secondary', '1180', '17', 'apr', 'yes')\n",
      "('28', 'married', 'secondary', '1086', '20', 'apr', 'yes')\n",
      "('26', 'married', 'secondary', '1595', '15', 'jun', 'yes')\n",
      "('27', 'married', 'secondary', '1596', '1', 'sep', 'yes')\n",
      "('28', 'married', 'secondary', '1595', '9', 'sep', 'yes')\n",
      "('27', 'married', 'secondary', '1595', '29', 'dec', 'yes')\n",
      "------ Partition 1:\n",
      "('26', 'married', 'secondary', '1417', '6', 'jun', 'no')\n",
      "('23', 'married', 'secondary', '1309', '3', 'jun', 'no')\n",
      "('24', 'married', 'secondary', '1222', '20', 'apr', 'no')\n",
      "('28', 'married', 'secondary', '1238', '14', 'may', 'no')\n",
      "('26', 'married', 'secondary', '1595', '2', 'mar', 'no')\n",
      "('27', 'married', 'secondary', '1303', '21', 'may', 'no')\n",
      "('25', 'married', 'secondary', '1782', '19', 'jun', 'no')\n",
      "('28', 'married', 'secondary', '1137', '6', 'feb', 'no')\n",
      "('28', 'married', 'secondary', '1020', '28', 'may', 'no')\n",
      "('29', 'married', 'secondary', '1386', '28', 'may', 'no')\n"
     ]
    }
   ],
   "source": [
    "# Let's see how the data was divided and the data for each partition\n",
    "numPartitions = bank_rdd1.getNumPartitions()\n",
    "print(f\"Total partitions: {numPartitions}\")\n",
    "\n",
    "# glom(): Return an RDD created by coalescing all elements within each partition into a list\n",
    "# WARNING: glom().collect() only works for a small dataset\n",
    "partitions = bank_rdd1.glom().collect()\n",
    "for index,partition in enumerate(partitions):\n",
    "    print(f'------ Partition {index}:')\n",
    "    for record in partition:\n",
    "        print(record)"
   ]
  },
  {
   "cell_type": "markdown",
   "metadata": {
    "id": "2_z0s0r2S-Y2"
   },
   "source": [
    "<div style=\"background:rgba(0,109,174,0.2);padding:10px;border-radius:4px\"><strong style=\"color:#006DAE\">TODO: </strong>Verify the parallelism in the Spark UI and explore the content. How many jobs have been executed so far?</div>"
   ]
  },
  {
   "cell_type": "markdown",
   "metadata": {
    "id": "moRcOHa3S-Y2"
   },
   "source": [
    "### Searching max/min value of an attribute in an RDD\n",
    "This task will aim to find the record in the dataset that contains the highest value for a given attribute. In this case the attribute chosen is \"balance\"."
   ]
  },
  {
   "cell_type": "code",
   "execution_count": 41,
   "metadata": {
    "id": "hLaN3rpdS-Y2"
   },
   "outputs": [
    {
     "data": {
      "text/plain": [
       "[['59',\n",
       "  'admin.',\n",
       "  'married',\n",
       "  'secondary',\n",
       "  'no',\n",
       "  '2343',\n",
       "  'yes',\n",
       "  'no',\n",
       "  'unknown',\n",
       "  '5',\n",
       "  'may',\n",
       "  '1042',\n",
       "  '1',\n",
       "  '-1',\n",
       "  '0',\n",
       "  'unknown',\n",
       "  'yes'],\n",
       " ['56',\n",
       "  'admin.',\n",
       "  'married',\n",
       "  'secondary',\n",
       "  'no',\n",
       "  '45',\n",
       "  'no',\n",
       "  'no',\n",
       "  'unknown',\n",
       "  '5',\n",
       "  'may',\n",
       "  '1467',\n",
       "  '1',\n",
       "  '-1',\n",
       "  '0',\n",
       "  'unknown',\n",
       "  'yes'],\n",
       " ['41',\n",
       "  'technician',\n",
       "  'married',\n",
       "  'secondary',\n",
       "  'no',\n",
       "  '1270',\n",
       "  'yes',\n",
       "  'no',\n",
       "  'unknown',\n",
       "  '5',\n",
       "  'may',\n",
       "  '1389',\n",
       "  '1',\n",
       "  '-1',\n",
       "  '0',\n",
       "  'unknown',\n",
       "  'yes']]"
      ]
     },
     "execution_count": 41,
     "metadata": {},
     "output_type": "execute_result"
    }
   ],
   "source": [
    "# Read csv but now with 4 partitions\n",
    "bank_rdd_4 = sc.textFile('bank.csv',4)\n",
    "\n",
    "# Split and remove the header\n",
    "bank_rdd_4 = bank_rdd_4.map(lambda line: line.split(','))\n",
    "header = bank_rdd_4.first()\n",
    "bank_rdd_4 = bank_rdd_4.filter(lambda row: row != header)   #filter out header\n",
    "\n",
    "# Display the first 3 records\n",
    "bank_rdd_4.take(3)"
   ]
  },
  {
   "cell_type": "code",
   "execution_count": 16,
   "metadata": {
    "id": "rvyYHjeOS-Y2"
   },
   "outputs": [
    {
     "name": "stdout",
     "output_type": "stream",
     "text": [
      "['58', 'self-employed', 'married', 'secondary', 'no', '9994', 'no', 'no', 'cellular', '10', 'jul', '400', '1', '-1', '0', 'unknown', 'no']\n"
     ]
    }
   ],
   "source": [
    "# Using the RDD function max(), it can be obtained in a single line \n",
    "result_max_balance = bank_rdd_4.max(key=lambda x: x[5]) # Get max by value in index 5 (balance)\n",
    "# Print the record obtain with highest balance\n",
    "print(result_max_balance)"
   ]
  },
  {
   "cell_type": "code",
   "execution_count": 17,
   "metadata": {
    "id": "5clozGI8S-Y3"
   },
   "outputs": [
    {
     "name": "stdout",
     "output_type": "stream",
     "text": [
      "[['29', 'management', 'married', 'tertiary', 'no', '10576', 'no', 'no', 'unknown', '15', 'may', '1224', '2', '-1', '0', 'unknown', 'yes']]\n"
     ]
    }
   ],
   "source": [
    "# Get record with balance 10576\n",
    "bank_record = bank_rdd_4.filter(lambda x: x[5]=='10576').collect()\n",
    "print(bank_record)"
   ]
  },
  {
   "cell_type": "markdown",
   "metadata": {
    "id": "MNVjM66cS-Y3"
   },
   "source": [
    "<a class=\"anchor\" id=\"lab-task-1\"></a>\n",
    "<div style=\"background:rgba(0,109,174,0.2);padding:10px;border-radius:4px\"><strong style=\"color:#FF5555\">1. Lab Task: </strong>Compare the <code>result_max_balance</code> record with the record above <code>(bank_record)</code>. Was the record obtained previously correct i.e. <code>result_max_balance</code>? <b>Explain what happened.</b></div>\n"
   ]
  },
  {
   "cell_type": "markdown",
   "metadata": {},
   "source": [
    "String is compared instead of Integer"
   ]
  },
  {
   "cell_type": "markdown",
   "metadata": {
    "id": "_iu2wpH_S-Y3"
   },
   "source": [
    "<a class=\"anchor\" id=\"lab-task-2\"></a>\n",
    "<div style=\"background:rgba(0,109,174,0.2);padding:10px;border-radius:4px\"><strong style=\"color:#FF5555\">2. Lab Task: </strong>As you noticed in the previous result, the record returned originally (result_max_balance) was incorrect.\n",
    "    <p><i>Fix the code below that uses the <code>max()</code> function to get the record with the correct maximum balance.</p></i></div>\n"
   ]
  },
  {
   "cell_type": "code",
   "execution_count": 44,
   "metadata": {},
   "outputs": [
    {
     "name": "stdout",
     "output_type": "stream",
     "text": [
      "['84', 'retired', 'married', 'secondary', 'no', '81204', 'no', 'no', 'telephone', '28', 'dec', '679', '1', '313', '2', 'other', 'yes']\n"
     ]
    }
   ],
   "source": [
    "result_max_balance = bank_rdd_4.max(key=lambda x: int(x[5])) \n",
    "\n",
    "print(result_max_balance)"
   ]
  },
  {
   "cell_type": "markdown",
   "metadata": {
    "id": "JrKDskH8S-Y3"
   },
   "source": [
    "#### To learn more about functions in RDDs, you can look into the next 2 sites:\n",
    "1. http://spark.apache.org/docs/latest/rdd-programming-guide.html#rdd-operations\n",
    "1. https://s3.amazonaws.com/assets.datacamp.com/blog_assets/PySpark_Cheat_Sheet_Python.pdf"
   ]
  },
  {
   "cell_type": "markdown",
   "metadata": {
    "id": "ya2G0yqgS-Y3"
   },
   "source": [
    "## DataFrames in Spark <a class=\"anchor\" id=\"dataframes\"></a>\n",
    "A DataFrame is a distributed collection of data organized into named columns. It is equivalent to a table in relational database or a dataframe in R/Python but with richer optimizations under the hood. For more information visit : \n",
    "\n",
    "https://docs.databricks.com/spark/latest/dataframes-datasets/introduction-to-dataframes-python.html\n",
    "\n",
    "### Creating DataFrames\n",
    "SparkSession provides an easy method <code>createDataFrame</code> to create Spark DataFrames. Data can be loaded from csv, json, xml and other sources like local file system or HDFS. More information on : \n",
    "https://spark.apache.org/docs/latest/api/python/pyspark.sql.html\n",
    "\n",
    "To display the schema, i.e. the  structure of the DataFrame, you can use <strong>printSchema()</strong> method."
   ]
  },
  {
   "cell_type": "code",
   "execution_count": 46,
   "metadata": {
    "id": "b94cQ34rS-Y4"
   },
   "outputs": [
    {
     "name": "stdout",
     "output_type": "stream",
     "text": [
      "+---+---------+-------+\n",
      "| Id|     Name|Initial|\n",
      "+---+---------+-------+\n",
      "|  1|  Aaditya|      A|\n",
      "|  2|Chinnavit|      C|\n",
      "|  3|     Neha|      N|\n",
      "|  4|  Huashun|      H|\n",
      "|  5| Mohammad|      M|\n",
      "+---+---------+-------+\n",
      "only showing top 5 rows\n",
      "\n",
      "root\n",
      " |-- Id: long (nullable = true)\n",
      " |-- Name: string (nullable = true)\n",
      " |-- Initial: string (nullable = true)\n",
      "\n"
     ]
    }
   ],
   "source": [
    "df = spark.createDataFrame([(1,'Aaditya','A'),(2,'Chinnavit','C'),(3,'Neha','N'),(4,'Huashun','H'),(5,'Mohammad','M'),\n",
    "                            (10,'Prajwol', 'P'),(1,'Paras','P'),(1, 'Tooba','T'),(3, 'David','D'),(4,'Cheng','C'),(9,'Haqqani','H')],\n",
    "                           ['Id','Name','Initial'])\n",
    "\n",
    "#display the rows of the dataframe\n",
    "df.show(5)\n",
    "#view the schema\n",
    "df.printSchema()"
   ]
  },
  {
   "cell_type": "markdown",
   "metadata": {
    "id": "QNMnTYXIS-Y4"
   },
   "source": [
    "Another way to create a DataFrame is use the <strong>spark.read.csv</strong> file to load the data from csv to a DataFrame"
   ]
  },
  {
   "cell_type": "code",
   "execution_count": 47,
   "metadata": {
    "id": "6ccpVmVbS-Y4"
   },
   "outputs": [],
   "source": [
    "df = spark.read.csv(\"bank.csv\",header=True)"
   ]
  },
  {
   "cell_type": "markdown",
   "metadata": {
    "id": "Q3cDmb2zS-Y4"
   },
   "source": [
    "<div style=\"background:rgba(0,109,174,0.2);padding:10px;border-radius:4px\"><strong style=\"color:#006DAE\">TODO: </strong>Display first 10 rows of the above dataframe. \n",
    "Try out other dataframe methods:    \n",
    "    <ul>\n",
    "        <li><code>df.columns, df.count()</code></li>\n",
    "        <li><code>df.describe('column_name').show()</code></li>\n",
    "        <li><strong>Selecting:</strong><code>df.select('column_name').show(), df.select('column_name').distinct().show()</code>\n",
    "        </li>\n",
    "        <li><strong>Filtering:</strong><code>df.filter(df.column_name == 123).show()</code></li>\n",
    "</div>"
   ]
  },
  {
   "cell_type": "code",
   "execution_count": 48,
   "metadata": {},
   "outputs": [
    {
     "data": {
      "text/plain": [
       "['age',\n",
       " 'job',\n",
       " 'marital',\n",
       " 'education',\n",
       " 'default',\n",
       " 'balance',\n",
       " 'housing',\n",
       " 'loan',\n",
       " 'contact',\n",
       " 'day',\n",
       " 'month',\n",
       " 'duration',\n",
       " 'campaign',\n",
       " 'pdays',\n",
       " 'previous',\n",
       " 'poutcome',\n",
       " 'deposit']"
      ]
     },
     "execution_count": 48,
     "metadata": {},
     "output_type": "execute_result"
    }
   ],
   "source": [
    "df.columns"
   ]
  },
  {
   "cell_type": "code",
   "execution_count": 50,
   "metadata": {},
   "outputs": [
    {
     "data": {
      "text/plain": [
       "11162"
      ]
     },
     "execution_count": 50,
     "metadata": {},
     "output_type": "execute_result"
    }
   ],
   "source": [
    "df.count()"
   ]
  },
  {
   "cell_type": "code",
   "execution_count": 54,
   "metadata": {},
   "outputs": [
    {
     "name": "stdout",
     "output_type": "stream",
     "text": [
      "+-------+------------------+\n",
      "|summary|               age|\n",
      "+-------+------------------+\n",
      "|  count|             11162|\n",
      "|   mean|41.231947679627304|\n",
      "| stddev|11.913369192215518|\n",
      "|    min|                18|\n",
      "|    max|                95|\n",
      "+-------+------------------+\n",
      "\n"
     ]
    }
   ],
   "source": [
    "df.describe('age').show()"
   ]
  },
  {
   "cell_type": "code",
   "execution_count": 55,
   "metadata": {},
   "outputs": [
    {
     "name": "stdout",
     "output_type": "stream",
     "text": [
      "+---+\n",
      "|age|\n",
      "+---+\n",
      "| 59|\n",
      "| 56|\n",
      "| 41|\n",
      "| 55|\n",
      "| 54|\n",
      "| 42|\n",
      "| 56|\n",
      "| 60|\n",
      "| 37|\n",
      "| 28|\n",
      "| 38|\n",
      "| 30|\n",
      "| 29|\n",
      "| 46|\n",
      "| 31|\n",
      "| 35|\n",
      "| 32|\n",
      "| 49|\n",
      "| 41|\n",
      "| 49|\n",
      "+---+\n",
      "only showing top 20 rows\n",
      "\n"
     ]
    }
   ],
   "source": [
    "df.select('age').show()"
   ]
  },
  {
   "cell_type": "markdown",
   "metadata": {
    "id": "dG7K3y2IS-Y4"
   },
   "source": [
    "### Partitioning in DataFrames <a class=\"anchor\" id=\"df-partitioning\"></a>"
   ]
  },
  {
   "cell_type": "code",
   "execution_count": 21,
   "metadata": {
    "id": "o2DQxGhUS-Y4"
   },
   "outputs": [],
   "source": [
    "df = spark.createDataFrame([(1,'Aaditya','A'),(2,'Chinnavit','C'),(3,'Neha','N'),(4,'Huashun','H'),(5,'Mohammad','M'),\n",
    "                            (10,'Prajwol', 'P'),(1,'Paras','P'),(1, 'Tooba','T'),(3, 'David','D'),(4,'Cheng','C'),(9,'Haqqani','H')],\n",
    "                           ['Id','Name','Initial'])"
   ]
  },
  {
   "cell_type": "code",
   "execution_count": 22,
   "metadata": {
    "id": "iurD9JKYS-Y4"
   },
   "outputs": [],
   "source": [
    "# Round-robin data partitioning\n",
    "df_round = df.repartition(5)\n",
    "# Range data partitioning\n",
    "df_range = df.repartitionByRange(3,\"Name\")\n",
    "# Hash data partitioning\n",
    "column_hash = \"Id\"\n",
    "df_hash = df.repartition(column_hash)"
   ]
  },
  {
   "cell_type": "code",
   "execution_count": 23,
   "metadata": {
    "id": "LyLhHw2NS-Y5"
   },
   "outputs": [
    {
     "name": "stdout",
     "output_type": "stream",
     "text": [
      "####### NUMBER OF PARTITIONS: 5\n",
      "Partition 0: 2 records\n",
      "[Row(Id=1, Name='Paras', Initial='P'), Row(Id=9, Name='Haqqani', Initial='H')]\n",
      "Partition 1: 3 records\n",
      "[Row(Id=2, Name='Chinnavit', Initial='C'), Row(Id=10, Name='Prajwol', Initial='P'), Row(Id=4, Name='Cheng', Initial='C')]\n",
      "Partition 2: 3 records\n",
      "[Row(Id=1, Name='Aaditya', Initial='A'), Row(Id=3, Name='Neha', Initial='N'), Row(Id=3, Name='David', Initial='D')]\n",
      "Partition 3: 1 records\n",
      "[Row(Id=4, Name='Huashun', Initial='H')]\n",
      "Partition 4: 2 records\n",
      "[Row(Id=5, Name='Mohammad', Initial='M'), Row(Id=1, Name='Tooba', Initial='T')]\n"
     ]
    }
   ],
   "source": [
    "print_partitions(df_round)"
   ]
  },
  {
   "cell_type": "code",
   "execution_count": 24,
   "metadata": {
    "id": "60dgpUevS-Y5"
   },
   "outputs": [
    {
     "name": "stdout",
     "output_type": "stream",
     "text": [
      "####### NUMBER OF PARTITIONS: 3\n",
      "Partition 0: 4 records\n",
      "[Row(Id=1, Name='Aaditya', Initial='A'), Row(Id=2, Name='Chinnavit', Initial='C'), Row(Id=3, Name='David', Initial='D'), Row(Id=4, Name='Cheng', Initial='C')]\n",
      "Partition 1: 4 records\n",
      "[Row(Id=3, Name='Neha', Initial='N'), Row(Id=4, Name='Huashun', Initial='H'), Row(Id=5, Name='Mohammad', Initial='M'), Row(Id=9, Name='Haqqani', Initial='H')]\n",
      "Partition 2: 3 records\n",
      "[Row(Id=10, Name='Prajwol', Initial='P'), Row(Id=1, Name='Paras', Initial='P'), Row(Id=1, Name='Tooba', Initial='T')]\n"
     ]
    }
   ],
   "source": [
    "print_partitions(df_range)"
   ]
  },
  {
   "cell_type": "code",
   "execution_count": 25,
   "metadata": {
    "id": "H-eDWxflS-Y5"
   },
   "outputs": [
    {
     "name": "stdout",
     "output_type": "stream",
     "text": [
      "####### NUMBER OF PARTITIONS: 1\n",
      "Partition 0: 11 records\n",
      "[Row(Id=1, Name='Aaditya', Initial='A'), Row(Id=2, Name='Chinnavit', Initial='C'), Row(Id=5, Name='Mohammad', Initial='M'), Row(Id=10, Name='Prajwol', Initial='P'), Row(Id=3, Name='Neha', Initial='N'), Row(Id=4, Name='Huashun', Initial='H'), Row(Id=1, Name='Paras', Initial='P'), Row(Id=1, Name='Tooba', Initial='T'), Row(Id=9, Name='Haqqani', Initial='H'), Row(Id=3, Name='David', Initial='D'), Row(Id=4, Name='Cheng', Initial='C')]\n"
     ]
    }
   ],
   "source": [
    "print_partitions(df_hash)"
   ]
  },
  {
   "cell_type": "code",
   "execution_count": 26,
   "metadata": {
    "id": "gyJLhO5wS-Y5"
   },
   "outputs": [],
   "source": [
    "# Read csv file and load into a dataframe\n",
    "df = spark.read.csv(\"bank.csv\",header=True)"
   ]
  },
  {
   "cell_type": "markdown",
   "metadata": {
    "id": "suKhXQJHS-Y5"
   },
   "source": [
    "<div style=\"background:rgba(0,109,174,0.2);padding:10px;border-radius:4px\"><strong style=\"color:#006DAE\">TODO: </strong> How many partitions the dataframe have?</div>"
   ]
  },
  {
   "cell_type": "markdown",
   "metadata": {
    "id": "3iSfRC-dS-Y5"
   },
   "source": [
    "<a class=\"anchor\" id=\"lab-task-3\"></a>\n",
    "<div style=\"background:rgba(0,109,174,0.2);padding:10px;border-radius:4px\"><strong style=\"color:##FF5555\">3. Lab Task: </strong> Implement Range and Hash Partitioning techniques for the new dataset and display the partitions. COMPLETE THE CODE BELOW.</div>"
   ]
  },
  {
   "cell_type": "code",
   "execution_count": 58,
   "metadata": {
    "id": "5g8tgeQwS-Y5"
   },
   "outputs": [],
   "source": [
    "## We can specify how many partitions or what kind of partitioning we want for a dataframe\n",
    "# Round-robin data partitioning\n",
    "df_round = df.repartition(5)\n",
    "# Range data partitioning\n",
    "df_range = df.repartitionByRange(5,\"balance\")\n",
    "# Hash data partitioning\n",
    "column_hash = \"education\"\n",
    "df_hash = df.repartition(column_hash)"
   ]
  },
  {
   "cell_type": "code",
   "execution_count": 59,
   "metadata": {
    "id": "O510ExHdS-Y6"
   },
   "outputs": [
    {
     "name": "stdout",
     "output_type": "stream",
     "text": [
      "----- NUMBER OF PARTITIONS df_round: 5\n",
      "----- NUMBER OF PARTITIONS df_range: 5\n",
      "----- NUMBER OF PARTITIONS df_hash: 1\n"
     ]
    }
   ],
   "source": [
    "## Print the number of partitions for each dataframe\n",
    "print(f\"----- NUMBER OF PARTITIONS df_round: {df_round.rdd.getNumPartitions()}\")\n",
    "print(f\"----- NUMBER OF PARTITIONS df_range: {df_range.rdd.getNumPartitions()}\")\n",
    "print(f\"----- NUMBER OF PARTITIONS df_hash: {df_hash.rdd.getNumPartitions()}\")\n",
    "\n",
    "## Verifying the number of partitions for the dataframe with hash partitioning it would indicate 200.\n",
    "## One important thing is that by default, when the number of partitions are not indicated,\n",
    "## The default number of partitions is 200\n",
    "\n",
    "## However, most of the partitions for df_hash are empty.\n",
    "\n",
    "            "
   ]
  },
  {
   "cell_type": "markdown",
   "metadata": {
    "id": "gLNM0BNyS-Y6"
   },
   "source": [
    "<div style=\"background:rgba(0,109,174,0.2);padding:10px;border-radius:4px\"><strong style=\"color:#006DAE\">TODO: </strong> Complete the above code to show the values for each partition</div>"
   ]
  },
  {
   "cell_type": "code",
   "execution_count": 60,
   "metadata": {
    "id": "RAUJ7Ml8S-Y6"
   },
   "outputs": [
    {
     "name": "stdout",
     "output_type": "stream",
     "text": [
      "== Physical Plan ==\n",
      "AdaptiveSparkPlan isFinalPlan=true\n",
      "+- == Final Plan ==\n",
      "   ShuffleQueryStage 0\n",
      "   +- Exchange RoundRobinPartitioning(5), REPARTITION_BY_NUM, [id=#231]\n",
      "      +- FileScan csv [age#182,job#183,marital#184,education#185,default#186,balance#187,housing#188,loan#189,contact#190,day#191,month#192,duration#193,campaign#194,pdays#195,previous#196,poutcome#197,deposit#198] Batched: false, DataFilters: [], Format: CSV, Location: InMemoryFileIndex(1 paths)[file:/home/student/lab2/bank.csv], PartitionFilters: [], PushedFilters: [], ReadSchema: struct<age:string,job:string,marital:string,education:string,default:string,balance:string,housin...\n",
      "+- == Initial Plan ==\n",
      "   Exchange RoundRobinPartitioning(5), REPARTITION_BY_NUM, [id=#231]\n",
      "   +- FileScan csv [age#182,job#183,marital#184,education#185,default#186,balance#187,housing#188,loan#189,contact#190,day#191,month#192,duration#193,campaign#194,pdays#195,previous#196,poutcome#197,deposit#198] Batched: false, DataFilters: [], Format: CSV, Location: InMemoryFileIndex(1 paths)[file:/home/student/lab2/bank.csv], PartitionFilters: [], PushedFilters: [], ReadSchema: struct<age:string,job:string,marital:string,education:string,default:string,balance:string,housin...\n",
      "\n",
      "\n",
      "== Physical Plan ==\n",
      "AdaptiveSparkPlan isFinalPlan=true\n",
      "+- == Final Plan ==\n",
      "   ShuffleQueryStage 0\n",
      "   +- Exchange rangepartitioning(balance#187 ASC NULLS FIRST, 5), REPARTITION_BY_NUM, [id=#243]\n",
      "      +- FileScan csv [age#182,job#183,marital#184,education#185,default#186,balance#187,housing#188,loan#189,contact#190,day#191,month#192,duration#193,campaign#194,pdays#195,previous#196,poutcome#197,deposit#198] Batched: false, DataFilters: [], Format: CSV, Location: InMemoryFileIndex(1 paths)[file:/home/student/lab2/bank.csv], PartitionFilters: [], PushedFilters: [], ReadSchema: struct<age:string,job:string,marital:string,education:string,default:string,balance:string,housin...\n",
      "+- == Initial Plan ==\n",
      "   Exchange rangepartitioning(balance#187 ASC NULLS FIRST, 5), REPARTITION_BY_NUM, [id=#243]\n",
      "   +- FileScan csv [age#182,job#183,marital#184,education#185,default#186,balance#187,housing#188,loan#189,contact#190,day#191,month#192,duration#193,campaign#194,pdays#195,previous#196,poutcome#197,deposit#198] Batched: false, DataFilters: [], Format: CSV, Location: InMemoryFileIndex(1 paths)[file:/home/student/lab2/bank.csv], PartitionFilters: [], PushedFilters: [], ReadSchema: struct<age:string,job:string,marital:string,education:string,default:string,balance:string,housin...\n",
      "\n",
      "\n",
      "== Physical Plan ==\n",
      "AdaptiveSparkPlan isFinalPlan=true\n",
      "+- == Final Plan ==\n",
      "   AQEShuffleRead coalesced\n",
      "   +- ShuffleQueryStage 0\n",
      "      +- Exchange hashpartitioning(education#185, 200), REPARTITION_BY_COL, [id=#256]\n",
      "         +- FileScan csv [age#182,job#183,marital#184,education#185,default#186,balance#187,housing#188,loan#189,contact#190,day#191,month#192,duration#193,campaign#194,pdays#195,previous#196,poutcome#197,deposit#198] Batched: false, DataFilters: [], Format: CSV, Location: InMemoryFileIndex(1 paths)[file:/home/student/lab2/bank.csv], PartitionFilters: [], PushedFilters: [], ReadSchema: struct<age:string,job:string,marital:string,education:string,default:string,balance:string,housin...\n",
      "+- == Initial Plan ==\n",
      "   Exchange hashpartitioning(education#185, 200), REPARTITION_BY_COL, [id=#256]\n",
      "   +- FileScan csv [age#182,job#183,marital#184,education#185,default#186,balance#187,housing#188,loan#189,contact#190,day#191,month#192,duration#193,campaign#194,pdays#195,previous#196,poutcome#197,deposit#198] Batched: false, DataFilters: [], Format: CSV, Location: InMemoryFileIndex(1 paths)[file:/home/student/lab2/bank.csv], PartitionFilters: [], PushedFilters: [], ReadSchema: struct<age:string,job:string,marital:string,education:string,default:string,balance:string,housin...\n",
      "\n",
      "\n"
     ]
    }
   ],
   "source": [
    "## You can verify the partitioning and the query plan when an action is performed with the function explain()\n",
    "# Query plan for df_round\n",
    "df_round.explain()\n",
    "# Query plan for df_range\n",
    "df_range.explain()\n",
    "# Query plan for df_hash\n",
    "df_hash.explain()"
   ]
  },
  {
   "cell_type": "markdown",
   "metadata": {
    "id": "pLdJB8p2S-Y6"
   },
   "source": [
    "### Parallel Search using Spark Dataframe <a class=\"anchor\" id=\"parallel_search_df\"></a>\n",
    "\n",
    "We will perform the same filtering criteria as in section 1. This time the logic won't be implemented by us but just declare by using the functions of the Spark Dataframe API to perform the same queries. Thus, we should obtain the same results as before.\n",
    "\n",
    "Furthermore, now you will need to see in the Spark UI, the RDD DAG Visualisation and the Execution Plan of the queries performed with the function explain() as we did previously."
   ]
  },
  {
   "cell_type": "markdown",
   "metadata": {
    "id": "rIvf3CLiS-Y6"
   },
   "source": [
    "<a class=\"anchor\" id=\"lab-task-4\"></a>\n",
    "<div style=\"background:rgba(0,109,174,0.2);padding:10px;border-radius:4px\"><strong style=\"color:##FF5555\">4. Lab Task: </strong> Complete the code in the given cell below to implement the given conditions.</div>"
   ]
  },
  {
   "cell_type": "code",
   "execution_count": 94,
   "metadata": {
    "id": "yJ_89LShS-Y6"
   },
   "outputs": [
    {
     "name": "stdout",
     "output_type": "stream",
     "text": [
      "+-------+---------+---+-------+---+-----+-------+\n",
      "|balance|education|age|marital|day|month|deposit|\n",
      "+-------+---------+---+-------+---+-----+-------+\n",
      "|   1303|secondary| 27|married| 21|  may|     no|\n",
      "|   1596|secondary| 27|married|  1|  sep|    yes|\n",
      "|   1020|secondary| 28|married| 28|  may|     no|\n",
      "|   1222|secondary| 24|married| 20|  apr|     no|\n",
      "|   1782|secondary| 25|married| 19|  jun|     no|\n",
      "|   1386|secondary| 29|married| 28|  may|     no|\n",
      "|   1180|secondary| 29|married| 17|  apr|    yes|\n",
      "|   1137|secondary| 28|married|  6|  feb|     no|\n",
      "|   1595|secondary| 26|married|  2|  mar|     no|\n",
      "|   1238|secondary| 28|married| 14|  may|     no|\n",
      "|   1595|secondary| 26|married| 15|  jun|    yes|\n",
      "|   1417|secondary| 26|married|  6|  jun|     no|\n",
      "|   1595|secondary| 27|married| 29|  dec|    yes|\n",
      "|   1309|secondary| 23|married|  3|  jun|     no|\n",
      "|   1595|secondary| 28|married|  9|  sep|    yes|\n",
      "|   1135|secondary| 29|married| 17|  feb|    yes|\n",
      "|   1293|secondary| 27|married|  8|  apr|    yes|\n",
      "|   1086|secondary| 28|married| 20|  apr|    yes|\n",
      "+-------+---------+---+-------+---+-----+-------+\n",
      "\n"
     ]
    }
   ],
   "source": [
    "# Using the Spark Dataframe API we can obtain the dataframe for a csv file\n",
    "# We already created dataframes with different types of partitioning\n",
    "# Choose one of them to work with and perform the queries made in section 1\n",
    "from pyspark.sql.functions import col\n",
    "\n",
    "bank_df = df_round\n",
    "\n",
    "## The functions to filter in dataframes are similar to the functions in RDD. Thus, the steps are:\n",
    "# 1. Search the records with balance between 1000 and 2000\n",
    "bank_df = bank_df.filter(col(\"balance\")>1000)\\\n",
    "            .filter(col(\"balance\")<2000)\n",
    "# TODO: \n",
    "# 2. Also in the same dataframe, search the records with primary or secondary education and age less than 30\n",
    "bank_df = bank_df.filter((bank_df.education=='primary')| (bank_df.education=='secondary')).filter(bank_df.age<30)\n",
    "\n",
    "# TODO:\n",
    "# 3. Also filter with those who are married\n",
    "bank_df = bank_df.filter(bank_df.marital=='married')\n",
    "\n",
    "\n",
    "# TODO:\n",
    "# 4. Display the previous attributes plus the information of day, month and deposit\n",
    "bank_df = bank_df.select('balance','education','age','marital','day','month','deposit')\n",
    "\n",
    "\n",
    "# 5. Display the records\n",
    "bank_df.show()"
   ]
  },
  {
   "cell_type": "code",
   "execution_count": 95,
   "metadata": {
    "id": "OktAZ6PpS-Y6"
   },
   "outputs": [
    {
     "name": "stdout",
     "output_type": "stream",
     "text": [
      "####### NUMBER OF PARTITIONS: 5\n",
      "Partition 0: 3 records\n",
      "[Row(balance='1303', education='secondary', age='27', marital='married', day='21', month='may', deposit='no'), Row(balance='1596', education='secondary', age='27', marital='married', day='1', month='sep', deposit='yes'), Row(balance='1020', education='secondary', age='28', marital='married', day='28', month='may', deposit='no')]\n",
      "Partition 1: 4 records\n",
      "[Row(balance='1222', education='secondary', age='24', marital='married', day='20', month='apr', deposit='no'), Row(balance='1782', education='secondary', age='25', marital='married', day='19', month='jun', deposit='no'), Row(balance='1386', education='secondary', age='29', marital='married', day='28', month='may', deposit='no'), Row(balance='1180', education='secondary', age='29', marital='married', day='17', month='apr', deposit='yes')]\n",
      "Partition 2: 4 records\n",
      "[Row(balance='1137', education='secondary', age='28', marital='married', day='6', month='feb', deposit='no'), Row(balance='1595', education='secondary', age='26', marital='married', day='2', month='mar', deposit='no'), Row(balance='1238', education='secondary', age='28', marital='married', day='14', month='may', deposit='no'), Row(balance='1595', education='secondary', age='26', marital='married', day='15', month='jun', deposit='yes')]\n",
      "Partition 3: 4 records\n",
      "[Row(balance='1417', education='secondary', age='26', marital='married', day='6', month='jun', deposit='no'), Row(balance='1595', education='secondary', age='27', marital='married', day='29', month='dec', deposit='yes'), Row(balance='1309', education='secondary', age='23', marital='married', day='3', month='jun', deposit='no'), Row(balance='1595', education='secondary', age='28', marital='married', day='9', month='sep', deposit='yes')]\n",
      "Partition 4: 3 records\n",
      "[Row(balance='1135', education='secondary', age='29', marital='married', day='17', month='feb', deposit='yes'), Row(balance='1293', education='secondary', age='27', marital='married', day='8', month='apr', deposit='yes'), Row(balance='1086', education='secondary', age='28', marital='married', day='20', month='apr', deposit='yes')]\n",
      "== Physical Plan ==\n",
      "AdaptiveSparkPlan isFinalPlan=true\n",
      "+- == Final Plan ==\n",
      "   *(2) Project [balance#187, education#185, age#182, marital#184, day#191, month#192, deposit#198]\n",
      "   +- ShuffleQueryStage 0\n",
      "      +- Exchange RoundRobinPartitioning(5), REPARTITION_BY_NUM, [id=#1189]\n",
      "         +- *(1) Filter (((((((isnotnull(balance#187) AND isnotnull(age#182)) AND isnotnull(marital#184)) AND (cast(balance#187 as int) > 1000)) AND (cast(balance#187 as int) < 2000)) AND ((education#185 = primary) OR (education#185 = secondary))) AND (cast(age#182 as int) < 30)) AND (marital#184 = married))\n",
      "            +- FileScan csv [age#182,marital#184,education#185,balance#187,day#191,month#192,deposit#198] Batched: false, DataFilters: [isnotnull(balance#187), isnotnull(age#182), isnotnull(marital#184), (cast(balance#187 as int) > ..., Format: CSV, Location: InMemoryFileIndex(1 paths)[file:/home/student/lab2/bank.csv], PartitionFilters: [], PushedFilters: [IsNotNull(balance), IsNotNull(age), IsNotNull(marital), Or(EqualTo(education,primary),EqualTo(ed..., ReadSchema: struct<age:string,marital:string,education:string,balance:string,day:string,month:string,deposit:...\n",
      "+- == Initial Plan ==\n",
      "   Project [balance#187, education#185, age#182, marital#184, day#191, month#192, deposit#198]\n",
      "   +- Exchange RoundRobinPartitioning(5), REPARTITION_BY_NUM, [id=#1180]\n",
      "      +- Filter (((((((isnotnull(balance#187) AND isnotnull(age#182)) AND isnotnull(marital#184)) AND (cast(balance#187 as int) > 1000)) AND (cast(balance#187 as int) < 2000)) AND ((education#185 = primary) OR (education#185 = secondary))) AND (cast(age#182 as int) < 30)) AND (marital#184 = married))\n",
      "         +- FileScan csv [age#182,marital#184,education#185,balance#187,day#191,month#192,deposit#198] Batched: false, DataFilters: [isnotnull(balance#187), isnotnull(age#182), isnotnull(marital#184), (cast(balance#187 as int) > ..., Format: CSV, Location: InMemoryFileIndex(1 paths)[file:/home/student/lab2/bank.csv], PartitionFilters: [], PushedFilters: [IsNotNull(balance), IsNotNull(age), IsNotNull(marital), Or(EqualTo(education,primary),EqualTo(ed..., ReadSchema: struct<age:string,marital:string,education:string,balance:string,day:string,month:string,deposit:...\n",
      "\n",
      "\n"
     ]
    }
   ],
   "source": [
    "#### Query and partition information\n",
    "print_partitions(bank_df)\n",
    "#### Execution Plan for query with multiple filter conditions\n",
    "bank_df.explain()"
   ]
  },
  {
   "cell_type": "markdown",
   "metadata": {
    "id": "4xZJpq4HS-Y7"
   },
   "source": [
    "<div style=\"background:rgba(0,109,174,0.2);padding:10px;border-radius:4px\"><strong style=\"color:#006DAE\">TODO: </strong> Repeat the same query with different partitioning strategies <strong>(Round-Robin, Range and Hash)</strong> and compare its query execution plan plus its information in the <strong>Spark UI.</strong> </div>"
   ]
  },
  {
   "cell_type": "code",
   "execution_count": 96,
   "metadata": {},
   "outputs": [
    {
     "name": "stdout",
     "output_type": "stream",
     "text": [
      "+-------+---------+---+-------+---+-----+-------+\n",
      "|balance|education|age|marital|day|month|deposit|\n",
      "+-------+---------+---+-------+---+-----+-------+\n",
      "|   1135|secondary| 29|married| 17|  feb|    yes|\n",
      "|   1086|secondary| 28|married| 20|  apr|    yes|\n",
      "|   1137|secondary| 28|married|  6|  feb|     no|\n",
      "|   1020|secondary| 28|married| 28|  may|     no|\n",
      "|   1293|secondary| 27|married|  8|  apr|    yes|\n",
      "|   1180|secondary| 29|married| 17|  apr|    yes|\n",
      "|   1222|secondary| 24|married| 20|  apr|     no|\n",
      "|   1238|secondary| 28|married| 14|  may|     no|\n",
      "|   1309|secondary| 23|married|  3|  jun|     no|\n",
      "|   1303|secondary| 27|married| 21|  may|     no|\n",
      "|   1386|secondary| 29|married| 28|  may|     no|\n",
      "|   1595|secondary| 26|married| 15|  jun|    yes|\n",
      "|   1595|secondary| 28|married|  9|  sep|    yes|\n",
      "|   1595|secondary| 27|married| 29|  dec|    yes|\n",
      "|   1417|secondary| 26|married|  6|  jun|     no|\n",
      "|   1595|secondary| 26|married|  2|  mar|     no|\n",
      "|   1596|secondary| 27|married|  1|  sep|    yes|\n",
      "|   1782|secondary| 25|married| 19|  jun|     no|\n",
      "+-------+---------+---+-------+---+-----+-------+\n",
      "\n"
     ]
    }
   ],
   "source": [
    "#Range Partitioning \n",
    "\n",
    "from pyspark.sql.functions import col\n",
    "\n",
    "bank_df = df_range\n",
    "\n",
    "## The functions to filter in dataframes are similar to the functions in RDD. Thus, the steps are:\n",
    "# 1. Search the records with balance between 1000 and 2000\n",
    "bank_df = bank_df.filter(col(\"balance\")>1000)\\\n",
    "            .filter(col(\"balance\")<2000)\n",
    "# TODO: \n",
    "# 2. Also in the same dataframe, search the records with primary or secondary education and age less than 30\n",
    "bank_df = bank_df.filter((bank_df.education=='primary')| (bank_df.education=='secondary')).filter(bank_df.age<30)\n",
    "\n",
    "# TODO:\n",
    "# 3. Also filter with those who are married\n",
    "bank_df = bank_df.filter(bank_df.marital=='married')\n",
    "\n",
    "\n",
    "# TODO:\n",
    "# 4. Display the previous attributes plus the information of day, month and deposit\n",
    "bank_df = bank_df.select('balance','education','age','marital','day','month','deposit')\n",
    "\n",
    "\n",
    "# 5. Display the records\n",
    "bank_df.show()"
   ]
  },
  {
   "cell_type": "code",
   "execution_count": 97,
   "metadata": {},
   "outputs": [
    {
     "name": "stdout",
     "output_type": "stream",
     "text": [
      "####### NUMBER OF PARTITIONS: 5\n",
      "Partition 0: 4 records\n",
      "[Row(balance='1135', education='secondary', age='29', marital='married', day='17', month='feb', deposit='yes'), Row(balance='1086', education='secondary', age='28', marital='married', day='20', month='apr', deposit='yes'), Row(balance='1137', education='secondary', age='28', marital='married', day='6', month='feb', deposit='no'), Row(balance='1020', education='secondary', age='28', marital='married', day='28', month='may', deposit='no')]\n",
      "Partition 1: 4 records\n",
      "[Row(balance='1293', education='secondary', age='27', marital='married', day='8', month='apr', deposit='yes'), Row(balance='1180', education='secondary', age='29', marital='married', day='17', month='apr', deposit='yes'), Row(balance='1222', education='secondary', age='24', marital='married', day='20', month='apr', deposit='no'), Row(balance='1238', education='secondary', age='28', marital='married', day='14', month='may', deposit='no')]\n",
      "Partition 2: 3 records\n",
      "[Row(balance='1309', education='secondary', age='23', marital='married', day='3', month='jun', deposit='no'), Row(balance='1303', education='secondary', age='27', marital='married', day='21', month='may', deposit='no'), Row(balance='1386', education='secondary', age='29', marital='married', day='28', month='may', deposit='no')]\n",
      "Partition 3: 5 records\n",
      "[Row(balance='1595', education='secondary', age='26', marital='married', day='15', month='jun', deposit='yes'), Row(balance='1595', education='secondary', age='28', marital='married', day='9', month='sep', deposit='yes'), Row(balance='1595', education='secondary', age='27', marital='married', day='29', month='dec', deposit='yes'), Row(balance='1417', education='secondary', age='26', marital='married', day='6', month='jun', deposit='no'), Row(balance='1595', education='secondary', age='26', marital='married', day='2', month='mar', deposit='no')]\n",
      "Partition 4: 2 records\n",
      "[Row(balance='1596', education='secondary', age='27', marital='married', day='1', month='sep', deposit='yes'), Row(balance='1782', education='secondary', age='25', marital='married', day='19', month='jun', deposit='no')]\n",
      "== Physical Plan ==\n",
      "AdaptiveSparkPlan isFinalPlan=true\n",
      "+- == Final Plan ==\n",
      "   *(2) Project [balance#187, education#185, age#182, marital#184, day#191, month#192, deposit#198]\n",
      "   +- ShuffleQueryStage 0\n",
      "      +- Exchange rangepartitioning(balance#187 ASC NULLS FIRST, 5), REPARTITION_BY_NUM, [id=#1277]\n",
      "         +- *(1) Filter (((((((isnotnull(balance#187) AND isnotnull(age#182)) AND isnotnull(marital#184)) AND (cast(balance#187 as int) > 1000)) AND (cast(balance#187 as int) < 2000)) AND ((education#185 = primary) OR (education#185 = secondary))) AND (cast(age#182 as int) < 30)) AND (marital#184 = married))\n",
      "            +- FileScan csv [age#182,marital#184,education#185,balance#187,day#191,month#192,deposit#198] Batched: false, DataFilters: [isnotnull(balance#187), isnotnull(age#182), isnotnull(marital#184), (cast(balance#187 as int) > ..., Format: CSV, Location: InMemoryFileIndex(1 paths)[file:/home/student/lab2/bank.csv], PartitionFilters: [], PushedFilters: [IsNotNull(balance), IsNotNull(age), IsNotNull(marital), Or(EqualTo(education,primary),EqualTo(ed..., ReadSchema: struct<age:string,marital:string,education:string,balance:string,day:string,month:string,deposit:...\n",
      "+- == Initial Plan ==\n",
      "   Project [balance#187, education#185, age#182, marital#184, day#191, month#192, deposit#198]\n",
      "   +- Exchange rangepartitioning(balance#187 ASC NULLS FIRST, 5), REPARTITION_BY_NUM, [id=#1267]\n",
      "      +- Filter (((((((isnotnull(balance#187) AND isnotnull(age#182)) AND isnotnull(marital#184)) AND (cast(balance#187 as int) > 1000)) AND (cast(balance#187 as int) < 2000)) AND ((education#185 = primary) OR (education#185 = secondary))) AND (cast(age#182 as int) < 30)) AND (marital#184 = married))\n",
      "         +- FileScan csv [age#182,marital#184,education#185,balance#187,day#191,month#192,deposit#198] Batched: false, DataFilters: [isnotnull(balance#187), isnotnull(age#182), isnotnull(marital#184), (cast(balance#187 as int) > ..., Format: CSV, Location: InMemoryFileIndex(1 paths)[file:/home/student/lab2/bank.csv], PartitionFilters: [], PushedFilters: [IsNotNull(balance), IsNotNull(age), IsNotNull(marital), Or(EqualTo(education,primary),EqualTo(ed..., ReadSchema: struct<age:string,marital:string,education:string,balance:string,day:string,month:string,deposit:...\n",
      "\n",
      "\n"
     ]
    }
   ],
   "source": [
    "#Range partition\n",
    "##### Query and partition information\n",
    "print_partitions(bank_df)\n",
    "#### Execution Plan for query with multiple filter conditions\n",
    "bank_df.explain()"
   ]
  },
  {
   "cell_type": "code",
   "execution_count": 98,
   "metadata": {},
   "outputs": [
    {
     "name": "stdout",
     "output_type": "stream",
     "text": [
      "+-------+---------+---+-------+---+-----+-------+\n",
      "|balance|education|age|marital|day|month|deposit|\n",
      "+-------+---------+---+-------+---+-----+-------+\n",
      "|   1135|secondary| 29|married| 17|  feb|    yes|\n",
      "|   1293|secondary| 27|married|  8|  apr|    yes|\n",
      "|   1180|secondary| 29|married| 17|  apr|    yes|\n",
      "|   1086|secondary| 28|married| 20|  apr|    yes|\n",
      "|   1595|secondary| 26|married| 15|  jun|    yes|\n",
      "|   1596|secondary| 27|married|  1|  sep|    yes|\n",
      "|   1595|secondary| 28|married|  9|  sep|    yes|\n",
      "|   1595|secondary| 27|married| 29|  dec|    yes|\n",
      "|   1417|secondary| 26|married|  6|  jun|     no|\n",
      "|   1309|secondary| 23|married|  3|  jun|     no|\n",
      "|   1222|secondary| 24|married| 20|  apr|     no|\n",
      "|   1238|secondary| 28|married| 14|  may|     no|\n",
      "|   1595|secondary| 26|married|  2|  mar|     no|\n",
      "|   1303|secondary| 27|married| 21|  may|     no|\n",
      "|   1782|secondary| 25|married| 19|  jun|     no|\n",
      "|   1137|secondary| 28|married|  6|  feb|     no|\n",
      "|   1020|secondary| 28|married| 28|  may|     no|\n",
      "|   1386|secondary| 29|married| 28|  may|     no|\n",
      "+-------+---------+---+-------+---+-----+-------+\n",
      "\n"
     ]
    }
   ],
   "source": [
    "#Hash Partitioning \n",
    "\n",
    "from pyspark.sql.functions import col\n",
    "\n",
    "bank_df = df_hash\n",
    "\n",
    "## The functions to filter in dataframes are similar to the functions in RDD. Thus, the steps are:\n",
    "# 1. Search the records with balance between 1000 and 2000\n",
    "bank_df = bank_df.filter(col(\"balance\")>1000)\\\n",
    "            .filter(col(\"balance\")<2000)\n",
    "# TODO: \n",
    "# 2. Also in the same dataframe, search the records with primary or secondary education and age less than 30\n",
    "bank_df = bank_df.filter((bank_df.education=='primary')| (bank_df.education=='secondary')).filter(bank_df.age<30)\n",
    "\n",
    "# TODO:\n",
    "# 3. Also filter with those who are married\n",
    "bank_df = bank_df.filter(bank_df.marital=='married')\n",
    "\n",
    "\n",
    "# TODO:\n",
    "# 4. Display the previous attributes plus the information of day, month and deposit\n",
    "bank_df = bank_df.select('balance','education','age','marital','day','month','deposit')\n",
    "\n",
    "\n",
    "# 5. Display the records\n",
    "bank_df.show()"
   ]
  },
  {
   "cell_type": "code",
   "execution_count": 99,
   "metadata": {
    "scrolled": true
   },
   "outputs": [
    {
     "name": "stdout",
     "output_type": "stream",
     "text": [
      "####### NUMBER OF PARTITIONS: 1\n",
      "Partition 0: 18 records\n",
      "[Row(balance='1135', education='secondary', age='29', marital='married', day='17', month='feb', deposit='yes'), Row(balance='1293', education='secondary', age='27', marital='married', day='8', month='apr', deposit='yes'), Row(balance='1180', education='secondary', age='29', marital='married', day='17', month='apr', deposit='yes'), Row(balance='1086', education='secondary', age='28', marital='married', day='20', month='apr', deposit='yes'), Row(balance='1595', education='secondary', age='26', marital='married', day='15', month='jun', deposit='yes'), Row(balance='1596', education='secondary', age='27', marital='married', day='1', month='sep', deposit='yes'), Row(balance='1595', education='secondary', age='28', marital='married', day='9', month='sep', deposit='yes'), Row(balance='1595', education='secondary', age='27', marital='married', day='29', month='dec', deposit='yes'), Row(balance='1417', education='secondary', age='26', marital='married', day='6', month='jun', deposit='no'), Row(balance='1309', education='secondary', age='23', marital='married', day='3', month='jun', deposit='no'), Row(balance='1222', education='secondary', age='24', marital='married', day='20', month='apr', deposit='no'), Row(balance='1238', education='secondary', age='28', marital='married', day='14', month='may', deposit='no'), Row(balance='1595', education='secondary', age='26', marital='married', day='2', month='mar', deposit='no'), Row(balance='1303', education='secondary', age='27', marital='married', day='21', month='may', deposit='no'), Row(balance='1782', education='secondary', age='25', marital='married', day='19', month='jun', deposit='no'), Row(balance='1137', education='secondary', age='28', marital='married', day='6', month='feb', deposit='no'), Row(balance='1020', education='secondary', age='28', marital='married', day='28', month='may', deposit='no'), Row(balance='1386', education='secondary', age='29', marital='married', day='28', month='may', deposit='no')]\n",
      "== Physical Plan ==\n",
      "AdaptiveSparkPlan isFinalPlan=true\n",
      "+- == Final Plan ==\n",
      "   *(2) Project [balance#187, education#185, age#182, marital#184, day#191, month#192, deposit#198]\n",
      "   +- AQEShuffleRead coalesced\n",
      "      +- ShuffleQueryStage 0\n",
      "         +- Exchange hashpartitioning(education#185, 200), REPARTITION_BY_COL, [id=#1368]\n",
      "            +- *(1) Filter (((((((isnotnull(balance#187) AND isnotnull(age#182)) AND isnotnull(marital#184)) AND (cast(balance#187 as int) > 1000)) AND (cast(balance#187 as int) < 2000)) AND ((education#185 = primary) OR (education#185 = secondary))) AND (cast(age#182 as int) < 30)) AND (marital#184 = married))\n",
      "               +- FileScan csv [age#182,marital#184,education#185,balance#187,day#191,month#192,deposit#198] Batched: false, DataFilters: [isnotnull(balance#187), isnotnull(age#182), isnotnull(marital#184), (cast(balance#187 as int) > ..., Format: CSV, Location: InMemoryFileIndex(1 paths)[file:/home/student/lab2/bank.csv], PartitionFilters: [], PushedFilters: [IsNotNull(balance), IsNotNull(age), IsNotNull(marital), Or(EqualTo(education,primary),EqualTo(ed..., ReadSchema: struct<age:string,marital:string,education:string,balance:string,day:string,month:string,deposit:...\n",
      "+- == Initial Plan ==\n",
      "   Project [balance#187, education#185, age#182, marital#184, day#191, month#192, deposit#198]\n",
      "   +- Exchange hashpartitioning(education#185, 200), REPARTITION_BY_COL, [id=#1358]\n",
      "      +- Filter (((((((isnotnull(balance#187) AND isnotnull(age#182)) AND isnotnull(marital#184)) AND (cast(balance#187 as int) > 1000)) AND (cast(balance#187 as int) < 2000)) AND ((education#185 = primary) OR (education#185 = secondary))) AND (cast(age#182 as int) < 30)) AND (marital#184 = married))\n",
      "         +- FileScan csv [age#182,marital#184,education#185,balance#187,day#191,month#192,deposit#198] Batched: false, DataFilters: [isnotnull(balance#187), isnotnull(age#182), isnotnull(marital#184), (cast(balance#187 as int) > ..., Format: CSV, Location: InMemoryFileIndex(1 paths)[file:/home/student/lab2/bank.csv], PartitionFilters: [], PushedFilters: [IsNotNull(balance), IsNotNull(age), IsNotNull(marital), Or(EqualTo(education,primary),EqualTo(ed..., ReadSchema: struct<age:string,marital:string,education:string,balance:string,day:string,month:string,deposit:...\n",
      "\n",
      "\n"
     ]
    }
   ],
   "source": [
    "#Hash Partition\n",
    "#### Query and partition information\n",
    "print_partitions(bank_df)\n",
    "#### Execution Plan for query with multiple filter conditions\n",
    "bank_df.explain()"
   ]
  },
  {
   "cell_type": "code",
   "execution_count": 91,
   "metadata": {},
   "outputs": [
    {
     "name": "stdout",
     "output_type": "stream",
     "text": [
      "== Parsed Logical Plan ==\n",
      "'Project ['balance, 'education, 'age, 'marital, 'day, 'month, 'deposit]\n",
      "+- Filter (marital#184 = married)\n",
      "   +- Filter (cast(age#182 as int) < 30)\n",
      "      +- Filter ((education#185 = primary) OR (education#185 = secondary))\n",
      "         +- Filter (cast(balance#187 as int) < 2000)\n",
      "            +- Filter (cast(balance#187 as int) > 1000)\n",
      "               +- RepartitionByExpression [education#185]\n",
      "                  +- Relation [age#182,job#183,marital#184,education#185,default#186,balance#187,housing#188,loan#189,contact#190,day#191,month#192,duration#193,campaign#194,pdays#195,previous#196,poutcome#197,deposit#198] csv\n",
      "\n",
      "== Analyzed Logical Plan ==\n",
      "balance: string, education: string, age: string, marital: string, day: string, month: string, deposit: string\n",
      "Project [balance#187, education#185, age#182, marital#184, day#191, month#192, deposit#198]\n",
      "+- Filter (marital#184 = married)\n",
      "   +- Filter (cast(age#182 as int) < 30)\n",
      "      +- Filter ((education#185 = primary) OR (education#185 = secondary))\n",
      "         +- Filter (cast(balance#187 as int) < 2000)\n",
      "            +- Filter (cast(balance#187 as int) > 1000)\n",
      "               +- RepartitionByExpression [education#185]\n",
      "                  +- Relation [age#182,job#183,marital#184,education#185,default#186,balance#187,housing#188,loan#189,contact#190,day#191,month#192,duration#193,campaign#194,pdays#195,previous#196,poutcome#197,deposit#198] csv\n",
      "\n",
      "== Optimized Logical Plan ==\n",
      "Project [balance#187, education#185, age#182, marital#184, day#191, month#192, deposit#198]\n",
      "+- RepartitionByExpression [education#185]\n",
      "   +- Project [age#182, marital#184, education#185, balance#187, day#191, month#192, deposit#198]\n",
      "      +- Filter (((isnotnull(balance#187) AND isnotnull(age#182)) AND isnotnull(marital#184)) AND ((cast(balance#187 as int) > 1000) AND ((((cast(balance#187 as int) < 2000) AND ((education#185 = primary) OR (education#185 = secondary))) AND (cast(age#182 as int) < 30)) AND (marital#184 = married))))\n",
      "         +- Relation [age#182,job#183,marital#184,education#185,default#186,balance#187,housing#188,loan#189,contact#190,day#191,month#192,duration#193,campaign#194,pdays#195,previous#196,poutcome#197,deposit#198] csv\n",
      "\n",
      "== Physical Plan ==\n",
      "AdaptiveSparkPlan isFinalPlan=true\n",
      "+- == Final Plan ==\n",
      "   *(2) Project [balance#187, education#185, age#182, marital#184, day#191, month#192, deposit#198]\n",
      "   +- AQEShuffleRead coalesced\n",
      "      +- ShuffleQueryStage 0\n",
      "         +- Exchange hashpartitioning(education#185, 200), REPARTITION_BY_COL, [id=#922]\n",
      "            +- *(1) Filter (((((((isnotnull(balance#187) AND isnotnull(age#182)) AND isnotnull(marital#184)) AND (cast(balance#187 as int) > 1000)) AND (cast(balance#187 as int) < 2000)) AND ((education#185 = primary) OR (education#185 = secondary))) AND (cast(age#182 as int) < 30)) AND (marital#184 = married))\n",
      "               +- FileScan csv [age#182,marital#184,education#185,balance#187,day#191,month#192,deposit#198] Batched: false, DataFilters: [isnotnull(balance#187), isnotnull(age#182), isnotnull(marital#184), (cast(balance#187 as int) > ..., Format: CSV, Location: InMemoryFileIndex(1 paths)[file:/home/student/lab2/bank.csv], PartitionFilters: [], PushedFilters: [IsNotNull(balance), IsNotNull(age), IsNotNull(marital), Or(EqualTo(education,primary),EqualTo(ed..., ReadSchema: struct<age:string,marital:string,education:string,balance:string,day:string,month:string,deposit:...\n",
      "+- == Initial Plan ==\n",
      "   Project [balance#187, education#185, age#182, marital#184, day#191, month#192, deposit#198]\n",
      "   +- Exchange hashpartitioning(education#185, 200), REPARTITION_BY_COL, [id=#912]\n",
      "      +- Filter (((((((isnotnull(balance#187) AND isnotnull(age#182)) AND isnotnull(marital#184)) AND (cast(balance#187 as int) > 1000)) AND (cast(balance#187 as int) < 2000)) AND ((education#185 = primary) OR (education#185 = secondary))) AND (cast(age#182 as int) < 30)) AND (marital#184 = married))\n",
      "         +- FileScan csv [age#182,marital#184,education#185,balance#187,day#191,month#192,deposit#198] Batched: false, DataFilters: [isnotnull(balance#187), isnotnull(age#182), isnotnull(marital#184), (cast(balance#187 as int) > ..., Format: CSV, Location: InMemoryFileIndex(1 paths)[file:/home/student/lab2/bank.csv], PartitionFilters: [], PushedFilters: [IsNotNull(balance), IsNotNull(age), IsNotNull(marital), Or(EqualTo(education,primary),EqualTo(ed..., ReadSchema: struct<age:string,marital:string,education:string,balance:string,day:string,month:string,deposit:...\n",
      "\n"
     ]
    }
   ],
   "source": [
    "#Show the logical plan + physical plan\n",
    "bank_df.explain(extended=True)"
   ]
  },
  {
   "cell_type": "markdown",
   "metadata": {
    "id": "OK7Myn3uS-Y7"
   },
   "source": [
    "<div style=\"background:rgba(0,109,174,0.2);padding:10px;border-radius:4px\"><strong style=\"color:##333333\">EXAMPLE: </strong>Obtain also the <code>max/min</code> as you did in RDDs but now using <strong>Spark DataFrame</strong>. Does it return the same value as in section 1? Also, check its execution plan and the information in Spark UI.</div>"
   ]
  },
  {
   "cell_type": "code",
   "execution_count": 89,
   "metadata": {
    "id": "aO4WwDStS-Y7"
   },
   "outputs": [
    {
     "name": "stdout",
     "output_type": "stream",
     "text": [
      "[Row(max(balance)=81204)]\n"
     ]
    }
   ],
   "source": [
    "#### SOLUTION:\n",
    "bank_max_balance = df_round.selectExpr(\"int(balance)\").selectExpr(\"max(balance)\").collect()\n",
    "print(bank_max_balance)"
   ]
  },
  {
   "cell_type": "code",
   "execution_count": 92,
   "metadata": {},
   "outputs": [
    {
     "name": "stdout",
     "output_type": "stream",
     "text": [
      "[Row(min(balance)=-6847)]\n"
     ]
    }
   ],
   "source": [
    "bank_min_balance = df_round.selectExpr(\"int(balance)\").selectExpr(\"min(balance)\").collect()\n",
    "print(bank_min_balance)"
   ]
  },
  {
   "cell_type": "code",
   "execution_count": 101,
   "metadata": {},
   "outputs": [
    {
     "name": "stdout",
     "output_type": "stream",
     "text": [
      "[Row(max(CAST(balance AS INT))=81204)]\n"
     ]
    }
   ],
   "source": [
    "# Alt solution\n",
    "\n",
    "from pyspark.sql.functions import max\n",
    "bank_max_balance =df_round.select(max(df_round.balance.cast('int'))).collect()\n",
    "print(bank_max_balance)"
   ]
  },
  {
   "cell_type": "markdown",
   "metadata": {
    "id": "IlQrkO5kS-Y7"
   },
   "source": [
    "### Parallel Search using SQL language in Spark  <a class=\"anchor\" id=\"parallel_search_sparksql\"></a>\n",
    "#### Spark SQL\n",
    "Spark SQL is a Spark module for structured data processing. It provides a programming abstraction called DataFrames and can also act as a distributed SQL query engine. It enables unmodified Hadoop Hive queries to run up to 100x faster on existing deployments and data. It also provides powerful integration with the rest of the Spark ecosystem (e.g., integrating SQL query processing with machine learning). <a href=\"https://databricks.com/glossary/what-is-spark-sql#:~:text=Spark%20SQL%20is%20a%20Spark,on%20existing%20deployments%20and%20data\">[Read More]</a>.\n",
    "\n",
    "A view can be created from a dataframe in order to use SQL queries to search data. In this section, you will use SQL statements to perform search queries in the views that will be registered from the dataframes we created in the previous section."
   ]
  },
  {
   "cell_type": "code",
   "execution_count": null,
   "metadata": {
    "id": "4j2jW4M9S-Y7"
   },
   "outputs": [],
   "source": [
    "# register the original DataFrame as a temp view so that we can query it using SQL\n",
    "df.createOrReplaceTempView(\"df_sql\")\n",
    "filter_sql = spark.sql('''\n",
    "  SELECT age,education,balance,day,month,deposit\n",
    "  FROM df_sql\n",
    "  WHERE balance between 1000 and 2000\n",
    "  AND education in ('secondary','primary')\n",
    "  AND age < 30\n",
    "  AND marital = 'married'\n",
    "''')\n",
    "# filter_sql.explain()\n",
    "filter_sql.collect()"
   ]
  },
  {
   "cell_type": "markdown",
   "metadata": {
    "id": "UrqZl60gS-Y7"
   },
   "source": [
    "<a class=\"anchor\" id=\"lab-task-6\"></a>\n",
    "<div style=\"background:rgba(0,109,174,0.2);padding:10px;border-radius:4px\"><strong style=\"color:#333333\">EXAMPLE: </strong>Obtain also the <code>max/min</code> as you did in RDDs and DataFrames, but now using <strong>Spark SQL</strong>. Does it return the same value as in previous cases? Also, check its execution plan and the information in Spark UI.</div>"
   ]
  },
  {
   "cell_type": "code",
   "execution_count": null,
   "metadata": {
    "id": "qYHe6whMS-Y7"
   },
   "outputs": [],
   "source": [
    "#### SOLUTION:\n",
    "max_sql = spark.sql('''\n",
    "  SELECT MAX(CAST(balance AS INT)) as max_balance\n",
    "  FROM df_sql\n",
    "''')\n",
    "# Check the result obtained\n",
    "max_sql.collect()"
   ]
  },
  {
   "cell_type": "markdown",
   "metadata": {
    "id": "Wq4Vj16RFIgk"
   },
   "source": [
    "**Congratulations on finishing this activity!**\n",
    "\n",
    "Having practiced today's activities, we're now ready to embark on a trip of the rest of exiciting FIT5202 activities! See you next week!"
   ]
  }
 ],
 "metadata": {
  "colab": {
   "collapsed_sections": [
    "yVWYWwzMFIfR",
    "K2QtBnKgFIfa",
    "kL88Q46yFIfh",
    "48_7UVktFIgD",
    "dtN67ydpFIgF",
    "cSs0qd02FIgI"
   ],
   "name": "Session2_Parallel Search.ipynb",
   "provenance": []
  },
  "kernelspec": {
   "display_name": "Python 3 (ipykernel)",
   "language": "python",
   "name": "python3"
  },
  "language_info": {
   "codemirror_mode": {
    "name": "ipython",
    "version": 3
   },
   "file_extension": ".py",
   "mimetype": "text/x-python",
   "name": "python",
   "nbconvert_exporter": "python",
   "pygments_lexer": "ipython3",
   "version": "3.8.15"
  }
 },
 "nbformat": 4,
 "nbformat_minor": 1
}
