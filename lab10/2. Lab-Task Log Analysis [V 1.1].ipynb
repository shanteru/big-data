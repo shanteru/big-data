{
 "cells": [
  {
   "cell_type": "markdown",
   "metadata": {},
   "source": [
    "### Step 1 : Include Libraries and Initialize Spark Session"
   ]
  },
  {
   "cell_type": "code",
   "execution_count": 1,
   "metadata": {},
   "outputs": [],
   "source": [
    "#Import necessary libraries and initialize Spark Session\n",
    "\n",
    "import os\n",
    "os.environ['PYSPARK_SUBMIT_ARGS'] = '--packages org.apache.spark:spark-streaming-kafka-0-10_2.12:3.0.0,org.apache.spark:spark-sql-kafka-0-10_2.12:3.0.0 pyspark-shell'\n",
    "\n",
    "from pyspark.sql import SparkSession\n",
    "from pyspark.sql.functions import *\n",
    "from pyspark.sql import functions as F\n",
    "from pyspark.sql.types import *\n",
    "\n",
    "spark = SparkSession \\\n",
    "    .builder \\\n",
    "    .appName(\"Lab-Task Log Analysis\") \\\n",
    "    .getOrCreate()"
   ]
  },
  {
   "cell_type": "markdown",
   "metadata": {},
   "source": [
    "## Use-Case : Tracking Server Access Log <a class=\"anchor\" name=\"use-case\"></a>\n",
    "For this case, a server is going to continuously send a records of a host who is trying to access some endpoint (url) from the web server. This data will be send from a kafka producer (<code>2.Lab-Task-KafkaProducer.ipynb</code>) which is reading the data from a txt file in the dataset provided (<code>logs/access_log.txt</code>).\n",
    "\n",
    "Each line contains some valuable information such as:\n",
    "\n",
    "1. Host\n",
    "2. Timestamp\n",
    "3. HTTP method\n",
    "4. URL endpoint\n",
    "5. Status code\n",
    "6. Protocol\n",
    "7. Content Size\n",
    "\n",
    "The goal here is to perform some real time queries from this stream of data and be able to output the results in multiple ways."
   ]
  },
  {
   "cell_type": "markdown",
   "metadata": {},
   "source": [
    "### Step 2 : Load Kafka Stream \n",
    "Use the <code>readStream</code> to load data from the Kafka Producer <strong>2.Lab-Task-KafkaProducer.ipynb</strong>"
   ]
  },
  {
   "cell_type": "markdown",
   "metadata": {},
   "source": [
    "<a class=\"anchor\" id=\"lab-task-1\"></a>\n",
    "<div style=\"background:rgba(0,109,174,0.2);padding:10px;border-radius:4px\"><strong style=\"color:#FF5555\">1. Lab Task: </strong> \n",
    "    Write the code below to readStream from the the producer into <code>df_urls</code> dataframe.\n",
    "</div>"
   ]
  },
  {
   "cell_type": "code",
   "execution_count": 2,
   "metadata": {},
   "outputs": [],
   "source": [
    "# Monitor the logs data stream for new log data\n",
    "topic = \"w10_access_log\"\n",
    "hostip = \"10.156.3.124\" \n",
    "\n",
    "df_urls = spark \\\n",
    "  .readStream \\\n",
    "  .format(\"kafka\") \\\n",
    "  .option(\"kafka.bootstrap.servers\", f'{hostip}:9092') \\\n",
    "  .option(\"subscribe\", topic) \\\n",
    "  .load()#WRITE THE CODE HERE"
   ]
  },
  {
   "cell_type": "markdown",
   "metadata": {},
   "source": [
    "## Data Preparation <a class=\"anchor\" name=\"data-prep\"></a>\n",
    "We need to convert the data from the message in order to perform some queries. The steps to parse the data are:\n",
    "\n",
    "1. Get message as a string from <code>value</code> which is binary.\n",
    "2. Implement some regular expressions to capture specific fields in the message which is a line from the access log.\n",
    "3. Extract the values using the regular expressions to create the dataframe."
   ]
  },
  {
   "cell_type": "code",
   "execution_count": 3,
   "metadata": {},
   "outputs": [
    {
     "name": "stdout",
     "output_type": "stream",
     "text": [
      "root\n",
      " |-- host: string (nullable = true)\n",
      " |-- method: string (nullable = true)\n",
      " |-- endpoint: string (nullable = true)\n",
      " |-- protocol: string (nullable = true)\n",
      " |-- status: integer (nullable = true)\n",
      "\n"
     ]
    }
   ],
   "source": [
    "# Get value of the kafka message\n",
    "log_lines = df_urls.selectExpr(\"CAST(value AS STRING)\")\n",
    "\n",
    "# Parse out the common log format to a DataFrame\n",
    "statusExp = r'\\s(\\d{3})\\s'\n",
    "generalExp = r'\\\"(\\S+)\\s(\\S+)\\s*(\\S*)\\\"'\n",
    "hostExp = r'(^\\S+\\.[\\S+\\.]+\\S+)\\s'\n",
    "\n",
    "df_logs = log_lines.select(regexp_extract('value', hostExp, 1).alias('host'),\n",
    "                         regexp_extract('value', generalExp, 1).alias('method'),\n",
    "                         regexp_extract('value', generalExp, 2).alias('endpoint'),\n",
    "                         regexp_extract('value', generalExp, 3).alias('protocol'),\n",
    "                         regexp_extract('value', statusExp, 1).cast('integer').alias('status'))\n",
    "\n",
    "df_logs.printSchema()"
   ]
  },
  {
   "cell_type": "markdown",
   "metadata": {},
   "source": [
    "## Data Streaming Processing "
   ]
  },
  {
   "cell_type": "markdown",
   "metadata": {},
   "source": [
    "<a class=\"anchor\" id=\"lab-task-2\"></a>\n",
    "<div style=\"background:rgba(0,109,174,0.2);padding:10px;border-radius:4px\"><strong style=\"color:#FF5555\">2. Lab Task: </strong> \n",
    "    Write a DataFrame query to filter out those requests that were not successful using <code>status !=200</code> filter.\n",
    "</div>"
   ]
  },
  {
   "cell_type": "code",
   "execution_count": 4,
   "metadata": {},
   "outputs": [],
   "source": [
    "# 1. DF that filters those requests that were not successful (status != 200)\n",
    "unsuccess_df = df_logs.filter(F.col('status')!=200)#WRITE THE CODE HERE"
   ]
  },
  {
   "cell_type": "markdown",
   "metadata": {},
   "source": [
    "<a class=\"anchor\" id=\"lab-task-3\"></a>\n",
    "<div style=\"background:rgba(0,109,174,0.2);padding:10px;border-radius:4px\"><strong style=\"color:#FF5555\">3. Lab Task: </strong> \n",
    "    Write a DataFrame query count the number of requests by access status code\n",
    "</div>"
   ]
  },
  {
   "cell_type": "code",
   "execution_count": 5,
   "metadata": {},
   "outputs": [],
   "source": [
    "# 2. DF that keeps a running count of every access by status code\n",
    "\n",
    "status_count_df = df_logs.groupby('status').count() #WRITE THE CODE HERE\n"
   ]
  },
  {
   "cell_type": "markdown",
   "metadata": {},
   "source": [
    "## Output sink <a class=\"anchor\" name=\"output-sink\"></a>\n",
    "Before starting this section, run the kafka producer (<code>2.Lab-Task-KafkaProducer.ipynb</code>) that will send the data from the access log file."
   ]
  },
  {
   "cell_type": "code",
   "execution_count": 6,
   "metadata": {},
   "outputs": [],
   "source": [
    "# Create function to show values received from input dataframe\n",
    "def foreach_batch_function(df, epoch_id):\n",
    "    df.show(20,False)"
   ]
  },
  {
   "cell_type": "markdown",
   "metadata": {},
   "source": [
    "#### Display stream output in notebook <a class=\"anchor\" name=\"foreachBatch\"></a>"
   ]
  },
  {
   "cell_type": "code",
   "execution_count": 7,
   "metadata": {},
   "outputs": [],
   "source": [
    "# Write output of status_count_df in output cell using the foreach_batch_function\n",
    "# Control the amount of times output is displayed with trigger function\n",
    "query1 = status_count_df.writeStream.outputMode(\"complete\")\\\n",
    "        .foreachBatch(foreach_batch_function)\\\n",
    "        .trigger(processingTime='5 seconds')\\\n",
    "        .start()"
   ]
  },
  {
   "cell_type": "code",
   "execution_count": 8,
   "metadata": {},
   "outputs": [],
   "source": [
    "query1.stop()"
   ]
  },
  {
   "cell_type": "markdown",
   "metadata": {},
   "source": [
    "<a class=\"anchor\" id=\"lab-task-4\"></a>\n",
    "<div style=\"background:rgba(0,109,174,0.2);padding:10px;border-radius:4px\"><strong style=\"color:#FF5555\">4. Lab Task: </strong> \n",
    "    Write the stream output (<strong>for the unsucess_df</strong>) to the <strong>memory sink</strong> and display the result using <strong>spark SQL</strong>\n",
    "</div>"
   ]
  },
  {
   "cell_type": "code",
   "execution_count": 9,
   "metadata": {},
   "outputs": [],
   "source": [
    "#WRITE THE CODE HERE TO WRITE OUTPUT TO MEMORY SINK\n",
    "query2 = unsuccess_df.writeStream\\\n",
    "            .outputMode(\"append\")\\\n",
    "            .format('memory')\\\n",
    "            .queryName('unsuccess_query')\\\n",
    "            .start()"
   ]
  },
  {
   "cell_type": "code",
   "execution_count": 19,
   "metadata": {},
   "outputs": [
    {
     "name": "stdout",
     "output_type": "stream",
     "text": [
      "+----------------+------+--------------------+---------+------+\n",
      "|            host|method|            endpoint| protocol|status|\n",
      "+----------------+------+--------------------+---------+------+\n",
      "|    \"180.76.15.7|   GET|                   /|HTTP/1.1\\|   301|\n",
      "|  \"180.76.15.141|   GET|                   /|HTTP/1.1\\|   301|\n",
      "|   \"180.76.15.30|   GET|                   /|HTTP/1.1\\|   301|\n",
      "|    \"180.76.15.7|   GET|                   /|HTTP/1.1\\|   301|\n",
      "|  \"62.210.88.201|   GET|http://51.254.206...|HTTP/1.1\\|   301|\n",
      "|  \"97.100.169.53|   GET|     /?page_id=34248|HTTP/1.1\\|   301|\n",
      "| \"46.229.170.197|   GET|     /?page_id=34420|HTTP/1.1\\|   301|\n",
      "|  \"180.76.15.153|   GET|                   /|HTTP/1.1\\|   301|\n",
      "|  \"180.76.15.152|   GET|                   /|HTTP/1.1\\|   301|\n",
      "|  \"62.210.88.201|   GET|http://51.254.206...|HTTP/1.1\\|   301|\n",
      "|   \"180.76.15.32|   GET|                   /|HTTP/1.1\\|   301|\n",
      "|    \"180.76.15.7|   GET|                   /|HTTP/1.1\\|   301|\n",
      "| \"113.204.53.134|  POST|          /jeecms.do|HTTP/1.1\\|   404|\n",
      "|    \"66.249.66.3|   GET|     /?page_id=34501|HTTP/1.1\\|   301|\n",
      "|  \"62.210.88.201|   GET|http://51.254.206...|HTTP/1.1\\|   301|\n",
      "|\"198.100.144.183|   GET|     /?page_id=34420|HTTP/1.0\\|   301|\n",
      "|\"198.100.144.183|   GET|     /?page_id=34422|HTTP/1.0\\|   301|\n",
      "|  \"62.210.88.201|   GET|http://51.254.206...|HTTP/1.1\\|   301|\n",
      "|  \"180.76.15.146|   GET|                   /|HTTP/1.1\\|   301|\n",
      "|    \"180.76.15.5|   GET|                   /|HTTP/1.1\\|   301|\n",
      "+----------------+------+--------------------+---------+------+\n",
      "only showing top 20 rows\n",
      "\n"
     ]
    }
   ],
   "source": [
    "#WRITE THE CODE HERE TO QUERY THE TABLE FROM MEMORY SINK\n",
    "spark.sql('select * from unsuccess_query').show()"
   ]
  },
  {
   "cell_type": "code",
   "execution_count": null,
   "metadata": {},
   "outputs": [],
   "source": []
  }
 ],
 "metadata": {
  "kernelspec": {
   "display_name": "Python 3 (ipykernel)",
   "language": "python",
   "name": "python3"
  },
  "language_info": {
   "codemirror_mode": {
    "name": "ipython",
    "version": 3
   },
   "file_extension": ".py",
   "mimetype": "text/x-python",
   "name": "python",
   "nbconvert_exporter": "python",
   "pygments_lexer": "ipython3",
   "version": "3.8.15"
  }
 },
 "nbformat": 4,
 "nbformat_minor": 4
}
