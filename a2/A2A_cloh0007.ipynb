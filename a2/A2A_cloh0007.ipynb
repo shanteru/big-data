{
 "cells": [
  {
   "cell_type": "markdown",
   "id": "5f3ff78a",
   "metadata": {},
   "source": [
    "# FIT5202 Assignment 2 : Predict Retail Sales\n",
    "\n",
    "Full Name: Chantelle Loh Yi Wei\n",
    "\n",
    "Username: cloh0007\n",
    "\n",
    "ID: 31171109\n",
    "\n",
    "## Table of Contents\n",
    "* [1. Data Loading and Preparation](#data-preparation)\n",
    "* [2.Feature Selection & ML Training](#feat-select)\n"
   ]
  },
  {
   "cell_type": "markdown",
   "id": "de644fe4",
   "metadata": {},
   "source": [
    "# 1 : Data Loading and exploration<a class=\"anchor\" name=\"data-preparation\"></a> \n",
    "## 1.1: Data Loading"
   ]
  },
  {
   "cell_type": "markdown",
   "id": "fdb1ec27",
   "metadata": {},
   "source": [
    "### 1.1.1 Create SparkSession<a class=\"anchor\" id=\"1.1.1\"></a>\n",
    "\n",
    "Write the code to get a SparkSession. For creating the SparkSession, you need to use a SparkConf object to configure the Spark app with a proper application name, to enable the maximum partition size not exceed 10MB, and to run locally with as many working processors as local cores on your machine"
   ]
  },
  {
   "cell_type": "code",
   "execution_count": 17,
   "id": "a0730dc9",
   "metadata": {},
   "outputs": [],
   "source": [
    "from pyspark import SparkConf\n",
    "\n",
    "master = \"local[*]\"\n",
    "\n",
    "app_name = \"31171109 Assignment 2 FIT5202\"\n",
    "\n",
    "spark_conf = SparkConf().setMaster(master).setAppName(app_name).set(\"spark.sql.files.maxPartitionBytes\", \"10m\")\n",
    "\n",
    "from pyspark import SparkContext\n",
    "from pyspark.sql import SparkSession\n",
    "\n",
    "\n",
    "spark = SparkSession.builder.config(conf=spark_conf).getOrCreate()\n",
    "sc = spark.sparkContext\n",
    "sc.setLogLevel('ERROR')"
   ]
  },
  {
   "cell_type": "markdown",
   "id": "e53734bd",
   "metadata": {},
   "source": [
    "### 1.1.2 Define schemas<a class=\"anchor\" id=\"1.1.1\"></a>\n",
    "\n",
    "Write code to define the data schema for features, sales and stores datasets, following the data types suggested in the metadata file."
   ]
  },
  {
   "cell_type": "code",
   "execution_count": 18,
   "id": "5974aaf4",
   "metadata": {},
   "outputs": [],
   "source": [
    "from pyspark.sql.types import *\n",
    "\n",
    "\n",
    "feat_schema = StructType([\n",
    "    StructField(\"Store\", IntegerType(), True),\n",
    "    StructField(\"Date\", DateType(), True), \n",
    "    StructField(\"Temperature\", FloatType(), True),\n",
    "    StructField(\"Fuel_Price\", FloatType(), True),\n",
    "    StructField(\"MarkDown1\", FloatType(), True),\n",
    "    StructField(\"MarkDown2\", FloatType(), True),\n",
    "    StructField(\"MarkDown3\", FloatType(), True),\n",
    "    StructField(\"MarkDown4\", FloatType(), True),\n",
    "    StructField(\"MarkDown5\", FloatType(), True),\n",
    "    StructField(\"CPI\", FloatType(), True),\n",
    "    StructField(\"Unemployment\", FloatType(), True),\n",
    "    StructField(\"IsHoliday\", BooleanType(), True)\n",
    "])\n",
    "\n",
    "\n",
    "\n",
    "\n",
    "\n",
    "sales_schema = StructType([\n",
    "    StructField(\"Store\", IntegerType(), True),\n",
    "    StructField(\"Dept\", IntegerType(), True),\n",
    "    StructField(\"Date\", DateType(), True),\n",
    "    StructField(\"Weekly_Sales\", FloatType(), True),\n",
    "    StructField(\"IsHoliday\", BooleanType(), True)\n",
    "])\n",
    "\n",
    "\n",
    "stores_schema = StructType([\n",
    "    StructField(\"Store\", IntegerType(), True),\n",
    "    StructField(\"Type\", StringType(), True),\n",
    "    StructField(\"Size\", IntegerType(), True)\n",
    "])\n"
   ]
  },
  {
   "cell_type": "markdown",
   "id": "4920b11a",
   "metadata": {},
   "source": [
    "### 1.1.3 Load three DF<a class=\"anchor\" id=\"1.1.1\"></a>\n",
    "\n",
    "Using predefined schema, write code to load the features, sales and stores csv files into separate dataframes. Print the schemas for all of the dataframes"
   ]
  },
  {
   "cell_type": "code",
   "execution_count": 27,
   "id": "5ceb408b",
   "metadata": {},
   "outputs": [
    {
     "name": "stdout",
     "output_type": "stream",
     "text": [
      "Features\n",
      "root\n",
      " |-- Store: integer (nullable = true)\n",
      " |-- Date: date (nullable = true)\n",
      " |-- Temperature: float (nullable = true)\n",
      " |-- Fuel_Price: float (nullable = true)\n",
      " |-- MarkDown1: float (nullable = true)\n",
      " |-- MarkDown2: float (nullable = true)\n",
      " |-- MarkDown3: float (nullable = true)\n",
      " |-- MarkDown4: float (nullable = true)\n",
      " |-- MarkDown5: float (nullable = true)\n",
      " |-- CPI: float (nullable = true)\n",
      " |-- Unemployment: float (nullable = true)\n",
      " |-- IsHoliday: boolean (nullable = true)\n",
      "\n",
      "+-----+----------+-----------+----------+---------+---------+---------+---------+---------+---------+------------+---------+\n",
      "|Store|      Date|Temperature|Fuel_Price|MarkDown1|MarkDown2|MarkDown3|MarkDown4|MarkDown5|      CPI|Unemployment|IsHoliday|\n",
      "+-----+----------+-----------+----------+---------+---------+---------+---------+---------+---------+------------+---------+\n",
      "|    1|2010-02-05|      42.31|     2.572|     null|     null|     null|     null|     null|211.09636|       8.106|    false|\n",
      "|    1|2010-02-12|      38.51|     2.548|     null|     null|     null|     null|     null|211.24217|       8.106|     true|\n",
      "|    1|2010-02-19|      39.93|     2.514|     null|     null|     null|     null|     null|211.28914|       8.106|    false|\n",
      "|    1|2010-02-26|      46.63|     2.561|     null|     null|     null|     null|     null|211.31964|       8.106|    false|\n",
      "|    1|2010-03-05|       46.5|     2.625|     null|     null|     null|     null|     null|211.35014|       8.106|    false|\n",
      "|    1|2010-03-12|      57.79|     2.667|     null|     null|     null|     null|     null|211.38065|       8.106|    false|\n",
      "|    1|2010-03-19|      54.58|      2.72|     null|     null|     null|     null|     null|211.21564|       8.106|    false|\n",
      "|    1|2010-03-26|      51.45|     2.732|     null|     null|     null|     null|     null|211.01804|       8.106|    false|\n",
      "|    1|2010-04-02|      62.27|     2.719|     null|     null|     null|     null|     null|210.82045|       7.808|    false|\n",
      "|    1|2010-04-09|      65.86|      2.77|     null|     null|     null|     null|     null|210.62286|       7.808|    false|\n",
      "|    1|2010-04-16|      66.32|     2.808|     null|     null|     null|     null|     null| 210.4887|       7.808|    false|\n",
      "|    1|2010-04-23|      64.84|     2.795|     null|     null|     null|     null|     null|210.43912|       7.808|    false|\n",
      "|    1|2010-04-30|      67.41|      2.78|     null|     null|     null|     null|     null|210.38954|       7.808|    false|\n",
      "|    1|2010-05-07|      72.55|     2.835|     null|     null|     null|     null|     null|210.33997|       7.808|    false|\n",
      "|    1|2010-05-14|      74.78|     2.854|     null|     null|     null|     null|     null|210.33743|       7.808|    false|\n",
      "|    1|2010-05-21|      76.44|     2.826|     null|     null|     null|     null|     null| 210.6171|       7.808|    false|\n",
      "|    1|2010-05-28|      80.44|     2.759|     null|     null|     null|     null|     null|210.89676|       7.808|    false|\n",
      "|    1|2010-06-04|      80.69|     2.705|     null|     null|     null|     null|     null|211.17642|       7.808|    false|\n",
      "|    1|2010-06-11|      80.43|     2.668|     null|     null|     null|     null|     null| 211.4561|       7.808|    false|\n",
      "|    1|2010-06-18|      84.11|     2.637|     null|     null|     null|     null|     null|211.45377|       7.808|    false|\n",
      "+-----+----------+-----------+----------+---------+---------+---------+---------+---------+---------+------------+---------+\n",
      "only showing top 20 rows\n",
      "\n",
      "Sales\n",
      "root\n",
      " |-- Store: integer (nullable = true)\n",
      " |-- Dept: integer (nullable = true)\n",
      " |-- Date: date (nullable = true)\n",
      " |-- Weekly_Sales: float (nullable = true)\n",
      " |-- IsHoliday: boolean (nullable = true)\n",
      "\n",
      "+-----+----+----------+------------+---------+\n",
      "|Store|Dept|      Date|Weekly_Sales|IsHoliday|\n",
      "+-----+----+----------+------------+---------+\n",
      "|    1|   1|2010-02-05|     24924.5|    false|\n",
      "|    1|   1|2010-02-12|    46039.49|     true|\n",
      "|    1|   1|2010-02-19|    41595.55|    false|\n",
      "|    1|   1|2010-02-26|    19403.54|    false|\n",
      "|    1|   1|2010-03-05|     21827.9|    false|\n",
      "|    1|   1|2010-03-12|    21043.39|    false|\n",
      "|    1|   1|2010-03-19|    22136.64|    false|\n",
      "|    1|   1|2010-03-26|    26229.21|    false|\n",
      "|    1|   1|2010-04-02|    57258.43|    false|\n",
      "|    1|   1|2010-04-09|    42960.91|    false|\n",
      "|    1|   1|2010-04-16|    17596.96|    false|\n",
      "|    1|   1|2010-04-23|    16145.35|    false|\n",
      "|    1|   1|2010-04-30|    16555.11|    false|\n",
      "|    1|   1|2010-05-07|    17413.94|    false|\n",
      "|    1|   1|2010-05-14|    18926.74|    false|\n",
      "|    1|   1|2010-05-21|    14773.04|    false|\n",
      "|    1|   1|2010-05-28|    15580.43|    false|\n",
      "|    1|   1|2010-06-04|    17558.09|    false|\n",
      "|    1|   1|2010-06-11|    16637.62|    false|\n",
      "|    1|   1|2010-06-18|    16216.27|    false|\n",
      "+-----+----+----------+------------+---------+\n",
      "only showing top 20 rows\n",
      "\n",
      "Stores\n",
      "root\n",
      " |-- Store: integer (nullable = true)\n",
      " |-- Type: string (nullable = true)\n",
      " |-- Size: integer (nullable = true)\n",
      "\n",
      "+-----+----+------+\n",
      "|Store|Type|  Size|\n",
      "+-----+----+------+\n",
      "|    1|   A|151315|\n",
      "|    2|   A|202307|\n",
      "|    3|   B| 37392|\n",
      "|    4|   A|205863|\n",
      "|    5|   B| 34875|\n",
      "|    6|   A|202505|\n",
      "|    7|   B| 70713|\n",
      "|    8|   A|155078|\n",
      "|    9|   B|125833|\n",
      "|   10|   B|126512|\n",
      "|   11|   A|207499|\n",
      "|   12|   B|112238|\n",
      "|   13|   A|219622|\n",
      "|   14|   A|200898|\n",
      "|   15|   B|123737|\n",
      "|   16|   B| 57197|\n",
      "|   17|   B| 93188|\n",
      "|   18|   B|120653|\n",
      "|   19|   A|203819|\n",
      "|   20|   A|203742|\n",
      "+-----+----+------+\n",
      "only showing top 20 rows\n",
      "\n"
     ]
    }
   ],
   "source": [
    "feat_df = spark.read.csv(\"Features.csv\", header=True, dateFormat=\"dd/MM/yyyy\",schema=feat_schema)\n",
    "sales_df = spark.read.csv(\"sales.csv\", header=True,  dateFormat=\"dd/MM/yyyy\", schema=sales_schema)\n",
    "stores_df = spark.read.csv(\"stores.csv\", header=True, schema=stores_schema)\n",
    "print(\"Features\")\n",
    "feat_df.printSchema()\n",
    "\n",
    "feat_df.show()\n",
    "\n",
    "print(\"Sales\")\n",
    "sales_df.printSchema()\n",
    "\n",
    "sales_df.show()\n",
    "\n",
    "\n",
    "print(\"Stores\")\n",
    "stores_df.printSchema()\n",
    "\n",
    "stores_df.show()\n",
    "\n"
   ]
  },
  {
   "cell_type": "markdown",
   "id": "a6cae273",
   "metadata": {},
   "source": [
    "## 1.2: Data Exploration"
   ]
  },
  {
   "cell_type": "markdown",
   "id": "b75d96ce",
   "metadata": {},
   "source": [
    "### 1.2.1 Exploring the data<a class=\"anchor\" id=\"1.1.1\"></a>\n",
    "\n",
    "Write code to show the total ‘null’ counts for each column in all of the three dataframes."
   ]
  },
  {
   "cell_type": "code",
   "execution_count": 28,
   "id": "ccb5c5f9",
   "metadata": {},
   "outputs": [
    {
     "name": "stdout",
     "output_type": "stream",
     "text": [
      "Features Total null count:\n",
      "+-----+----+-----------+----------+---------+---------+---------+---------+---------+---+------------+---------+\n",
      "|Store|Date|Temperature|Fuel_Price|MarkDown1|MarkDown2|MarkDown3|MarkDown4|MarkDown5|CPI|Unemployment|IsHoliday|\n",
      "+-----+----+-----------+----------+---------+---------+---------+---------+---------+---+------------+---------+\n",
      "|    0|   0|          0|         0|     4158|     5269|     4577|     4726|     4140|585|         585|        0|\n",
      "+-----+----+-----------+----------+---------+---------+---------+---------+---------+---+------------+---------+\n",
      "\n",
      "Sales Total null count:\n",
      "+-----+----+----+------------+---------+\n",
      "|Store|Dept|Date|Weekly_Sales|IsHoliday|\n",
      "+-----+----+----+------------+---------+\n",
      "|    0|   0|   0|           0|        0|\n",
      "+-----+----+----+------------+---------+\n",
      "\n",
      "Stores Total null count:\n",
      "+-----+----+----+\n",
      "|Store|Type|Size|\n",
      "+-----+----+----+\n",
      "|    0|   0|   0|\n",
      "+-----+----+----+\n",
      "\n"
     ]
    }
   ],
   "source": [
    "\n",
    "from pyspark.sql.functions import col, sum\n",
    "\n",
    "feat_null = feat_df.select([sum(col(i).isNull().cast(\"int\")).alias(i) for i in feat_df.columns])\n",
    "\n",
    "\n",
    "sales_null = sales_df.select([sum(col(i).isNull().cast(\"int\")).alias(i) for i in sales_df.columns])\n",
    "\n",
    "\n",
    "stores_null = stores_df.select([sum(col(i).isNull().cast(\"int\")).alias(i) for i in stores_df.columns])\n",
    "\n",
    "\n",
    "\n",
    "\n",
    "print(f\"Features Total null count:\")\n",
    "feat_null.show()\n",
    "print(f\"Sales Total null count:\")\n",
    "sales_null.show()\n",
    "print(f\"Stores Total null count:\")\n",
    "stores_null.show()\n",
    "\n",
    "\n",
    "\n"
   ]
  },
  {
   "cell_type": "markdown",
   "id": "8bac7ab2",
   "metadata": {},
   "source": [
    "### 1.2.2 Exploring the data<a class=\"anchor\" id=\"1.1.1\"></a>\n",
    "\n",
    "For each feature, sales, and stores dataframe, write code to show the basic statistics (including count, mean, stddev, min, max, 25 percentile, 50 percentile, 75 percentile) for each numeric column, except for the columns of “Store,” “Dept,\" and \"Date.\""
   ]
  },
  {
   "cell_type": "code",
   "execution_count": 29,
   "id": "f7b22d25",
   "metadata": {},
   "outputs": [
    {
     "name": "stdout",
     "output_type": "stream",
     "text": [
      "+-------+-----------------+-------------------+-----------------+-----------------+------------------+------------------+------------------+------------------+------------------+\n",
      "|summary|      Temperature|         Fuel_Price|        MarkDown1|        MarkDown2|         MarkDown3|         MarkDown4|         MarkDown5|               CPI|      Unemployment|\n",
      "+-------+-----------------+-------------------+-----------------+-----------------+------------------+------------------+------------------+------------------+------------------+\n",
      "|  count|             8190|               8190|             4032|             2921|              3613|              3464|              4050|              7605|              7605|\n",
      "|   mean|59.35619783547044| 3.4059918166662455|7032.371786093377|3384.176592808865| 1760.100175767131|3292.9358917338986| 4132.216426581866|172.46080930610773| 7.826821060575677|\n",
      "| stddev|18.67860685977584|0.43133656955877725|9262.747449416804|8793.583001259363|11276.462186969284| 6792.329889086016|13086.690636701765|39.738346074380225|1.8772586003828553|\n",
      "|    min|            -7.29|              2.472|         -2781.45|          -265.76|           -179.26|              0.22|           -185.17|           126.064|             3.684|\n",
      "|    25%|             45.9|              3.041|          1577.33|            68.88|               6.6|            303.93|            1440.8|         132.36484|             6.634|\n",
      "|    50%|            60.71|              3.512|          4737.51|           364.57|             36.26|           1175.76|           2725.28|         182.71684|             7.806|\n",
      "|    75%|            73.88|              3.743|          8922.92|          2153.35|            163.15|           3309.98|           4832.68|         213.93242|             8.567|\n",
      "|    max|           101.95|              4.468|        103184.98|        104519.54|         149483.31|          67474.85|          771448.1|         228.97646|            14.313|\n",
      "+-------+-----------------+-------------------+-----------------+-----------------+------------------+------------------+------------------+------------------+------------------+\n",
      "\n",
      "+-------+------------------+\n",
      "|summary|      Weekly_Sales|\n",
      "+-------+------------------+\n",
      "|  count|            421570|\n",
      "|   mean|15981.258121355462|\n",
      "| stddev|22711.183511991672|\n",
      "|    min|          -4988.94|\n",
      "|    25%|           2079.39|\n",
      "|    50%|           7610.87|\n",
      "|    75%|          20203.47|\n",
      "|    max|          693099.4|\n",
      "+-------+------------------+\n",
      "\n",
      "+-------+----+-----------------+\n",
      "|summary|Type|             Size|\n",
      "+-------+----+-----------------+\n",
      "|  count|  45|               45|\n",
      "|   mean|null|         130287.6|\n",
      "| stddev|null|63825.27199115923|\n",
      "|    min|   A|            34875|\n",
      "|    25%|null|            70713|\n",
      "|    50%|null|           126512|\n",
      "|    75%|null|           202307|\n",
      "|    max|   C|           219622|\n",
      "+-------+----+-----------------+\n",
      "\n"
     ]
    }
   ],
   "source": [
    "from pyspark.sql.functions import col\n",
    "\n",
    "feat_remove = feat_df.drop('Store','Date')\n",
    "feat_remove.summary().show()\n",
    "\n",
    "sales_remove = sales_df.drop('Store','Date','Dept')\n",
    "sales_remove.summary().show()\n",
    "\n",
    "stores_remove = stores_df.drop('Store')\n",
    "stores_remove.summary().show()"
   ]
  },
  {
   "cell_type": "markdown",
   "id": "0bbc242a",
   "metadata": {},
   "source": [
    "### 1.2.3 Exploring the data<a class=\"anchor\" id=\"1.1.1\"></a>\n",
    "\n",
    "Write code to display a histogram to show the distribution of the weekly sales for stores with log-scale for the frequency axis. Describe what you observe from the plot"
   ]
  },
  {
   "cell_type": "code",
   "execution_count": 30,
   "id": "b02a0746",
   "metadata": {},
   "outputs": [
    {
     "data": {
      "image/png": "[encoded data removed]",
      "text/plain": [
       "<Figure size 640x480 with 1 Axes>"
      ]
     },
     "metadata": {},
     "output_type": "display_data"
    }
   ],
   "source": [
    "import pyspark.sql.functions as F\n",
    "import matplotlib.pyplot as plt\n",
    "\n",
    "# groupby since sales is separated by Departments \n",
    "weekly_sale=sales_df.groupby('Store','Date').agg(F.sum('Weekly_Sales').alias('Weekly_Sales'))\n",
    "sales_pandas = weekly_sale.toPandas()\n",
    "plt.hist(sales_pandas['Weekly_Sales'], log=True, bins=100)  \n",
    "plt.xlabel('Weekly Sales ')\n",
    "plt.ylabel('Frequency (log-scale)')\n",
    "plt.show()"
   ]
  },
  {
   "cell_type": "markdown",
   "id": "11421037",
   "metadata": {},
   "source": [
    "*Ans:*\n",
    "\n",
    "The histogram bins are generally decreasing from left to right and has a sharp decrease between 2 to 2.5 x 10^6 Weekly Sales, it generally indicates that the frequency of weekly sales is decreasing as the value of weekly sales increases. We can conclude that there are more occurrences of low weekly sales values up till (2x10^6) and fewer occurrences of high weekly sales values (more than 2x10^6)."
   ]
  },
  {
   "cell_type": "markdown",
   "id": "5554f875",
   "metadata": {},
   "source": [
    "# 2. Feature extraction & ML Training<a class=\"anchor\" name=\"feat-select\"></a> \n",
    "## 2.1 Prepare label and feature columns"
   ]
  },
  {
   "cell_type": "markdown",
   "id": "ed38db85",
   "metadata": {},
   "source": [
    "### 2.1.1 Prepare label columns<a class=\"anchor\" id=\"1.1.1\"></a>\n",
    "\n",
    "We need a model to predict whether a store achieved the goal at a particular date of week, which means the weekly sales of the store divided by its size is greater than 8.5. Write code to create an additional class label column called \"achieve_goal\".\n",
    "\n",
    "○\tUse 1 to label goal achieved: Weekly_Sales of store/ Size ≥ 8.5\n",
    "○\tUse 0 to label goal not achieved: Weekly_Sales of store/ Size < 8.5"
   ]
  },
  {
   "cell_type": "code",
   "execution_count": 31,
   "id": "d4029437",
   "metadata": {},
   "outputs": [],
   "source": [
    "# Since it is store achieving goal by that date, we can group as such. \n",
    "# isHoliday is added so that it can be more accurate (it may be excluded since a Date is decided to be a Holiday or not)\n",
    "weekly_sales= sales_df.groupby('Store','Date','isHoliday').agg(F.sum('Weekly_Sales').alias('Weekly_Sales'))"
   ]
  },
  {
   "cell_type": "code",
   "execution_count": 32,
   "id": "c9bf4d6c",
   "metadata": {},
   "outputs": [],
   "source": [
    "joined = weekly_sales.join(stores_df, ['Store'])\n",
    "joined = joined.join(feat_df,['Store','Date','isHoliday'])\n",
    "joined=joined.fillna(0) #we cannot work with null values from MD and other columns\n",
    "#filling it with 0 works better (better accuracy) than interpolation or iterativeimp\n",
    "# joined.sort('Store','Date').show()"
   ]
  },
  {
   "cell_type": "code",
   "execution_count": 35,
   "id": "af8bab12",
   "metadata": {},
   "outputs": [],
   "source": [
    "from pyspark.sql.functions import *\n",
    "\n",
    "#populating label values with condition \n",
    "joined=joined.withColumn(\"achieve_goal\", \\\n",
    "   when((joined.Weekly_Sales/joined.Size >= 8.5), lit(1)) \\\n",
    "     .otherwise(lit(0)))\n",
    "\n",
    "# joined.show()\n",
    "\n"
   ]
  },
  {
   "cell_type": "markdown",
   "id": "ba54280a",
   "metadata": {},
   "source": [
    "### 2.1.2 Prepare feature columns<a class=\"anchor\" id=\"1.1.1\"></a>\n",
    "Write code to add additional feature columns: Month, day_of_week, day_of_year and week_of_year (these can be generated from the Date column)."
   ]
  },
  {
   "cell_type": "code",
   "execution_count": 36,
   "id": "39675c17",
   "metadata": {},
   "outputs": [],
   "source": [
    "\n",
    "joined = joined.withColumn(\"Month\", month(\"Date\")) \\\n",
    "       .withColumn(\"day_of_week\", dayofweek(\"Date\")) \\\n",
    "       .withColumn(\"day_of_year\", dayofyear(\"Date\")) \\\n",
    "       .withColumn(\"week_of_year\", weekofyear(\"Date\"))\n",
    "\n",
    "#remove unwanted column \n",
    "\n",
    "# joined.show()\n"
   ]
  },
  {
   "cell_type": "code",
   "execution_count": 37,
   "id": "e0df7978",
   "metadata": {},
   "outputs": [
    {
     "name": "stdout",
     "output_type": "stream",
     "text": [
      "root\n",
      " |-- Store: integer (nullable = true)\n",
      " |-- Date: date (nullable = true)\n",
      " |-- isHoliday: boolean (nullable = true)\n",
      " |-- Weekly_Sales: double (nullable = false)\n",
      " |-- Type: string (nullable = true)\n",
      " |-- Size: integer (nullable = true)\n",
      " |-- Temperature: float (nullable = false)\n",
      " |-- Fuel_Price: float (nullable = false)\n",
      " |-- MarkDown1: float (nullable = false)\n",
      " |-- MarkDown2: float (nullable = false)\n",
      " |-- MarkDown3: float (nullable = false)\n",
      " |-- MarkDown4: float (nullable = false)\n",
      " |-- MarkDown5: float (nullable = false)\n",
      " |-- CPI: float (nullable = false)\n",
      " |-- Unemployment: float (nullable = false)\n",
      " |-- achieve_goal: integer (nullable = false)\n",
      " |-- Month: integer (nullable = true)\n",
      " |-- day_of_week: integer (nullable = true)\n",
      " |-- day_of_year: integer (nullable = true)\n",
      " |-- week_of_year: integer (nullable = true)\n",
      "\n"
     ]
    }
   ],
   "source": [
    "joined.printSchema()"
   ]
  },
  {
   "cell_type": "markdown",
   "id": "92180931",
   "metadata": {},
   "source": [
    "## 2.2 Preparing Spark ML Transformers/Estimators for features, labels and models\n",
    "### 2.2.1 Create Transformers/Estimators for features & ML models<a class=\"anchor\" id=\"1.1.1\"></a>\n",
    "\n",
    "Write code to create Transformers/Estimators for transforming/assembling the selected feature columns"
   ]
  },
  {
   "cell_type": "code",
   "execution_count": 38,
   "id": "29cb24dd",
   "metadata": {},
   "outputs": [],
   "source": [
    "from pyspark.ml.feature import VectorAssembler\n",
    "from pyspark.ml.feature import OneHotEncoder\n",
    "from pyspark.ml.feature import StringIndexer\n",
    "\n",
    "#Date and Weekly_Sales are excluded from the inputFeatures\n",
    "categoryInputCols = ['Type']\n",
    "numericInputCols = ['Store', 'isHoliday', 'Size', 'Fuel_Price', 'MarkDown1', 'MarkDown2','MarkDown3','MarkDown4','MarkDown5'\n",
    "                   ,'CPI','Unemployment','Month','day_of_week','day_of_year','week_of_year']\n",
    "categoryOutputCol = 'achieve_goal'\n",
    "categoryCols = categoryInputCols+[categoryOutputCol]\n",
    "\n",
    "# Define the output columns\n",
    "outputCols=[f'{x}_index' for x in categoryInputCols]\n",
    "outputCols.append('label')\n",
    "\n",
    "# Create the index values for categorical values which in this case is Type\n",
    "inputIndexer = StringIndexer(inputCols=categoryCols, outputCols=outputCols)\n",
    "\n",
    "\n",
    "\n",
    "# redefine inputs for encoder (Type only since label shldnt be included)\n",
    "inputCols_OHE = [x for x in outputCols if x!='label']\n",
    "outputCols_OHE = [f'{x}_vec' for x in categoryInputCols]\n",
    "\n",
    "encoder = OneHotEncoder(inputCols=inputCols_OHE,\n",
    "                        outputCols=outputCols_OHE)\n",
    "\n",
    "#redefine inputs for assembler (encoded columns + numeric)\n",
    "assemblerInputs = outputCols_OHE + numericInputCols\n",
    "\n",
    "assembler = VectorAssembler(inputCols=assemblerInputs,outputCol=\"features\")\n",
    "\n"
   ]
  },
  {
   "cell_type": "markdown",
   "id": "289e341b",
   "metadata": {},
   "source": [
    "Write code to create ML model Estimators for the following two ML models\n",
    "\n",
    "i.\tDecision Tree\n",
    "ii.\tGradient Boosted Tree model"
   ]
  },
  {
   "cell_type": "code",
   "execution_count": 39,
   "id": "fb6b539e",
   "metadata": {},
   "outputs": [],
   "source": [
    "from pyspark.ml.classification import DecisionTreeClassifier\n",
    "dt = DecisionTreeClassifier(featuresCol = 'features', labelCol = 'label', maxDepth = 5)"
   ]
  },
  {
   "cell_type": "code",
   "execution_count": 40,
   "id": "a4d3abe2",
   "metadata": {},
   "outputs": [],
   "source": [
    "from pyspark.ml.classification import GBTClassifier\n",
    "gbt = GBTClassifier(featuresCol = 'features', labelCol = 'label', maxDepth = 5, maxIter = 20)\n",
    "\n",
    "#all models are put at maxDepth 5 for a balance, to avoid overfitting and under. "
   ]
  },
  {
   "cell_type": "markdown",
   "id": "949c1585",
   "metadata": {},
   "source": [
    "### 2.2.2 Prepare pipelines<a class=\"anchor\" id=\"1.1.1\"></a>\n",
    "\n",
    "Write code to include the above Transformers/Estimators into pipelines"
   ]
  },
  {
   "cell_type": "code",
   "execution_count": 41,
   "id": "bf5ad670",
   "metadata": {},
   "outputs": [],
   "source": [
    "from pyspark.ml import Pipeline\n",
    "\n",
    "#Decision Tree Pipeline\n",
    "dt_stages = [inputIndexer,encoder,assembler,dt]\n",
    "dt_pipeline = Pipeline(stages = dt_stages)\n",
    "\n",
    "#Gradient Boosted Tree pipeline\n",
    "gbt_stages = [inputIndexer,encoder,assembler,gbt]\n",
    "gbt_pipeline = Pipeline(stages = gbt_stages)\n"
   ]
  },
  {
   "cell_type": "markdown",
   "id": "fbe1d947",
   "metadata": {},
   "source": [
    "## 2.3 Preparing the training data and testing data\n",
    "### 2.3.1 Preparing the training data and testing data<a class=\"anchor\" id=\"1.1.1\"></a>\n",
    "\n",
    "Write code to split the data for training and testing purpose - use the data in 2010 and 2012 for training purpose and the half data in 2011 year for training and others as testing purpose;"
   ]
  },
  {
   "cell_type": "code",
   "execution_count": 42,
   "id": "868aab07",
   "metadata": {},
   "outputs": [],
   "source": [
    "from pyspark.sql.functions import year\n",
    "\n",
    "# I filter by year first\n",
    "df_2010 = joined.filter(year(\"Date\") == 2010)\n",
    "df_2012 = joined.filter(year(\"Date\") == 2012)\n",
    "df_2011 = joined.filter(year(\"Date\") == 2011)\n",
    "\n",
    "\n",
    "#then separate the 2011 \n",
    "df_2011_train = df_2011.sample(False, 0.5, seed=123)  # 50% of the 2011 data for training\n",
    "test = df_2011.subtract(df_2011_train)  # Remaining 50% for testing\n",
    "\n",
    "# Combine \n",
    "train = df_2010.union(df_2011_train).union(df_2012)\n",
    "\n",
    "\n",
    "# train.show()\n",
    "# test.show()"
   ]
  },
  {
   "cell_type": "markdown",
   "id": "9cbc7e52",
   "metadata": {},
   "source": [
    "## 2.4 Training and evaluating models\n",
    "### 2.4.1 Training  models<a class=\"anchor\" id=\"1.1.1\"></a>\n",
    "\n",
    "Write code to use the corresponding ML Pipelines to train the models on the training data from 2.3. And then use the trained models to perform predictions on the testing data from 2.3"
   ]
  },
  {
   "cell_type": "code",
   "execution_count": 43,
   "id": "8edbe9bc",
   "metadata": {},
   "outputs": [
    {
     "name": "stdout",
     "output_type": "stream",
     "text": [
      "Decision Tree\n",
      "+----------+-----+------------+\n",
      "|prediction|label|achieve_goal|\n",
      "+----------+-----+------------+\n",
      "|       0.0|  0.0|           0|\n",
      "|       0.0|  0.0|           0|\n",
      "|       0.0|  0.0|           0|\n",
      "|       1.0|  1.0|           1|\n",
      "|       1.0|  1.0|           1|\n",
      "|       1.0|  1.0|           1|\n",
      "|       1.0|  1.0|           1|\n",
      "|       0.0|  0.0|           0|\n",
      "|       0.0|  0.0|           0|\n",
      "|       1.0|  1.0|           1|\n",
      "|       1.0|  1.0|           1|\n",
      "|       0.0|  0.0|           0|\n",
      "|       1.0|  1.0|           1|\n",
      "|       0.0|  0.0|           0|\n",
      "|       0.0|  0.0|           0|\n",
      "|       0.0|  0.0|           0|\n",
      "|       1.0|  0.0|           0|\n",
      "|       0.0|  0.0|           0|\n",
      "|       1.0|  1.0|           1|\n",
      "|       1.0|  0.0|           0|\n",
      "+----------+-----+------------+\n",
      "only showing top 20 rows\n",
      "\n",
      "Gradient Boosted Tree\n",
      "+----------+-----+------------+\n",
      "|prediction|label|achieve_goal|\n",
      "+----------+-----+------------+\n",
      "|       0.0|  0.0|           0|\n",
      "|       0.0|  0.0|           0|\n",
      "|       0.0|  0.0|           0|\n",
      "|       0.0|  1.0|           1|\n",
      "|       1.0|  1.0|           1|\n",
      "|       1.0|  1.0|           1|\n",
      "|       1.0|  1.0|           1|\n",
      "|       0.0|  0.0|           0|\n",
      "|       0.0|  0.0|           0|\n",
      "|       0.0|  1.0|           1|\n",
      "|       1.0|  1.0|           1|\n",
      "|       0.0|  0.0|           0|\n",
      "|       1.0|  1.0|           1|\n",
      "|       0.0|  0.0|           0|\n",
      "|       0.0|  0.0|           0|\n",
      "|       0.0|  0.0|           0|\n",
      "|       0.0|  0.0|           0|\n",
      "|       0.0|  0.0|           0|\n",
      "|       1.0|  1.0|           1|\n",
      "|       0.0|  0.0|           0|\n",
      "+----------+-----+------------+\n",
      "only showing top 20 rows\n",
      "\n"
     ]
    }
   ],
   "source": [
    "dt_pipelineModel = dt_pipeline.fit(train)\n",
    "dt_predictions = dt_pipelineModel.transform(test)\n",
    "\n",
    "gbt_pipelineModel = gbt_pipeline.fit(train)\n",
    "gbt_predictions = gbt_pipelineModel.transform(test)\n",
    "\n",
    "print(\"Decision Tree\")\n",
    "dt_predictions.select('prediction','label','achieve_goal').show()\n",
    "print(\"Gradient Boosted Tree\")\n",
    "gbt_predictions.select('prediction','label','achieve_goal').show()"
   ]
  },
  {
   "cell_type": "markdown",
   "id": "b5148ae4",
   "metadata": {},
   "source": [
    "### 2.4.2 Evaluating models<a class=\"anchor\" id=\"1.1.1\"></a>\n",
    "\n",
    "To measure classification performance, write code to display the count of each combination of above-threshold/ below-threshold label and prediction label in formats like the screenshot below. Compute the AUC, accuracy, recall, and precision for the above-threshold/below-threshold label from each model testing result using pyspark MLlib/ML APIs"
   ]
  },
  {
   "cell_type": "code",
   "execution_count": 44,
   "id": "35887af6",
   "metadata": {},
   "outputs": [],
   "source": [
    "#this is referenced from Lab 6 \n",
    "def compute(predictions):\n",
    "    #instead of labels, achieve_goal is used to show the format of the screenshot\n",
    "    TN = predictions.filter('prediction = 0 AND achieve_goal = 0').count()\n",
    "    TP = predictions.filter('prediction = 1 AND achieve_goal = 1').count()\n",
    "    FN = predictions.filter('prediction = 0 AND achieve_goal = 1').count()\n",
    "    FP = predictions.filter('prediction = 1 AND achieve_goal = 0').count()\n",
    "\n",
    "    predictions.groupBy('achieve_goal', 'prediction').count().show()\n",
    "\n",
    "    accuracy = (TP+TN)/(TP+TN+FN+FP)\n",
    "    precision = (TP)/(TP+FP)\n",
    "    recall = (TP)/(TP+FN)\n",
    "\n",
    "    print(f\"Accuracy:{accuracy}\")\n",
    "    print(f\"Precision:{precision}\")\n",
    "    print(f\"Recall:{recall}\")\n",
    "\n"
   ]
  },
  {
   "cell_type": "code",
   "execution_count": 45,
   "id": "b67bc294",
   "metadata": {},
   "outputs": [
    {
     "name": "stdout",
     "output_type": "stream",
     "text": [
      "+------------+----------+-----+\n",
      "|achieve_goal|prediction|count|\n",
      "+------------+----------+-----+\n",
      "|           1|       0.0|   82|\n",
      "|           0|       0.0|  535|\n",
      "|           1|       1.0|  436|\n",
      "|           0|       1.0|  129|\n",
      "+------------+----------+-----+\n",
      "\n",
      "Accuracy:0.8214890016920474\n",
      "Precision:0.7716814159292036\n",
      "Recall:0.8416988416988417\n",
      "Area under ROC (AUC) on  Decision Tree's test data:  0.7596437875052332\n",
      "+------------+----------+-----+\n",
      "|achieve_goal|prediction|count|\n",
      "+------------+----------+-----+\n",
      "|           1|       0.0|   46|\n",
      "|           0|       0.0|  616|\n",
      "|           1|       1.0|  472|\n",
      "|           0|       1.0|   48|\n",
      "+------------+----------+-----+\n",
      "\n",
      "Accuracy:0.9204737732656514\n",
      "Precision:0.9076923076923077\n",
      "Recall:0.9111969111969112\n",
      "Area under ROC (AUC) on Gradient Boosted Tree's test data:  0.9738175675675674\n"
     ]
    }
   ],
   "source": [
    "from pyspark.ml.evaluation import BinaryClassificationEvaluator\n",
    "evaluator = BinaryClassificationEvaluator(labelCol=\"achieve_goal\", metricName=\"areaUnderROC\")\n",
    "dt_auc = evaluator.evaluate(dt_predictions)\n",
    "compute(dt_predictions)\n",
    "print(\"Area under ROC (AUC) on  Decision Tree's test data: \", dt_auc)\n",
    "\n",
    "\n",
    "gbt_auc = evaluator.evaluate(gbt_predictions)\n",
    "compute(gbt_predictions)\n",
    "print(\"Area under ROC (AUC) on Gradient Boosted Tree's test data: \", gbt_auc)\n"
   ]
  },
  {
   "cell_type": "markdown",
   "id": "7f233cca",
   "metadata": {},
   "source": [
    "Discuss which one is the better model based on performance metric above, and persist the better model"
   ]
  },
  {
   "cell_type": "markdown",
   "id": "49d1be4f",
   "metadata": {},
   "source": [
    "*Ans:* \n",
    "\n",
    "Gradient Boosted Tree (GBT) has a higher AUC than Decision Tree (DT), thus GBT performs better than DT. AUC evaluates how well a model distinguish between negative and positive classes, it ranges from 0 to 1 with the higher value being better at distinguishing. This shows that GBT is better at distinguishing as its AUC score is much closer to 1 (0.973) while DT is much lesser (0.760) which suggests it may have some overlap between the classes. \n",
    "\n",
    "The accuracy, precision and recall for GBT are higher than the corresponding metrics for DT. This indicates that the GBT model is better at predicting positive cases (achieve_goal = 1) correctly.\n",
    "\n",
    "We can further see this trend in looking at the table generated. DT has higher False Positive than GBT, with GBT's True Positive is much higher than DT.\n",
    "\n",
    "Therefore, we should persist the GBT model as the better performing model.\n",
    "\n"
   ]
  },
  {
   "cell_type": "markdown",
   "id": "fdcf5089",
   "metadata": {},
   "source": [
    "Draw a ROC plot for any model you want."
   ]
  },
  {
   "cell_type": "markdown",
   "id": "2a21f8a5",
   "metadata": {},
   "source": [
    "*Ans:* Decision Tree ROC is drawn here. "
   ]
  },
  {
   "cell_type": "code",
   "execution_count": 46,
   "id": "2a3bb11d",
   "metadata": {},
   "outputs": [
    {
     "name": "stdout",
     "output_type": "stream",
     "text": [
      "Area Under ROC: 0.7596437875052332\n"
     ]
    },
    {
     "data": {
      "image/png": "[encoded data removed]",
      "text/plain": [
       "<Figure size 640x480 with 1 Axes>"
      ]
     },
     "metadata": {},
     "output_type": "display_data"
    }
   ],
   "source": [
    "import matplotlib.pyplot as plt\n",
    "from sklearn.metrics import roc_curve, auc\n",
    "\n",
    "print(\"Area Under ROC: \" + str(dt_auc))\n",
    "\n",
    "# Extract probability and label columns\n",
    "label = dt_predictions.select(['achieve_goal']).collect()\n",
    "prob = dt_predictions.select(['probability']).rdd.map(lambda x: x[0][1]).collect()\n",
    "\n",
    "# Compute false positive rate, true positive rate\n",
    "FP, TP, _ = roc_curve(label, prob)\n",
    "\n",
    "# Plot the ROC curve\n",
    "plt.figure()\n",
    "plt.plot(FP, TP, color='orange')\n",
    "plt.xlabel('False Positive Rate')\n",
    "plt.ylabel('True Positive Rate')\n",
    "plt.title('Decision Tree ROC Curve')\n",
    "\n",
    "plt.show()\n"
   ]
  },
  {
   "cell_type": "code",
   "execution_count": null,
   "id": "0cd79803",
   "metadata": {},
   "outputs": [],
   "source": []
  }
 ],
 "metadata": {
  "kernelspec": {
   "display_name": "Python 3 (ipykernel)",
   "language": "python",
   "name": "python3"
  },
  "language_info": {
   "codemirror_mode": {
    "name": "ipython",
    "version": 3
   },
   "file_extension": ".py",
   "mimetype": "text/x-python",
   "name": "python",
   "nbconvert_exporter": "python",
   "pygments_lexer": "ipython3",
   "version": "3.8.15"
  }
 },
 "nbformat": 4,
 "nbformat_minor": 5
}
